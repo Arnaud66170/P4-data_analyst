{
 "cells": [
  {
   "cell_type": "markdown",
   "id": "385a07b6",
   "metadata": {},
   "source": [
    "# <u>PROJET 4</u>\n"
   ]
  },
  {
   "cell_type": "markdown",
   "id": "74d6642b",
   "metadata": {},
   "source": [
    "## 1 - Introduction"
   ]
  },
  {
   "cell_type": "markdown",
   "id": "fdfd4c40",
   "metadata": {},
   "source": [
    "### 1.1 Importation des librairies"
   ]
  },
  {
   "cell_type": "code",
   "execution_count": 104,
   "id": "88ace61a",
   "metadata": {},
   "outputs": [],
   "source": [
    "import pandas as pd\n",
    "import numpy as np\n",
    "import matplotlib.pyplot as plt\n",
    "import seaborn as sns"
   ]
  },
  {
   "cell_type": "markdown",
   "id": "17ae392d",
   "metadata": {},
   "source": [
    "### 1.2 Importation des fichiers CSV"
   ]
  },
  {
   "cell_type": "code",
   "execution_count": 105,
   "id": "46ba2dce",
   "metadata": {},
   "outputs": [],
   "source": [
    "sousnut = pd.read_csv('sous_nutrition.csv')\n",
    "dispo = pd.read_csv('dispo_alimentaire.csv')\n",
    "populations = pd.read_csv('population.csv')\n",
    "aides = pd.read_csv('aide_alimentaire.csv')"
   ]
  },
  {
   "cell_type": "markdown",
   "id": "f8632750",
   "metadata": {},
   "source": [
    "## 1.3  Dataframe \"sousnut\""
   ]
  },
  {
   "cell_type": "markdown",
   "id": "6d0085b2",
   "metadata": {},
   "source": [
    "### 1.3.1 Consultation des données de sousnut"
   ]
  },
  {
   "cell_type": "markdown",
   "id": "a00ba7d3",
   "metadata": {},
   "source": [
    "#### Je regarde le contenu global du dataframe et ses séries"
   ]
  },
  {
   "cell_type": "code",
   "execution_count": 106,
   "id": "a605d765",
   "metadata": {},
   "outputs": [
    {
     "data": {
      "text/html": [
       "<div>\n",
       "<style scoped>\n",
       "    .dataframe tbody tr th:only-of-type {\n",
       "        vertical-align: middle;\n",
       "    }\n",
       "\n",
       "    .dataframe tbody tr th {\n",
       "        vertical-align: top;\n",
       "    }\n",
       "\n",
       "    .dataframe thead th {\n",
       "        text-align: right;\n",
       "    }\n",
       "</style>\n",
       "<table border=\"1\" class=\"dataframe\">\n",
       "  <thead>\n",
       "    <tr style=\"text-align: right;\">\n",
       "      <th></th>\n",
       "      <th>Zone</th>\n",
       "      <th>Année</th>\n",
       "      <th>Valeur</th>\n",
       "    </tr>\n",
       "  </thead>\n",
       "  <tbody>\n",
       "    <tr>\n",
       "      <th>0</th>\n",
       "      <td>Afghanistan</td>\n",
       "      <td>2012-2014</td>\n",
       "      <td>8.6</td>\n",
       "    </tr>\n",
       "    <tr>\n",
       "      <th>1</th>\n",
       "      <td>Afghanistan</td>\n",
       "      <td>2013-2015</td>\n",
       "      <td>8.8</td>\n",
       "    </tr>\n",
       "    <tr>\n",
       "      <th>2</th>\n",
       "      <td>Afghanistan</td>\n",
       "      <td>2014-2016</td>\n",
       "      <td>8.9</td>\n",
       "    </tr>\n",
       "    <tr>\n",
       "      <th>3</th>\n",
       "      <td>Afghanistan</td>\n",
       "      <td>2015-2017</td>\n",
       "      <td>9.7</td>\n",
       "    </tr>\n",
       "    <tr>\n",
       "      <th>4</th>\n",
       "      <td>Afghanistan</td>\n",
       "      <td>2016-2018</td>\n",
       "      <td>10.5</td>\n",
       "    </tr>\n",
       "  </tbody>\n",
       "</table>\n",
       "</div>"
      ],
      "text/plain": [
       "          Zone      Année Valeur\n",
       "0  Afghanistan  2012-2014    8.6\n",
       "1  Afghanistan  2013-2015    8.8\n",
       "2  Afghanistan  2014-2016    8.9\n",
       "3  Afghanistan  2015-2017    9.7\n",
       "4  Afghanistan  2016-2018   10.5"
      ]
     },
     "execution_count": 106,
     "metadata": {},
     "output_type": "execute_result"
    }
   ],
   "source": [
    "sousnut.head()"
   ]
  },
  {
   "cell_type": "markdown",
   "id": "0dc8710c",
   "metadata": {},
   "source": [
    "#### Je consulte le type de données qui compose le dataframe"
   ]
  },
  {
   "cell_type": "code",
   "execution_count": 107,
   "id": "1a653d81",
   "metadata": {},
   "outputs": [
    {
     "data": {
      "text/plain": [
       "Zone      object\n",
       "Année     object\n",
       "Valeur    object\n",
       "dtype: object"
      ]
     },
     "execution_count": 107,
     "metadata": {},
     "output_type": "execute_result"
    }
   ],
   "source": [
    "sousnut.dtypes"
   ]
  },
  {
   "cell_type": "markdown",
   "id": "0ae82c1e",
   "metadata": {},
   "source": [
    "#### Les données composant les séries du dataframe sont  en totalité de type \"object\", du fait de leur mixité.\n",
    "#### Il me faudra donc modifier ces dernières ultérieurement"
   ]
  },
  {
   "cell_type": "markdown",
   "id": "fd2dbab4",
   "metadata": {},
   "source": [
    "### 1.3.2 Renommage des séries"
   ]
  },
  {
   "cell_type": "markdown",
   "id": "a494e5da",
   "metadata": {},
   "source": [
    "#### Je renomme les séries des dataframes afin de leur donner une omogénéité pour leur utilisation à venir"
   ]
  },
  {
   "cell_type": "code",
   "execution_count": 108,
   "id": "a7ec3cd5",
   "metadata": {},
   "outputs": [
    {
     "data": {
      "text/html": [
       "<div>\n",
       "<style scoped>\n",
       "    .dataframe tbody tr th:only-of-type {\n",
       "        vertical-align: middle;\n",
       "    }\n",
       "\n",
       "    .dataframe tbody tr th {\n",
       "        vertical-align: top;\n",
       "    }\n",
       "\n",
       "    .dataframe thead th {\n",
       "        text-align: right;\n",
       "    }\n",
       "</style>\n",
       "<table border=\"1\" class=\"dataframe\">\n",
       "  <thead>\n",
       "    <tr style=\"text-align: right;\">\n",
       "      <th></th>\n",
       "      <th>pays</th>\n",
       "      <th>année</th>\n",
       "      <th>population</th>\n",
       "    </tr>\n",
       "  </thead>\n",
       "  <tbody>\n",
       "    <tr>\n",
       "      <th>0</th>\n",
       "      <td>Afghanistan</td>\n",
       "      <td>2012-2014</td>\n",
       "      <td>8.6</td>\n",
       "    </tr>\n",
       "    <tr>\n",
       "      <th>1</th>\n",
       "      <td>Afghanistan</td>\n",
       "      <td>2013-2015</td>\n",
       "      <td>8.8</td>\n",
       "    </tr>\n",
       "    <tr>\n",
       "      <th>2</th>\n",
       "      <td>Afghanistan</td>\n",
       "      <td>2014-2016</td>\n",
       "      <td>8.9</td>\n",
       "    </tr>\n",
       "    <tr>\n",
       "      <th>3</th>\n",
       "      <td>Afghanistan</td>\n",
       "      <td>2015-2017</td>\n",
       "      <td>9.7</td>\n",
       "    </tr>\n",
       "    <tr>\n",
       "      <th>4</th>\n",
       "      <td>Afghanistan</td>\n",
       "      <td>2016-2018</td>\n",
       "      <td>10.5</td>\n",
       "    </tr>\n",
       "  </tbody>\n",
       "</table>\n",
       "</div>"
      ],
      "text/plain": [
       "          pays      année population\n",
       "0  Afghanistan  2012-2014        8.6\n",
       "1  Afghanistan  2013-2015        8.8\n",
       "2  Afghanistan  2014-2016        8.9\n",
       "3  Afghanistan  2015-2017        9.7\n",
       "4  Afghanistan  2016-2018       10.5"
      ]
     },
     "execution_count": 108,
     "metadata": {},
     "output_type": "execute_result"
    }
   ],
   "source": [
    "sousnut.rename(\n",
    "    columns   = {\n",
    "        \"Zone\"  : \"pays\",\n",
    "        \"Année\" : \"année\",\n",
    "        \"Valeur\": \"population\"\n",
    "        },\n",
    "    inplace = True\n",
    ")\n",
    "# Vérification de la bonne exécution du renommage des séries du dataframe \"sousnut\".\n",
    "\n",
    "sousnut.head()"
   ]
  },
  {
   "cell_type": "markdown",
   "id": "61792971",
   "metadata": {},
   "source": [
    "### 1.3.3 Modification des valeurs de la série \"année\" depuis le format de période \"xxxx-xxxx\" au format année \"xxxx\""
   ]
  },
  {
   "cell_type": "code",
   "execution_count": 109,
   "id": "05e2c857",
   "metadata": {},
   "outputs": [],
   "source": [
    "# Création de la fonction \"année_format\" qui définira la valeur de chaque année voulue en fonction des valeurs rencontrées \n",
    "# et désignées\n",
    "\n",
    "def année_format(année_code):\n",
    "    if année_code == \"2012-2014\":\n",
    "        return 2013\n",
    "    \n",
    "    elif année_code == \"2013-2015\":\n",
    "        return 2014\n",
    "    \n",
    "    elif année_code == \"2014-2016\":\n",
    "        return 2015\n",
    "    \n",
    "    elif année_code == \"2015-2017\":\n",
    "        return 2016\n",
    "    \n",
    "    elif année_code == \"2016-2018\":\n",
    "        return 2017\n",
    "    \n",
    "    elif année_code == \"2017-2019\":\n",
    "        return 2018\n",
    "\n",
    "# Application de la fonction \"année_format\" par ligne avec .apply\n",
    "\n",
    "sousnut[\"année\"] = sousnut[\"année\"].apply(année_format)\n"
   ]
  },
  {
   "cell_type": "markdown",
   "id": "2048344c",
   "metadata": {},
   "source": [
    "##### vérification du bon fonctionnement de la fonction \"année_format\""
   ]
  },
  {
   "cell_type": "code",
   "execution_count": 110,
   "id": "fa972fc3",
   "metadata": {},
   "outputs": [
    {
     "data": {
      "text/html": [
       "<div>\n",
       "<style scoped>\n",
       "    .dataframe tbody tr th:only-of-type {\n",
       "        vertical-align: middle;\n",
       "    }\n",
       "\n",
       "    .dataframe tbody tr th {\n",
       "        vertical-align: top;\n",
       "    }\n",
       "\n",
       "    .dataframe thead th {\n",
       "        text-align: right;\n",
       "    }\n",
       "</style>\n",
       "<table border=\"1\" class=\"dataframe\">\n",
       "  <thead>\n",
       "    <tr style=\"text-align: right;\">\n",
       "      <th></th>\n",
       "      <th>pays</th>\n",
       "      <th>année</th>\n",
       "      <th>population</th>\n",
       "    </tr>\n",
       "  </thead>\n",
       "  <tbody>\n",
       "    <tr>\n",
       "      <th>0</th>\n",
       "      <td>Afghanistan</td>\n",
       "      <td>2013</td>\n",
       "      <td>8.6</td>\n",
       "    </tr>\n",
       "    <tr>\n",
       "      <th>1</th>\n",
       "      <td>Afghanistan</td>\n",
       "      <td>2014</td>\n",
       "      <td>8.8</td>\n",
       "    </tr>\n",
       "    <tr>\n",
       "      <th>2</th>\n",
       "      <td>Afghanistan</td>\n",
       "      <td>2015</td>\n",
       "      <td>8.9</td>\n",
       "    </tr>\n",
       "    <tr>\n",
       "      <th>3</th>\n",
       "      <td>Afghanistan</td>\n",
       "      <td>2016</td>\n",
       "      <td>9.7</td>\n",
       "    </tr>\n",
       "    <tr>\n",
       "      <th>4</th>\n",
       "      <td>Afghanistan</td>\n",
       "      <td>2017</td>\n",
       "      <td>10.5</td>\n",
       "    </tr>\n",
       "  </tbody>\n",
       "</table>\n",
       "</div>"
      ],
      "text/plain": [
       "          pays  année population\n",
       "0  Afghanistan   2013        8.6\n",
       "1  Afghanistan   2014        8.8\n",
       "2  Afghanistan   2015        8.9\n",
       "3  Afghanistan   2016        9.7\n",
       "4  Afghanistan   2017       10.5"
      ]
     },
     "execution_count": 110,
     "metadata": {},
     "output_type": "execute_result"
    }
   ],
   "source": [
    "sousnut.head()"
   ]
  },
  {
   "cell_type": "markdown",
   "id": "320fcf38",
   "metadata": {},
   "source": [
    "#### 1.3.4 Modification des types de données"
   ]
  },
  {
   "cell_type": "markdown",
   "id": "81700265",
   "metadata": {},
   "source": [
    "##### 1.3.4.1 Remplacement des valeurs \"<0.1\" par 0.05 pour passage de la série \"population\" en type \"float\""
   ]
  },
  {
   "cell_type": "code",
   "execution_count": 8,
   "id": "f722eaee",
   "metadata": {},
   "outputs": [],
   "source": [
    "sousnut[\"population\"]= sousnut[\"population\"].str.replace(\"<0.1\",\"0.05\",regex=True)\n"
   ]
  },
  {
   "cell_type": "markdown",
   "id": "50b3132c",
   "metadata": {},
   "source": [
    "#### 1.3.4.2 Remplacement des valeurs manquantes par la valeur 0.0"
   ]
  },
  {
   "cell_type": "code",
   "execution_count": 9,
   "id": "f84bcd6a",
   "metadata": {},
   "outputs": [],
   "source": [
    "sousnut.fillna(0.0, inplace=True)"
   ]
  },
  {
   "cell_type": "code",
   "execution_count": 10,
   "id": "44b48721",
   "metadata": {},
   "outputs": [
    {
     "data": {
      "text/plain": [
       "<bound method DataFrame.info of              pays  année population\n",
       "0     Afghanistan   2013        8.6\n",
       "1     Afghanistan   2014        8.8\n",
       "2     Afghanistan   2015        8.9\n",
       "3     Afghanistan   2016        9.7\n",
       "4     Afghanistan   2017       10.5\n",
       "...           ...    ...        ...\n",
       "1213     Zimbabwe   2014        0.0\n",
       "1214     Zimbabwe   2015        0.0\n",
       "1215     Zimbabwe   2016        0.0\n",
       "1216     Zimbabwe   2017        0.0\n",
       "1217     Zimbabwe   2018        0.0\n",
       "\n",
       "[1218 rows x 3 columns]>"
      ]
     },
     "execution_count": 10,
     "metadata": {},
     "output_type": "execute_result"
    }
   ],
   "source": [
    "sousnut.info"
   ]
  },
  {
   "cell_type": "markdown",
   "id": "83050ae5",
   "metadata": {},
   "source": [
    "##### 1.3.4.3 modification des types de données pour les séries \"année\" et \"population\""
   ]
  },
  {
   "cell_type": "code",
   "execution_count": 11,
   "id": "3c8aa5e4",
   "metadata": {},
   "outputs": [],
   "source": [
    "sousnut[\"année\"] = sousnut.année.astype(int)\n",
    "sousnut[\"population\"] = sousnut.population.astype(float)"
   ]
  },
  {
   "cell_type": "markdown",
   "id": "2c555845",
   "metadata": {},
   "source": [
    "#### Vérification du changement de types de données"
   ]
  },
  {
   "cell_type": "code",
   "execution_count": 12,
   "id": "582ffcd0",
   "metadata": {
    "scrolled": true
   },
   "outputs": [
    {
     "data": {
      "text/plain": [
       "pays           object\n",
       "année           int32\n",
       "population    float64\n",
       "dtype: object"
      ]
     },
     "execution_count": 12,
     "metadata": {},
     "output_type": "execute_result"
    }
   ],
   "source": [
    "sousnut.dtypes"
   ]
  },
  {
   "cell_type": "markdown",
   "id": "c06d6aef",
   "metadata": {},
   "source": [
    "##### 1.3.4.4 passage des valeurs de \"population\" en unités"
   ]
  },
  {
   "cell_type": "code",
   "execution_count": 13,
   "id": "87ae8d74",
   "metadata": {},
   "outputs": [
    {
     "data": {
      "text/html": [
       "<div>\n",
       "<style scoped>\n",
       "    .dataframe tbody tr th:only-of-type {\n",
       "        vertical-align: middle;\n",
       "    }\n",
       "\n",
       "    .dataframe tbody tr th {\n",
       "        vertical-align: top;\n",
       "    }\n",
       "\n",
       "    .dataframe thead th {\n",
       "        text-align: right;\n",
       "    }\n",
       "</style>\n",
       "<table border=\"1\" class=\"dataframe\">\n",
       "  <thead>\n",
       "    <tr style=\"text-align: right;\">\n",
       "      <th></th>\n",
       "      <th>pays</th>\n",
       "      <th>année</th>\n",
       "      <th>population</th>\n",
       "    </tr>\n",
       "  </thead>\n",
       "  <tbody>\n",
       "    <tr>\n",
       "      <th>0</th>\n",
       "      <td>Afghanistan</td>\n",
       "      <td>2013</td>\n",
       "      <td>8600000.0</td>\n",
       "    </tr>\n",
       "    <tr>\n",
       "      <th>1</th>\n",
       "      <td>Afghanistan</td>\n",
       "      <td>2014</td>\n",
       "      <td>8800000.0</td>\n",
       "    </tr>\n",
       "    <tr>\n",
       "      <th>2</th>\n",
       "      <td>Afghanistan</td>\n",
       "      <td>2015</td>\n",
       "      <td>8900000.0</td>\n",
       "    </tr>\n",
       "    <tr>\n",
       "      <th>3</th>\n",
       "      <td>Afghanistan</td>\n",
       "      <td>2016</td>\n",
       "      <td>9700000.0</td>\n",
       "    </tr>\n",
       "    <tr>\n",
       "      <th>4</th>\n",
       "      <td>Afghanistan</td>\n",
       "      <td>2017</td>\n",
       "      <td>10500000.0</td>\n",
       "    </tr>\n",
       "    <tr>\n",
       "      <th>...</th>\n",
       "      <td>...</td>\n",
       "      <td>...</td>\n",
       "      <td>...</td>\n",
       "    </tr>\n",
       "    <tr>\n",
       "      <th>1213</th>\n",
       "      <td>Zimbabwe</td>\n",
       "      <td>2014</td>\n",
       "      <td>0.0</td>\n",
       "    </tr>\n",
       "    <tr>\n",
       "      <th>1214</th>\n",
       "      <td>Zimbabwe</td>\n",
       "      <td>2015</td>\n",
       "      <td>0.0</td>\n",
       "    </tr>\n",
       "    <tr>\n",
       "      <th>1215</th>\n",
       "      <td>Zimbabwe</td>\n",
       "      <td>2016</td>\n",
       "      <td>0.0</td>\n",
       "    </tr>\n",
       "    <tr>\n",
       "      <th>1216</th>\n",
       "      <td>Zimbabwe</td>\n",
       "      <td>2017</td>\n",
       "      <td>0.0</td>\n",
       "    </tr>\n",
       "    <tr>\n",
       "      <th>1217</th>\n",
       "      <td>Zimbabwe</td>\n",
       "      <td>2018</td>\n",
       "      <td>0.0</td>\n",
       "    </tr>\n",
       "  </tbody>\n",
       "</table>\n",
       "<p>1218 rows × 3 columns</p>\n",
       "</div>"
      ],
      "text/plain": [
       "             pays  année  population\n",
       "0     Afghanistan   2013   8600000.0\n",
       "1     Afghanistan   2014   8800000.0\n",
       "2     Afghanistan   2015   8900000.0\n",
       "3     Afghanistan   2016   9700000.0\n",
       "4     Afghanistan   2017  10500000.0\n",
       "...           ...    ...         ...\n",
       "1213     Zimbabwe   2014         0.0\n",
       "1214     Zimbabwe   2015         0.0\n",
       "1215     Zimbabwe   2016         0.0\n",
       "1216     Zimbabwe   2017         0.0\n",
       "1217     Zimbabwe   2018         0.0\n",
       "\n",
       "[1218 rows x 3 columns]"
      ]
     },
     "execution_count": 13,
     "metadata": {},
     "output_type": "execute_result"
    }
   ],
   "source": [
    "sousnut[\"population\"] =sousnut[\"population\"]*1000000\n",
    "\n",
    "# Appel du dataframe pour vérification du passage en unités de la série \"population\"\n",
    "sousnut"
   ]
  },
  {
   "cell_type": "markdown",
   "id": "e2c0c5aa",
   "metadata": {},
   "source": [
    "#### passage des valeurs de la série \"population\" au type \"int\""
   ]
  },
  {
   "cell_type": "code",
   "execution_count": 14,
   "id": "d1612427",
   "metadata": {},
   "outputs": [],
   "source": [
    "sousnut[\"population\"] = sousnut.population.astype(int)"
   ]
  },
  {
   "cell_type": "markdown",
   "id": "9aceaf23",
   "metadata": {},
   "source": [
    "#### Appel du dataframe pour vérification du passage de la série \"population\" au format \"int\""
   ]
  },
  {
   "cell_type": "code",
   "execution_count": 15,
   "id": "4d062f18",
   "metadata": {},
   "outputs": [
    {
     "data": {
      "text/html": [
       "<div>\n",
       "<style scoped>\n",
       "    .dataframe tbody tr th:only-of-type {\n",
       "        vertical-align: middle;\n",
       "    }\n",
       "\n",
       "    .dataframe tbody tr th {\n",
       "        vertical-align: top;\n",
       "    }\n",
       "\n",
       "    .dataframe thead th {\n",
       "        text-align: right;\n",
       "    }\n",
       "</style>\n",
       "<table border=\"1\" class=\"dataframe\">\n",
       "  <thead>\n",
       "    <tr style=\"text-align: right;\">\n",
       "      <th></th>\n",
       "      <th>pays</th>\n",
       "      <th>année</th>\n",
       "      <th>population</th>\n",
       "    </tr>\n",
       "  </thead>\n",
       "  <tbody>\n",
       "    <tr>\n",
       "      <th>0</th>\n",
       "      <td>Afghanistan</td>\n",
       "      <td>2013</td>\n",
       "      <td>8600000</td>\n",
       "    </tr>\n",
       "    <tr>\n",
       "      <th>1</th>\n",
       "      <td>Afghanistan</td>\n",
       "      <td>2014</td>\n",
       "      <td>8800000</td>\n",
       "    </tr>\n",
       "    <tr>\n",
       "      <th>2</th>\n",
       "      <td>Afghanistan</td>\n",
       "      <td>2015</td>\n",
       "      <td>8900000</td>\n",
       "    </tr>\n",
       "    <tr>\n",
       "      <th>3</th>\n",
       "      <td>Afghanistan</td>\n",
       "      <td>2016</td>\n",
       "      <td>9700000</td>\n",
       "    </tr>\n",
       "    <tr>\n",
       "      <th>4</th>\n",
       "      <td>Afghanistan</td>\n",
       "      <td>2017</td>\n",
       "      <td>10500000</td>\n",
       "    </tr>\n",
       "    <tr>\n",
       "      <th>...</th>\n",
       "      <td>...</td>\n",
       "      <td>...</td>\n",
       "      <td>...</td>\n",
       "    </tr>\n",
       "    <tr>\n",
       "      <th>1213</th>\n",
       "      <td>Zimbabwe</td>\n",
       "      <td>2014</td>\n",
       "      <td>0</td>\n",
       "    </tr>\n",
       "    <tr>\n",
       "      <th>1214</th>\n",
       "      <td>Zimbabwe</td>\n",
       "      <td>2015</td>\n",
       "      <td>0</td>\n",
       "    </tr>\n",
       "    <tr>\n",
       "      <th>1215</th>\n",
       "      <td>Zimbabwe</td>\n",
       "      <td>2016</td>\n",
       "      <td>0</td>\n",
       "    </tr>\n",
       "    <tr>\n",
       "      <th>1216</th>\n",
       "      <td>Zimbabwe</td>\n",
       "      <td>2017</td>\n",
       "      <td>0</td>\n",
       "    </tr>\n",
       "    <tr>\n",
       "      <th>1217</th>\n",
       "      <td>Zimbabwe</td>\n",
       "      <td>2018</td>\n",
       "      <td>0</td>\n",
       "    </tr>\n",
       "  </tbody>\n",
       "</table>\n",
       "<p>1218 rows × 3 columns</p>\n",
       "</div>"
      ],
      "text/plain": [
       "             pays  année  population\n",
       "0     Afghanistan   2013     8600000\n",
       "1     Afghanistan   2014     8800000\n",
       "2     Afghanistan   2015     8900000\n",
       "3     Afghanistan   2016     9700000\n",
       "4     Afghanistan   2017    10500000\n",
       "...           ...    ...         ...\n",
       "1213     Zimbabwe   2014           0\n",
       "1214     Zimbabwe   2015           0\n",
       "1215     Zimbabwe   2016           0\n",
       "1216     Zimbabwe   2017           0\n",
       "1217     Zimbabwe   2018           0\n",
       "\n",
       "[1218 rows x 3 columns]"
      ]
     },
     "execution_count": 15,
     "metadata": {},
     "output_type": "execute_result"
    }
   ],
   "source": [
    "sousnut"
   ]
  },
  {
   "cell_type": "markdown",
   "id": "f08b0530",
   "metadata": {},
   "source": [
    "##### 1.3.4.5 Suppression des valeurs manquantes  NAN"
   ]
  },
  {
   "cell_type": "code",
   "execution_count": 16,
   "id": "83460b21",
   "metadata": {},
   "outputs": [],
   "source": [
    "sousnut.dropna(inplace = True)"
   ]
  },
  {
   "cell_type": "markdown",
   "id": "85132a74",
   "metadata": {},
   "source": [
    "#### 1.3.4.6 Vérification d'absence de valeur NULL"
   ]
  },
  {
   "cell_type": "code",
   "execution_count": 17,
   "id": "fd070381",
   "metadata": {},
   "outputs": [
    {
     "data": {
      "text/plain": [
       "pays          0\n",
       "année         0\n",
       "population    0\n",
       "dtype: int64"
      ]
     },
     "execution_count": 17,
     "metadata": {},
     "output_type": "execute_result"
    }
   ],
   "source": [
    "# J'appelle la somme du nombre de valeurs NULL  dans le dataframe \"sousnut\"\n",
    "sousnut.isnull().sum()"
   ]
  },
  {
   "cell_type": "markdown",
   "id": "2aeead0a",
   "metadata": {},
   "source": [
    "#### 1.3.4.7 Passage de la série \"pays\" en caractères minuscules"
   ]
  },
  {
   "cell_type": "code",
   "execution_count": 18,
   "id": "21d4e258",
   "metadata": {},
   "outputs": [],
   "source": [
    "sousnut[\"pays\"] = sousnut[\"pays\"].str.lower()"
   ]
  },
  {
   "cell_type": "markdown",
   "id": "31c9cc2f",
   "metadata": {},
   "source": [
    "#### 1.3.4.8 suppression des parenthèses dans la série \"pays\""
   ]
  },
  {
   "cell_type": "code",
   "execution_count": 19,
   "id": "d68cbf03",
   "metadata": {},
   "outputs": [],
   "source": [
    "sousnut[\"pays\"] = sousnut[\"pays\"].replace (\"[()]\",\" \", regex=True)\n",
    "sousnut[\"pays\"] = sousnut[\"pays\"].replace (\"[-]\",\" \", regex=True)\n",
    "sousnut[\"pays\"] = sousnut[\"pays\"].replace (\"[,]\",\" \", regex=True)"
   ]
  },
  {
   "cell_type": "markdown",
   "id": "6b7902e6",
   "metadata": {},
   "source": [
    "#### 1.3.4.9 renommage de valeurs de la série \"pays\""
   ]
  },
  {
   "cell_type": "code",
   "execution_count": 20,
   "id": "02c7c3d6",
   "metadata": {
    "scrolled": true
   },
   "outputs": [],
   "source": [
    "sousnut [\"pays\"]  = sousnut[\"pays\"].str.replace(\"bolivie  état plurinational de \",\"bolivie\", regex=True)\n",
    "sousnut [\"pays\"]  = sousnut[\"pays\"].str.replace(\"chine   ras de hong kong\",\"chine_hong-kong\", regex=True)\n",
    "sousnut [\"pays\"]  = sousnut[\"pays\"].str.replace(\"chine   ras de macao\",\"chine_macao\", regex=True)\n",
    "sousnut [\"pays\"]  = sousnut[\"pays\"].str.replace(\"chine  taiwan province de\",\"chine_taiwan\", regex=True)\n",
    "sousnut [\"pays\"]  = sousnut[\"pays\"].str.replace(\"el salvador\",\"salvador\", regex=True)\n",
    "sousnut [\"pays\"]  = sousnut[\"pays\"].str.replace(\"iran  république islamique d'\",\"iran\", regex=True)\n",
    "sousnut [\"pays\"]  = sousnut[\"pays\"].str.replace(\"micronésie  états fédérés de \",\"micronésie\", regex=True)\n",
    "sousnut [\"pays\"]  = sousnut[\"pays\"].str.replace(\"république arabe syrienne\",\"syrie\", regex=True)\n",
    "sousnut [\"pays\"]  = sousnut[\"pays\"].str.replace(\"république de corée\",\"corée du sud\", regex=True)\n",
    "sousnut [\"pays\"]  = sousnut[\"pays\"].str.replace(\"république de moldova\",\"moldavie\", regex=True)\n",
    "sousnut [\"pays\"]  = sousnut[\"pays\"].str.replace(\"république démocratique populaire lao\",\"laos\", regex=True)\n",
    "sousnut [\"pays\"]  = sousnut[\"pays\"].str.replace(\"république populaire démocratique de corée\",\"corée du nord\", regex=True)\n",
    "sousnut [\"pays\"]  = sousnut[\"pays\"].str.replace(\"république unie de tanzanie\",\"tanzanie\", regex=True)\n",
    "sousnut [\"pays\"]  = sousnut[\"pays\"].str.replace(\"royaume uni de grande bretagne et d'irlande du nord\",\"royaume uni\", regex=True)\n",
    "sousnut [\"pays\"]  = sousnut[\"pays\"].str.replace(\"venezuela république bolivarienne du\",\"venezuela\", regex=True)"
   ]
  },
  {
   "cell_type": "code",
   "execution_count": 21,
   "id": "d6ae462c",
   "metadata": {},
   "outputs": [],
   "source": [
    "#export du dataframe \"sousnut\" afin d'en avoir une vue détaillée\n",
    "sousnut.to_excel(\"test_sousnut1.xlsx\")"
   ]
  },
  {
   "cell_type": "markdown",
   "id": "5d7df318",
   "metadata": {},
   "source": [
    "#### Affichage du dataframe \"sousnut\" en vue de vérifier  sommairement le passage en minuscule de la série \"pays\""
   ]
  },
  {
   "cell_type": "code",
   "execution_count": 22,
   "id": "46d047e7",
   "metadata": {
    "scrolled": true
   },
   "outputs": [
    {
     "data": {
      "text/html": [
       "<div>\n",
       "<style scoped>\n",
       "    .dataframe tbody tr th:only-of-type {\n",
       "        vertical-align: middle;\n",
       "    }\n",
       "\n",
       "    .dataframe tbody tr th {\n",
       "        vertical-align: top;\n",
       "    }\n",
       "\n",
       "    .dataframe thead th {\n",
       "        text-align: right;\n",
       "    }\n",
       "</style>\n",
       "<table border=\"1\" class=\"dataframe\">\n",
       "  <thead>\n",
       "    <tr style=\"text-align: right;\">\n",
       "      <th></th>\n",
       "      <th>pays</th>\n",
       "      <th>année</th>\n",
       "      <th>population</th>\n",
       "    </tr>\n",
       "  </thead>\n",
       "  <tbody>\n",
       "    <tr>\n",
       "      <th>0</th>\n",
       "      <td>afghanistan</td>\n",
       "      <td>2013</td>\n",
       "      <td>8600000</td>\n",
       "    </tr>\n",
       "    <tr>\n",
       "      <th>1</th>\n",
       "      <td>afghanistan</td>\n",
       "      <td>2014</td>\n",
       "      <td>8800000</td>\n",
       "    </tr>\n",
       "    <tr>\n",
       "      <th>2</th>\n",
       "      <td>afghanistan</td>\n",
       "      <td>2015</td>\n",
       "      <td>8900000</td>\n",
       "    </tr>\n",
       "    <tr>\n",
       "      <th>3</th>\n",
       "      <td>afghanistan</td>\n",
       "      <td>2016</td>\n",
       "      <td>9700000</td>\n",
       "    </tr>\n",
       "    <tr>\n",
       "      <th>4</th>\n",
       "      <td>afghanistan</td>\n",
       "      <td>2017</td>\n",
       "      <td>10500000</td>\n",
       "    </tr>\n",
       "    <tr>\n",
       "      <th>...</th>\n",
       "      <td>...</td>\n",
       "      <td>...</td>\n",
       "      <td>...</td>\n",
       "    </tr>\n",
       "    <tr>\n",
       "      <th>1213</th>\n",
       "      <td>zimbabwe</td>\n",
       "      <td>2014</td>\n",
       "      <td>0</td>\n",
       "    </tr>\n",
       "    <tr>\n",
       "      <th>1214</th>\n",
       "      <td>zimbabwe</td>\n",
       "      <td>2015</td>\n",
       "      <td>0</td>\n",
       "    </tr>\n",
       "    <tr>\n",
       "      <th>1215</th>\n",
       "      <td>zimbabwe</td>\n",
       "      <td>2016</td>\n",
       "      <td>0</td>\n",
       "    </tr>\n",
       "    <tr>\n",
       "      <th>1216</th>\n",
       "      <td>zimbabwe</td>\n",
       "      <td>2017</td>\n",
       "      <td>0</td>\n",
       "    </tr>\n",
       "    <tr>\n",
       "      <th>1217</th>\n",
       "      <td>zimbabwe</td>\n",
       "      <td>2018</td>\n",
       "      <td>0</td>\n",
       "    </tr>\n",
       "  </tbody>\n",
       "</table>\n",
       "<p>1218 rows × 3 columns</p>\n",
       "</div>"
      ],
      "text/plain": [
       "             pays  année  population\n",
       "0     afghanistan   2013     8600000\n",
       "1     afghanistan   2014     8800000\n",
       "2     afghanistan   2015     8900000\n",
       "3     afghanistan   2016     9700000\n",
       "4     afghanistan   2017    10500000\n",
       "...           ...    ...         ...\n",
       "1213     zimbabwe   2014           0\n",
       "1214     zimbabwe   2015           0\n",
       "1215     zimbabwe   2016           0\n",
       "1216     zimbabwe   2017           0\n",
       "1217     zimbabwe   2018           0\n",
       "\n",
       "[1218 rows x 3 columns]"
      ]
     },
     "execution_count": 22,
     "metadata": {},
     "output_type": "execute_result"
    }
   ],
   "source": [
    "sousnut"
   ]
  },
  {
   "cell_type": "markdown",
   "id": "8ac3e2f2",
   "metadata": {},
   "source": [
    "### 1.4  Dataframe \"dispo\""
   ]
  },
  {
   "cell_type": "markdown",
   "id": "811b1b52",
   "metadata": {},
   "source": [
    "   #### 1.4.1 Consultation des données du dataframe \"dispo\""
   ]
  },
  {
   "cell_type": "code",
   "execution_count": 23,
   "id": "e61f77ff",
   "metadata": {},
   "outputs": [
    {
     "data": {
      "text/html": [
       "<div>\n",
       "<style scoped>\n",
       "    .dataframe tbody tr th:only-of-type {\n",
       "        vertical-align: middle;\n",
       "    }\n",
       "\n",
       "    .dataframe tbody tr th {\n",
       "        vertical-align: top;\n",
       "    }\n",
       "\n",
       "    .dataframe thead th {\n",
       "        text-align: right;\n",
       "    }\n",
       "</style>\n",
       "<table border=\"1\" class=\"dataframe\">\n",
       "  <thead>\n",
       "    <tr style=\"text-align: right;\">\n",
       "      <th></th>\n",
       "      <th>Zone</th>\n",
       "      <th>Produit</th>\n",
       "      <th>Origine</th>\n",
       "      <th>Aliments pour animaux</th>\n",
       "      <th>Autres Utilisations</th>\n",
       "      <th>Disponibilité alimentaire (Kcal/personne/jour)</th>\n",
       "      <th>Disponibilité alimentaire en quantité (kg/personne/an)</th>\n",
       "      <th>Disponibilité de matière grasse en quantité (g/personne/jour)</th>\n",
       "      <th>Disponibilité de protéines en quantité (g/personne/jour)</th>\n",
       "      <th>Disponibilité intérieure</th>\n",
       "      <th>Exportations - Quantité</th>\n",
       "      <th>Importations - Quantité</th>\n",
       "      <th>Nourriture</th>\n",
       "      <th>Pertes</th>\n",
       "      <th>Production</th>\n",
       "      <th>Semences</th>\n",
       "      <th>Traitement</th>\n",
       "      <th>Variation de stock</th>\n",
       "    </tr>\n",
       "  </thead>\n",
       "  <tbody>\n",
       "    <tr>\n",
       "      <th>0</th>\n",
       "      <td>Afghanistan</td>\n",
       "      <td>Abats Comestible</td>\n",
       "      <td>animale</td>\n",
       "      <td>NaN</td>\n",
       "      <td>NaN</td>\n",
       "      <td>5.0</td>\n",
       "      <td>1.72</td>\n",
       "      <td>0.20</td>\n",
       "      <td>0.77</td>\n",
       "      <td>53.0</td>\n",
       "      <td>NaN</td>\n",
       "      <td>NaN</td>\n",
       "      <td>53.0</td>\n",
       "      <td>NaN</td>\n",
       "      <td>53.0</td>\n",
       "      <td>NaN</td>\n",
       "      <td>NaN</td>\n",
       "      <td>NaN</td>\n",
       "    </tr>\n",
       "    <tr>\n",
       "      <th>1</th>\n",
       "      <td>Afghanistan</td>\n",
       "      <td>Agrumes, Autres</td>\n",
       "      <td>vegetale</td>\n",
       "      <td>NaN</td>\n",
       "      <td>NaN</td>\n",
       "      <td>1.0</td>\n",
       "      <td>1.29</td>\n",
       "      <td>0.01</td>\n",
       "      <td>0.02</td>\n",
       "      <td>41.0</td>\n",
       "      <td>2.0</td>\n",
       "      <td>40.0</td>\n",
       "      <td>39.0</td>\n",
       "      <td>2.0</td>\n",
       "      <td>3.0</td>\n",
       "      <td>NaN</td>\n",
       "      <td>NaN</td>\n",
       "      <td>NaN</td>\n",
       "    </tr>\n",
       "    <tr>\n",
       "      <th>2</th>\n",
       "      <td>Afghanistan</td>\n",
       "      <td>Aliments pour enfants</td>\n",
       "      <td>vegetale</td>\n",
       "      <td>NaN</td>\n",
       "      <td>NaN</td>\n",
       "      <td>1.0</td>\n",
       "      <td>0.06</td>\n",
       "      <td>0.01</td>\n",
       "      <td>0.03</td>\n",
       "      <td>2.0</td>\n",
       "      <td>NaN</td>\n",
       "      <td>2.0</td>\n",
       "      <td>2.0</td>\n",
       "      <td>NaN</td>\n",
       "      <td>NaN</td>\n",
       "      <td>NaN</td>\n",
       "      <td>NaN</td>\n",
       "      <td>NaN</td>\n",
       "    </tr>\n",
       "    <tr>\n",
       "      <th>3</th>\n",
       "      <td>Afghanistan</td>\n",
       "      <td>Ananas</td>\n",
       "      <td>vegetale</td>\n",
       "      <td>NaN</td>\n",
       "      <td>NaN</td>\n",
       "      <td>0.0</td>\n",
       "      <td>0.00</td>\n",
       "      <td>NaN</td>\n",
       "      <td>NaN</td>\n",
       "      <td>0.0</td>\n",
       "      <td>NaN</td>\n",
       "      <td>0.0</td>\n",
       "      <td>0.0</td>\n",
       "      <td>NaN</td>\n",
       "      <td>NaN</td>\n",
       "      <td>NaN</td>\n",
       "      <td>NaN</td>\n",
       "      <td>NaN</td>\n",
       "    </tr>\n",
       "    <tr>\n",
       "      <th>4</th>\n",
       "      <td>Afghanistan</td>\n",
       "      <td>Bananes</td>\n",
       "      <td>vegetale</td>\n",
       "      <td>NaN</td>\n",
       "      <td>NaN</td>\n",
       "      <td>4.0</td>\n",
       "      <td>2.70</td>\n",
       "      <td>0.02</td>\n",
       "      <td>0.05</td>\n",
       "      <td>82.0</td>\n",
       "      <td>NaN</td>\n",
       "      <td>82.0</td>\n",
       "      <td>82.0</td>\n",
       "      <td>NaN</td>\n",
       "      <td>NaN</td>\n",
       "      <td>NaN</td>\n",
       "      <td>NaN</td>\n",
       "      <td>NaN</td>\n",
       "    </tr>\n",
       "    <tr>\n",
       "      <th>...</th>\n",
       "      <td>...</td>\n",
       "      <td>...</td>\n",
       "      <td>...</td>\n",
       "      <td>...</td>\n",
       "      <td>...</td>\n",
       "      <td>...</td>\n",
       "      <td>...</td>\n",
       "      <td>...</td>\n",
       "      <td>...</td>\n",
       "      <td>...</td>\n",
       "      <td>...</td>\n",
       "      <td>...</td>\n",
       "      <td>...</td>\n",
       "      <td>...</td>\n",
       "      <td>...</td>\n",
       "      <td>...</td>\n",
       "      <td>...</td>\n",
       "      <td>...</td>\n",
       "    </tr>\n",
       "    <tr>\n",
       "      <th>15600</th>\n",
       "      <td>Îles Salomon</td>\n",
       "      <td>Viande de Suides</td>\n",
       "      <td>animale</td>\n",
       "      <td>NaN</td>\n",
       "      <td>NaN</td>\n",
       "      <td>45.0</td>\n",
       "      <td>4.70</td>\n",
       "      <td>4.28</td>\n",
       "      <td>1.41</td>\n",
       "      <td>3.0</td>\n",
       "      <td>NaN</td>\n",
       "      <td>0.0</td>\n",
       "      <td>3.0</td>\n",
       "      <td>NaN</td>\n",
       "      <td>2.0</td>\n",
       "      <td>NaN</td>\n",
       "      <td>NaN</td>\n",
       "      <td>NaN</td>\n",
       "    </tr>\n",
       "    <tr>\n",
       "      <th>15601</th>\n",
       "      <td>Îles Salomon</td>\n",
       "      <td>Viande de Volailles</td>\n",
       "      <td>animale</td>\n",
       "      <td>NaN</td>\n",
       "      <td>NaN</td>\n",
       "      <td>11.0</td>\n",
       "      <td>3.34</td>\n",
       "      <td>0.69</td>\n",
       "      <td>1.14</td>\n",
       "      <td>2.0</td>\n",
       "      <td>NaN</td>\n",
       "      <td>2.0</td>\n",
       "      <td>2.0</td>\n",
       "      <td>NaN</td>\n",
       "      <td>0.0</td>\n",
       "      <td>NaN</td>\n",
       "      <td>NaN</td>\n",
       "      <td>NaN</td>\n",
       "    </tr>\n",
       "    <tr>\n",
       "      <th>15602</th>\n",
       "      <td>Îles Salomon</td>\n",
       "      <td>Viande, Autre</td>\n",
       "      <td>animale</td>\n",
       "      <td>NaN</td>\n",
       "      <td>NaN</td>\n",
       "      <td>0.0</td>\n",
       "      <td>0.06</td>\n",
       "      <td>NaN</td>\n",
       "      <td>0.04</td>\n",
       "      <td>0.0</td>\n",
       "      <td>NaN</td>\n",
       "      <td>0.0</td>\n",
       "      <td>0.0</td>\n",
       "      <td>NaN</td>\n",
       "      <td>NaN</td>\n",
       "      <td>NaN</td>\n",
       "      <td>NaN</td>\n",
       "      <td>NaN</td>\n",
       "    </tr>\n",
       "    <tr>\n",
       "      <th>15603</th>\n",
       "      <td>Îles Salomon</td>\n",
       "      <td>Vin</td>\n",
       "      <td>vegetale</td>\n",
       "      <td>NaN</td>\n",
       "      <td>NaN</td>\n",
       "      <td>0.0</td>\n",
       "      <td>0.07</td>\n",
       "      <td>NaN</td>\n",
       "      <td>NaN</td>\n",
       "      <td>0.0</td>\n",
       "      <td>0.0</td>\n",
       "      <td>0.0</td>\n",
       "      <td>0.0</td>\n",
       "      <td>NaN</td>\n",
       "      <td>NaN</td>\n",
       "      <td>NaN</td>\n",
       "      <td>NaN</td>\n",
       "      <td>NaN</td>\n",
       "    </tr>\n",
       "    <tr>\n",
       "      <th>15604</th>\n",
       "      <td>Îles Salomon</td>\n",
       "      <td>Épices, Autres</td>\n",
       "      <td>vegetale</td>\n",
       "      <td>NaN</td>\n",
       "      <td>NaN</td>\n",
       "      <td>4.0</td>\n",
       "      <td>0.48</td>\n",
       "      <td>0.21</td>\n",
       "      <td>0.15</td>\n",
       "      <td>0.0</td>\n",
       "      <td>0.0</td>\n",
       "      <td>0.0</td>\n",
       "      <td>0.0</td>\n",
       "      <td>NaN</td>\n",
       "      <td>0.0</td>\n",
       "      <td>NaN</td>\n",
       "      <td>NaN</td>\n",
       "      <td>NaN</td>\n",
       "    </tr>\n",
       "  </tbody>\n",
       "</table>\n",
       "<p>15605 rows × 18 columns</p>\n",
       "</div>"
      ],
      "text/plain": [
       "               Zone                Produit   Origine  Aliments pour animaux  \\\n",
       "0       Afghanistan       Abats Comestible   animale                    NaN   \n",
       "1       Afghanistan        Agrumes, Autres  vegetale                    NaN   \n",
       "2       Afghanistan  Aliments pour enfants  vegetale                    NaN   \n",
       "3       Afghanistan                 Ananas  vegetale                    NaN   \n",
       "4       Afghanistan                Bananes  vegetale                    NaN   \n",
       "...             ...                    ...       ...                    ...   \n",
       "15600  Îles Salomon       Viande de Suides   animale                    NaN   \n",
       "15601  Îles Salomon    Viande de Volailles   animale                    NaN   \n",
       "15602  Îles Salomon          Viande, Autre   animale                    NaN   \n",
       "15603  Îles Salomon                    Vin  vegetale                    NaN   \n",
       "15604  Îles Salomon         Épices, Autres  vegetale                    NaN   \n",
       "\n",
       "       Autres Utilisations  Disponibilité alimentaire (Kcal/personne/jour)  \\\n",
       "0                      NaN                                             5.0   \n",
       "1                      NaN                                             1.0   \n",
       "2                      NaN                                             1.0   \n",
       "3                      NaN                                             0.0   \n",
       "4                      NaN                                             4.0   \n",
       "...                    ...                                             ...   \n",
       "15600                  NaN                                            45.0   \n",
       "15601                  NaN                                            11.0   \n",
       "15602                  NaN                                             0.0   \n",
       "15603                  NaN                                             0.0   \n",
       "15604                  NaN                                             4.0   \n",
       "\n",
       "       Disponibilité alimentaire en quantité (kg/personne/an)  \\\n",
       "0                                                   1.72        \n",
       "1                                                   1.29        \n",
       "2                                                   0.06        \n",
       "3                                                   0.00        \n",
       "4                                                   2.70        \n",
       "...                                                  ...        \n",
       "15600                                               4.70        \n",
       "15601                                               3.34        \n",
       "15602                                               0.06        \n",
       "15603                                               0.07        \n",
       "15604                                               0.48        \n",
       "\n",
       "       Disponibilité de matière grasse en quantité (g/personne/jour)  \\\n",
       "0                                                   0.20               \n",
       "1                                                   0.01               \n",
       "2                                                   0.01               \n",
       "3                                                    NaN               \n",
       "4                                                   0.02               \n",
       "...                                                  ...               \n",
       "15600                                               4.28               \n",
       "15601                                               0.69               \n",
       "15602                                                NaN               \n",
       "15603                                                NaN               \n",
       "15604                                               0.21               \n",
       "\n",
       "       Disponibilité de protéines en quantité (g/personne/jour)  \\\n",
       "0                                                   0.77          \n",
       "1                                                   0.02          \n",
       "2                                                   0.03          \n",
       "3                                                    NaN          \n",
       "4                                                   0.05          \n",
       "...                                                  ...          \n",
       "15600                                               1.41          \n",
       "15601                                               1.14          \n",
       "15602                                               0.04          \n",
       "15603                                                NaN          \n",
       "15604                                               0.15          \n",
       "\n",
       "       Disponibilité intérieure  Exportations - Quantité  \\\n",
       "0                          53.0                      NaN   \n",
       "1                          41.0                      2.0   \n",
       "2                           2.0                      NaN   \n",
       "3                           0.0                      NaN   \n",
       "4                          82.0                      NaN   \n",
       "...                         ...                      ...   \n",
       "15600                       3.0                      NaN   \n",
       "15601                       2.0                      NaN   \n",
       "15602                       0.0                      NaN   \n",
       "15603                       0.0                      0.0   \n",
       "15604                       0.0                      0.0   \n",
       "\n",
       "       Importations - Quantité  Nourriture  Pertes  Production  Semences  \\\n",
       "0                          NaN        53.0     NaN        53.0       NaN   \n",
       "1                         40.0        39.0     2.0         3.0       NaN   \n",
       "2                          2.0         2.0     NaN         NaN       NaN   \n",
       "3                          0.0         0.0     NaN         NaN       NaN   \n",
       "4                         82.0        82.0     NaN         NaN       NaN   \n",
       "...                        ...         ...     ...         ...       ...   \n",
       "15600                      0.0         3.0     NaN         2.0       NaN   \n",
       "15601                      2.0         2.0     NaN         0.0       NaN   \n",
       "15602                      0.0         0.0     NaN         NaN       NaN   \n",
       "15603                      0.0         0.0     NaN         NaN       NaN   \n",
       "15604                      0.0         0.0     NaN         0.0       NaN   \n",
       "\n",
       "       Traitement  Variation de stock  \n",
       "0             NaN                 NaN  \n",
       "1             NaN                 NaN  \n",
       "2             NaN                 NaN  \n",
       "3             NaN                 NaN  \n",
       "4             NaN                 NaN  \n",
       "...           ...                 ...  \n",
       "15600         NaN                 NaN  \n",
       "15601         NaN                 NaN  \n",
       "15602         NaN                 NaN  \n",
       "15603         NaN                 NaN  \n",
       "15604         NaN                 NaN  \n",
       "\n",
       "[15605 rows x 18 columns]"
      ]
     },
     "execution_count": 23,
     "metadata": {},
     "output_type": "execute_result"
    }
   ],
   "source": [
    "dispo"
   ]
  },
  {
   "cell_type": "markdown",
   "id": "b4acd841",
   "metadata": {},
   "source": [
    "#### verification des types de données"
   ]
  },
  {
   "cell_type": "code",
   "execution_count": 24,
   "id": "d4312b78",
   "metadata": {},
   "outputs": [
    {
     "data": {
      "text/plain": [
       "Zone                                                              object\n",
       "Produit                                                           object\n",
       "Origine                                                           object\n",
       "Aliments pour animaux                                            float64\n",
       "Autres Utilisations                                              float64\n",
       "Disponibilité alimentaire (Kcal/personne/jour)                   float64\n",
       "Disponibilité alimentaire en quantité (kg/personne/an)           float64\n",
       "Disponibilité de matière grasse en quantité (g/personne/jour)    float64\n",
       "Disponibilité de protéines en quantité (g/personne/jour)         float64\n",
       "Disponibilité intérieure                                         float64\n",
       "Exportations - Quantité                                          float64\n",
       "Importations - Quantité                                          float64\n",
       "Nourriture                                                       float64\n",
       "Pertes                                                           float64\n",
       "Production                                                       float64\n",
       "Semences                                                         float64\n",
       "Traitement                                                       float64\n",
       "Variation de stock                                               float64\n",
       "dtype: object"
      ]
     },
     "execution_count": 24,
     "metadata": {},
     "output_type": "execute_result"
    }
   ],
   "source": [
    "dispo.dtypes"
   ]
  },
  {
   "cell_type": "markdown",
   "id": "14bd1c85",
   "metadata": {},
   "source": [
    "#### 1.4.2 Renommage des séries en vue d'un meilleur confort et d'une omogénéité pour les saisies ultérieures "
   ]
  },
  {
   "cell_type": "code",
   "execution_count": 25,
   "id": "05add781",
   "metadata": {},
   "outputs": [],
   "source": [
    "dispo.rename(\n",
    "    columns   = {\n",
    "        \"Zone\"  : \"pays\",\n",
    "        \"Produit\":\"produit\",\n",
    "        \"Origine\":\"origine\",\n",
    "        \"Aliments pour animaux\":\"aliments_animaux\",\n",
    "        \"Autres Utilisations\":\"autres_utilisations\",\n",
    "        \"Disponibilité alimentaire (Kcal/personne/jour)\":\"calories(kcal/pers/jour)\",\n",
    "        \"Disponibilité alimentaire en quantité (kg/personne/an)\":\"qte(g/pers/jour)\",\n",
    "        \"Disponibilité de matière grasse en quantité (g/personne/jour)\":\"lipides(g/pers/jour)\",\n",
    "        \"Disponibilité de protéines en quantité (g/personne/jour)\":\"proteines(g/pers/jour)\",\n",
    "        \"Disponibilité intérieure\":\"dispo_inter\",\n",
    "        \"Exportations - Quantité\":\"export*1000t\",\n",
    "        \"Importations - Quantité\":\"import*1000t\",\n",
    "        \"Nourriture\":\"nourriture*1000t\",\n",
    "        \"Pertes\":\"pertes*1000t\",\n",
    "        \"Production\":\"production*1000t\",\n",
    "        \"Semences\":\"semences*1000t\",\n",
    "        \"Traitement\":\"traitement*1000t\",\n",
    "        \"Variation de stock\":\"variation_stock*1000t\"\n",
    "        },\n",
    "    inplace = True\n",
    ")"
   ]
  },
  {
   "cell_type": "code",
   "execution_count": 26,
   "id": "267aa491",
   "metadata": {},
   "outputs": [
    {
     "data": {
      "text/html": [
       "<div>\n",
       "<style scoped>\n",
       "    .dataframe tbody tr th:only-of-type {\n",
       "        vertical-align: middle;\n",
       "    }\n",
       "\n",
       "    .dataframe tbody tr th {\n",
       "        vertical-align: top;\n",
       "    }\n",
       "\n",
       "    .dataframe thead th {\n",
       "        text-align: right;\n",
       "    }\n",
       "</style>\n",
       "<table border=\"1\" class=\"dataframe\">\n",
       "  <thead>\n",
       "    <tr style=\"text-align: right;\">\n",
       "      <th></th>\n",
       "      <th>pays</th>\n",
       "      <th>produit</th>\n",
       "      <th>origine</th>\n",
       "      <th>aliments_animaux</th>\n",
       "      <th>autres_utilisations</th>\n",
       "      <th>calories(kcal/pers/jour)</th>\n",
       "      <th>qte(g/pers/jour)</th>\n",
       "      <th>lipides(g/pers/jour)</th>\n",
       "      <th>proteines(g/pers/jour)</th>\n",
       "      <th>dispo_inter</th>\n",
       "      <th>export*1000t</th>\n",
       "      <th>import*1000t</th>\n",
       "      <th>nourriture*1000t</th>\n",
       "      <th>pertes*1000t</th>\n",
       "      <th>production*1000t</th>\n",
       "      <th>semences*1000t</th>\n",
       "      <th>traitement*1000t</th>\n",
       "      <th>variation_stock*1000t</th>\n",
       "    </tr>\n",
       "  </thead>\n",
       "  <tbody>\n",
       "    <tr>\n",
       "      <th>0</th>\n",
       "      <td>Afghanistan</td>\n",
       "      <td>Abats Comestible</td>\n",
       "      <td>animale</td>\n",
       "      <td>NaN</td>\n",
       "      <td>NaN</td>\n",
       "      <td>5.0</td>\n",
       "      <td>1.72</td>\n",
       "      <td>0.20</td>\n",
       "      <td>0.77</td>\n",
       "      <td>53.0</td>\n",
       "      <td>NaN</td>\n",
       "      <td>NaN</td>\n",
       "      <td>53.0</td>\n",
       "      <td>NaN</td>\n",
       "      <td>53.0</td>\n",
       "      <td>NaN</td>\n",
       "      <td>NaN</td>\n",
       "      <td>NaN</td>\n",
       "    </tr>\n",
       "    <tr>\n",
       "      <th>1</th>\n",
       "      <td>Afghanistan</td>\n",
       "      <td>Agrumes, Autres</td>\n",
       "      <td>vegetale</td>\n",
       "      <td>NaN</td>\n",
       "      <td>NaN</td>\n",
       "      <td>1.0</td>\n",
       "      <td>1.29</td>\n",
       "      <td>0.01</td>\n",
       "      <td>0.02</td>\n",
       "      <td>41.0</td>\n",
       "      <td>2.0</td>\n",
       "      <td>40.0</td>\n",
       "      <td>39.0</td>\n",
       "      <td>2.0</td>\n",
       "      <td>3.0</td>\n",
       "      <td>NaN</td>\n",
       "      <td>NaN</td>\n",
       "      <td>NaN</td>\n",
       "    </tr>\n",
       "    <tr>\n",
       "      <th>2</th>\n",
       "      <td>Afghanistan</td>\n",
       "      <td>Aliments pour enfants</td>\n",
       "      <td>vegetale</td>\n",
       "      <td>NaN</td>\n",
       "      <td>NaN</td>\n",
       "      <td>1.0</td>\n",
       "      <td>0.06</td>\n",
       "      <td>0.01</td>\n",
       "      <td>0.03</td>\n",
       "      <td>2.0</td>\n",
       "      <td>NaN</td>\n",
       "      <td>2.0</td>\n",
       "      <td>2.0</td>\n",
       "      <td>NaN</td>\n",
       "      <td>NaN</td>\n",
       "      <td>NaN</td>\n",
       "      <td>NaN</td>\n",
       "      <td>NaN</td>\n",
       "    </tr>\n",
       "    <tr>\n",
       "      <th>3</th>\n",
       "      <td>Afghanistan</td>\n",
       "      <td>Ananas</td>\n",
       "      <td>vegetale</td>\n",
       "      <td>NaN</td>\n",
       "      <td>NaN</td>\n",
       "      <td>0.0</td>\n",
       "      <td>0.00</td>\n",
       "      <td>NaN</td>\n",
       "      <td>NaN</td>\n",
       "      <td>0.0</td>\n",
       "      <td>NaN</td>\n",
       "      <td>0.0</td>\n",
       "      <td>0.0</td>\n",
       "      <td>NaN</td>\n",
       "      <td>NaN</td>\n",
       "      <td>NaN</td>\n",
       "      <td>NaN</td>\n",
       "      <td>NaN</td>\n",
       "    </tr>\n",
       "    <tr>\n",
       "      <th>4</th>\n",
       "      <td>Afghanistan</td>\n",
       "      <td>Bananes</td>\n",
       "      <td>vegetale</td>\n",
       "      <td>NaN</td>\n",
       "      <td>NaN</td>\n",
       "      <td>4.0</td>\n",
       "      <td>2.70</td>\n",
       "      <td>0.02</td>\n",
       "      <td>0.05</td>\n",
       "      <td>82.0</td>\n",
       "      <td>NaN</td>\n",
       "      <td>82.0</td>\n",
       "      <td>82.0</td>\n",
       "      <td>NaN</td>\n",
       "      <td>NaN</td>\n",
       "      <td>NaN</td>\n",
       "      <td>NaN</td>\n",
       "      <td>NaN</td>\n",
       "    </tr>\n",
       "    <tr>\n",
       "      <th>...</th>\n",
       "      <td>...</td>\n",
       "      <td>...</td>\n",
       "      <td>...</td>\n",
       "      <td>...</td>\n",
       "      <td>...</td>\n",
       "      <td>...</td>\n",
       "      <td>...</td>\n",
       "      <td>...</td>\n",
       "      <td>...</td>\n",
       "      <td>...</td>\n",
       "      <td>...</td>\n",
       "      <td>...</td>\n",
       "      <td>...</td>\n",
       "      <td>...</td>\n",
       "      <td>...</td>\n",
       "      <td>...</td>\n",
       "      <td>...</td>\n",
       "      <td>...</td>\n",
       "    </tr>\n",
       "    <tr>\n",
       "      <th>15600</th>\n",
       "      <td>Îles Salomon</td>\n",
       "      <td>Viande de Suides</td>\n",
       "      <td>animale</td>\n",
       "      <td>NaN</td>\n",
       "      <td>NaN</td>\n",
       "      <td>45.0</td>\n",
       "      <td>4.70</td>\n",
       "      <td>4.28</td>\n",
       "      <td>1.41</td>\n",
       "      <td>3.0</td>\n",
       "      <td>NaN</td>\n",
       "      <td>0.0</td>\n",
       "      <td>3.0</td>\n",
       "      <td>NaN</td>\n",
       "      <td>2.0</td>\n",
       "      <td>NaN</td>\n",
       "      <td>NaN</td>\n",
       "      <td>NaN</td>\n",
       "    </tr>\n",
       "    <tr>\n",
       "      <th>15601</th>\n",
       "      <td>Îles Salomon</td>\n",
       "      <td>Viande de Volailles</td>\n",
       "      <td>animale</td>\n",
       "      <td>NaN</td>\n",
       "      <td>NaN</td>\n",
       "      <td>11.0</td>\n",
       "      <td>3.34</td>\n",
       "      <td>0.69</td>\n",
       "      <td>1.14</td>\n",
       "      <td>2.0</td>\n",
       "      <td>NaN</td>\n",
       "      <td>2.0</td>\n",
       "      <td>2.0</td>\n",
       "      <td>NaN</td>\n",
       "      <td>0.0</td>\n",
       "      <td>NaN</td>\n",
       "      <td>NaN</td>\n",
       "      <td>NaN</td>\n",
       "    </tr>\n",
       "    <tr>\n",
       "      <th>15602</th>\n",
       "      <td>Îles Salomon</td>\n",
       "      <td>Viande, Autre</td>\n",
       "      <td>animale</td>\n",
       "      <td>NaN</td>\n",
       "      <td>NaN</td>\n",
       "      <td>0.0</td>\n",
       "      <td>0.06</td>\n",
       "      <td>NaN</td>\n",
       "      <td>0.04</td>\n",
       "      <td>0.0</td>\n",
       "      <td>NaN</td>\n",
       "      <td>0.0</td>\n",
       "      <td>0.0</td>\n",
       "      <td>NaN</td>\n",
       "      <td>NaN</td>\n",
       "      <td>NaN</td>\n",
       "      <td>NaN</td>\n",
       "      <td>NaN</td>\n",
       "    </tr>\n",
       "    <tr>\n",
       "      <th>15603</th>\n",
       "      <td>Îles Salomon</td>\n",
       "      <td>Vin</td>\n",
       "      <td>vegetale</td>\n",
       "      <td>NaN</td>\n",
       "      <td>NaN</td>\n",
       "      <td>0.0</td>\n",
       "      <td>0.07</td>\n",
       "      <td>NaN</td>\n",
       "      <td>NaN</td>\n",
       "      <td>0.0</td>\n",
       "      <td>0.0</td>\n",
       "      <td>0.0</td>\n",
       "      <td>0.0</td>\n",
       "      <td>NaN</td>\n",
       "      <td>NaN</td>\n",
       "      <td>NaN</td>\n",
       "      <td>NaN</td>\n",
       "      <td>NaN</td>\n",
       "    </tr>\n",
       "    <tr>\n",
       "      <th>15604</th>\n",
       "      <td>Îles Salomon</td>\n",
       "      <td>Épices, Autres</td>\n",
       "      <td>vegetale</td>\n",
       "      <td>NaN</td>\n",
       "      <td>NaN</td>\n",
       "      <td>4.0</td>\n",
       "      <td>0.48</td>\n",
       "      <td>0.21</td>\n",
       "      <td>0.15</td>\n",
       "      <td>0.0</td>\n",
       "      <td>0.0</td>\n",
       "      <td>0.0</td>\n",
       "      <td>0.0</td>\n",
       "      <td>NaN</td>\n",
       "      <td>0.0</td>\n",
       "      <td>NaN</td>\n",
       "      <td>NaN</td>\n",
       "      <td>NaN</td>\n",
       "    </tr>\n",
       "  </tbody>\n",
       "</table>\n",
       "<p>15605 rows × 18 columns</p>\n",
       "</div>"
      ],
      "text/plain": [
       "               pays                produit   origine  aliments_animaux  \\\n",
       "0       Afghanistan       Abats Comestible   animale               NaN   \n",
       "1       Afghanistan        Agrumes, Autres  vegetale               NaN   \n",
       "2       Afghanistan  Aliments pour enfants  vegetale               NaN   \n",
       "3       Afghanistan                 Ananas  vegetale               NaN   \n",
       "4       Afghanistan                Bananes  vegetale               NaN   \n",
       "...             ...                    ...       ...               ...   \n",
       "15600  Îles Salomon       Viande de Suides   animale               NaN   \n",
       "15601  Îles Salomon    Viande de Volailles   animale               NaN   \n",
       "15602  Îles Salomon          Viande, Autre   animale               NaN   \n",
       "15603  Îles Salomon                    Vin  vegetale               NaN   \n",
       "15604  Îles Salomon         Épices, Autres  vegetale               NaN   \n",
       "\n",
       "       autres_utilisations  calories(kcal/pers/jour)  qte(g/pers/jour)  \\\n",
       "0                      NaN                       5.0              1.72   \n",
       "1                      NaN                       1.0              1.29   \n",
       "2                      NaN                       1.0              0.06   \n",
       "3                      NaN                       0.0              0.00   \n",
       "4                      NaN                       4.0              2.70   \n",
       "...                    ...                       ...               ...   \n",
       "15600                  NaN                      45.0              4.70   \n",
       "15601                  NaN                      11.0              3.34   \n",
       "15602                  NaN                       0.0              0.06   \n",
       "15603                  NaN                       0.0              0.07   \n",
       "15604                  NaN                       4.0              0.48   \n",
       "\n",
       "       lipides(g/pers/jour)  proteines(g/pers/jour)  dispo_inter  \\\n",
       "0                      0.20                    0.77         53.0   \n",
       "1                      0.01                    0.02         41.0   \n",
       "2                      0.01                    0.03          2.0   \n",
       "3                       NaN                     NaN          0.0   \n",
       "4                      0.02                    0.05         82.0   \n",
       "...                     ...                     ...          ...   \n",
       "15600                  4.28                    1.41          3.0   \n",
       "15601                  0.69                    1.14          2.0   \n",
       "15602                   NaN                    0.04          0.0   \n",
       "15603                   NaN                     NaN          0.0   \n",
       "15604                  0.21                    0.15          0.0   \n",
       "\n",
       "       export*1000t  import*1000t  nourriture*1000t  pertes*1000t  \\\n",
       "0               NaN           NaN              53.0           NaN   \n",
       "1               2.0          40.0              39.0           2.0   \n",
       "2               NaN           2.0               2.0           NaN   \n",
       "3               NaN           0.0               0.0           NaN   \n",
       "4               NaN          82.0              82.0           NaN   \n",
       "...             ...           ...               ...           ...   \n",
       "15600           NaN           0.0               3.0           NaN   \n",
       "15601           NaN           2.0               2.0           NaN   \n",
       "15602           NaN           0.0               0.0           NaN   \n",
       "15603           0.0           0.0               0.0           NaN   \n",
       "15604           0.0           0.0               0.0           NaN   \n",
       "\n",
       "       production*1000t  semences*1000t  traitement*1000t  \\\n",
       "0                  53.0             NaN               NaN   \n",
       "1                   3.0             NaN               NaN   \n",
       "2                   NaN             NaN               NaN   \n",
       "3                   NaN             NaN               NaN   \n",
       "4                   NaN             NaN               NaN   \n",
       "...                 ...             ...               ...   \n",
       "15600               2.0             NaN               NaN   \n",
       "15601               0.0             NaN               NaN   \n",
       "15602               NaN             NaN               NaN   \n",
       "15603               NaN             NaN               NaN   \n",
       "15604               0.0             NaN               NaN   \n",
       "\n",
       "       variation_stock*1000t  \n",
       "0                        NaN  \n",
       "1                        NaN  \n",
       "2                        NaN  \n",
       "3                        NaN  \n",
       "4                        NaN  \n",
       "...                      ...  \n",
       "15600                    NaN  \n",
       "15601                    NaN  \n",
       "15602                    NaN  \n",
       "15603                    NaN  \n",
       "15604                    NaN  \n",
       "\n",
       "[15605 rows x 18 columns]"
      ]
     },
     "execution_count": 26,
     "metadata": {},
     "output_type": "execute_result"
    }
   ],
   "source": [
    "dispo"
   ]
  },
  {
   "cell_type": "markdown",
   "id": "545fe63f",
   "metadata": {},
   "source": [
    "#### 1.4.3 Remplacement des valeurs manquantes par la valeur 0.0"
   ]
  },
  {
   "cell_type": "code",
   "execution_count": 27,
   "id": "16a0566b",
   "metadata": {},
   "outputs": [],
   "source": [
    "dispo.fillna(0.0, inplace=True)"
   ]
  },
  {
   "cell_type": "markdown",
   "id": "b4adcbc3",
   "metadata": {},
   "source": [
    "#### Vérification du remplacement des valeurs manquantes par 0.0 dans le dataframe \"dispos\""
   ]
  },
  {
   "cell_type": "code",
   "execution_count": 28,
   "id": "d2c2765a",
   "metadata": {},
   "outputs": [
    {
     "data": {
      "text/html": [
       "<div>\n",
       "<style scoped>\n",
       "    .dataframe tbody tr th:only-of-type {\n",
       "        vertical-align: middle;\n",
       "    }\n",
       "\n",
       "    .dataframe tbody tr th {\n",
       "        vertical-align: top;\n",
       "    }\n",
       "\n",
       "    .dataframe thead th {\n",
       "        text-align: right;\n",
       "    }\n",
       "</style>\n",
       "<table border=\"1\" class=\"dataframe\">\n",
       "  <thead>\n",
       "    <tr style=\"text-align: right;\">\n",
       "      <th></th>\n",
       "      <th>pays</th>\n",
       "      <th>produit</th>\n",
       "      <th>origine</th>\n",
       "      <th>aliments_animaux</th>\n",
       "      <th>autres_utilisations</th>\n",
       "      <th>calories(kcal/pers/jour)</th>\n",
       "      <th>qte(g/pers/jour)</th>\n",
       "      <th>lipides(g/pers/jour)</th>\n",
       "      <th>proteines(g/pers/jour)</th>\n",
       "      <th>dispo_inter</th>\n",
       "      <th>export*1000t</th>\n",
       "      <th>import*1000t</th>\n",
       "      <th>nourriture*1000t</th>\n",
       "      <th>pertes*1000t</th>\n",
       "      <th>production*1000t</th>\n",
       "      <th>semences*1000t</th>\n",
       "      <th>traitement*1000t</th>\n",
       "      <th>variation_stock*1000t</th>\n",
       "    </tr>\n",
       "  </thead>\n",
       "  <tbody>\n",
       "    <tr>\n",
       "      <th>0</th>\n",
       "      <td>Afghanistan</td>\n",
       "      <td>Abats Comestible</td>\n",
       "      <td>animale</td>\n",
       "      <td>0.0</td>\n",
       "      <td>0.0</td>\n",
       "      <td>5.0</td>\n",
       "      <td>1.72</td>\n",
       "      <td>0.20</td>\n",
       "      <td>0.77</td>\n",
       "      <td>53.0</td>\n",
       "      <td>0.0</td>\n",
       "      <td>0.0</td>\n",
       "      <td>53.0</td>\n",
       "      <td>0.0</td>\n",
       "      <td>53.0</td>\n",
       "      <td>0.0</td>\n",
       "      <td>0.0</td>\n",
       "      <td>0.0</td>\n",
       "    </tr>\n",
       "    <tr>\n",
       "      <th>1</th>\n",
       "      <td>Afghanistan</td>\n",
       "      <td>Agrumes, Autres</td>\n",
       "      <td>vegetale</td>\n",
       "      <td>0.0</td>\n",
       "      <td>0.0</td>\n",
       "      <td>1.0</td>\n",
       "      <td>1.29</td>\n",
       "      <td>0.01</td>\n",
       "      <td>0.02</td>\n",
       "      <td>41.0</td>\n",
       "      <td>2.0</td>\n",
       "      <td>40.0</td>\n",
       "      <td>39.0</td>\n",
       "      <td>2.0</td>\n",
       "      <td>3.0</td>\n",
       "      <td>0.0</td>\n",
       "      <td>0.0</td>\n",
       "      <td>0.0</td>\n",
       "    </tr>\n",
       "    <tr>\n",
       "      <th>2</th>\n",
       "      <td>Afghanistan</td>\n",
       "      <td>Aliments pour enfants</td>\n",
       "      <td>vegetale</td>\n",
       "      <td>0.0</td>\n",
       "      <td>0.0</td>\n",
       "      <td>1.0</td>\n",
       "      <td>0.06</td>\n",
       "      <td>0.01</td>\n",
       "      <td>0.03</td>\n",
       "      <td>2.0</td>\n",
       "      <td>0.0</td>\n",
       "      <td>2.0</td>\n",
       "      <td>2.0</td>\n",
       "      <td>0.0</td>\n",
       "      <td>0.0</td>\n",
       "      <td>0.0</td>\n",
       "      <td>0.0</td>\n",
       "      <td>0.0</td>\n",
       "    </tr>\n",
       "    <tr>\n",
       "      <th>3</th>\n",
       "      <td>Afghanistan</td>\n",
       "      <td>Ananas</td>\n",
       "      <td>vegetale</td>\n",
       "      <td>0.0</td>\n",
       "      <td>0.0</td>\n",
       "      <td>0.0</td>\n",
       "      <td>0.00</td>\n",
       "      <td>0.00</td>\n",
       "      <td>0.00</td>\n",
       "      <td>0.0</td>\n",
       "      <td>0.0</td>\n",
       "      <td>0.0</td>\n",
       "      <td>0.0</td>\n",
       "      <td>0.0</td>\n",
       "      <td>0.0</td>\n",
       "      <td>0.0</td>\n",
       "      <td>0.0</td>\n",
       "      <td>0.0</td>\n",
       "    </tr>\n",
       "    <tr>\n",
       "      <th>4</th>\n",
       "      <td>Afghanistan</td>\n",
       "      <td>Bananes</td>\n",
       "      <td>vegetale</td>\n",
       "      <td>0.0</td>\n",
       "      <td>0.0</td>\n",
       "      <td>4.0</td>\n",
       "      <td>2.70</td>\n",
       "      <td>0.02</td>\n",
       "      <td>0.05</td>\n",
       "      <td>82.0</td>\n",
       "      <td>0.0</td>\n",
       "      <td>82.0</td>\n",
       "      <td>82.0</td>\n",
       "      <td>0.0</td>\n",
       "      <td>0.0</td>\n",
       "      <td>0.0</td>\n",
       "      <td>0.0</td>\n",
       "      <td>0.0</td>\n",
       "    </tr>\n",
       "    <tr>\n",
       "      <th>...</th>\n",
       "      <td>...</td>\n",
       "      <td>...</td>\n",
       "      <td>...</td>\n",
       "      <td>...</td>\n",
       "      <td>...</td>\n",
       "      <td>...</td>\n",
       "      <td>...</td>\n",
       "      <td>...</td>\n",
       "      <td>...</td>\n",
       "      <td>...</td>\n",
       "      <td>...</td>\n",
       "      <td>...</td>\n",
       "      <td>...</td>\n",
       "      <td>...</td>\n",
       "      <td>...</td>\n",
       "      <td>...</td>\n",
       "      <td>...</td>\n",
       "      <td>...</td>\n",
       "    </tr>\n",
       "    <tr>\n",
       "      <th>15600</th>\n",
       "      <td>Îles Salomon</td>\n",
       "      <td>Viande de Suides</td>\n",
       "      <td>animale</td>\n",
       "      <td>0.0</td>\n",
       "      <td>0.0</td>\n",
       "      <td>45.0</td>\n",
       "      <td>4.70</td>\n",
       "      <td>4.28</td>\n",
       "      <td>1.41</td>\n",
       "      <td>3.0</td>\n",
       "      <td>0.0</td>\n",
       "      <td>0.0</td>\n",
       "      <td>3.0</td>\n",
       "      <td>0.0</td>\n",
       "      <td>2.0</td>\n",
       "      <td>0.0</td>\n",
       "      <td>0.0</td>\n",
       "      <td>0.0</td>\n",
       "    </tr>\n",
       "    <tr>\n",
       "      <th>15601</th>\n",
       "      <td>Îles Salomon</td>\n",
       "      <td>Viande de Volailles</td>\n",
       "      <td>animale</td>\n",
       "      <td>0.0</td>\n",
       "      <td>0.0</td>\n",
       "      <td>11.0</td>\n",
       "      <td>3.34</td>\n",
       "      <td>0.69</td>\n",
       "      <td>1.14</td>\n",
       "      <td>2.0</td>\n",
       "      <td>0.0</td>\n",
       "      <td>2.0</td>\n",
       "      <td>2.0</td>\n",
       "      <td>0.0</td>\n",
       "      <td>0.0</td>\n",
       "      <td>0.0</td>\n",
       "      <td>0.0</td>\n",
       "      <td>0.0</td>\n",
       "    </tr>\n",
       "    <tr>\n",
       "      <th>15602</th>\n",
       "      <td>Îles Salomon</td>\n",
       "      <td>Viande, Autre</td>\n",
       "      <td>animale</td>\n",
       "      <td>0.0</td>\n",
       "      <td>0.0</td>\n",
       "      <td>0.0</td>\n",
       "      <td>0.06</td>\n",
       "      <td>0.00</td>\n",
       "      <td>0.04</td>\n",
       "      <td>0.0</td>\n",
       "      <td>0.0</td>\n",
       "      <td>0.0</td>\n",
       "      <td>0.0</td>\n",
       "      <td>0.0</td>\n",
       "      <td>0.0</td>\n",
       "      <td>0.0</td>\n",
       "      <td>0.0</td>\n",
       "      <td>0.0</td>\n",
       "    </tr>\n",
       "    <tr>\n",
       "      <th>15603</th>\n",
       "      <td>Îles Salomon</td>\n",
       "      <td>Vin</td>\n",
       "      <td>vegetale</td>\n",
       "      <td>0.0</td>\n",
       "      <td>0.0</td>\n",
       "      <td>0.0</td>\n",
       "      <td>0.07</td>\n",
       "      <td>0.00</td>\n",
       "      <td>0.00</td>\n",
       "      <td>0.0</td>\n",
       "      <td>0.0</td>\n",
       "      <td>0.0</td>\n",
       "      <td>0.0</td>\n",
       "      <td>0.0</td>\n",
       "      <td>0.0</td>\n",
       "      <td>0.0</td>\n",
       "      <td>0.0</td>\n",
       "      <td>0.0</td>\n",
       "    </tr>\n",
       "    <tr>\n",
       "      <th>15604</th>\n",
       "      <td>Îles Salomon</td>\n",
       "      <td>Épices, Autres</td>\n",
       "      <td>vegetale</td>\n",
       "      <td>0.0</td>\n",
       "      <td>0.0</td>\n",
       "      <td>4.0</td>\n",
       "      <td>0.48</td>\n",
       "      <td>0.21</td>\n",
       "      <td>0.15</td>\n",
       "      <td>0.0</td>\n",
       "      <td>0.0</td>\n",
       "      <td>0.0</td>\n",
       "      <td>0.0</td>\n",
       "      <td>0.0</td>\n",
       "      <td>0.0</td>\n",
       "      <td>0.0</td>\n",
       "      <td>0.0</td>\n",
       "      <td>0.0</td>\n",
       "    </tr>\n",
       "  </tbody>\n",
       "</table>\n",
       "<p>15605 rows × 18 columns</p>\n",
       "</div>"
      ],
      "text/plain": [
       "               pays                produit   origine  aliments_animaux  \\\n",
       "0       Afghanistan       Abats Comestible   animale               0.0   \n",
       "1       Afghanistan        Agrumes, Autres  vegetale               0.0   \n",
       "2       Afghanistan  Aliments pour enfants  vegetale               0.0   \n",
       "3       Afghanistan                 Ananas  vegetale               0.0   \n",
       "4       Afghanistan                Bananes  vegetale               0.0   \n",
       "...             ...                    ...       ...               ...   \n",
       "15600  Îles Salomon       Viande de Suides   animale               0.0   \n",
       "15601  Îles Salomon    Viande de Volailles   animale               0.0   \n",
       "15602  Îles Salomon          Viande, Autre   animale               0.0   \n",
       "15603  Îles Salomon                    Vin  vegetale               0.0   \n",
       "15604  Îles Salomon         Épices, Autres  vegetale               0.0   \n",
       "\n",
       "       autres_utilisations  calories(kcal/pers/jour)  qte(g/pers/jour)  \\\n",
       "0                      0.0                       5.0              1.72   \n",
       "1                      0.0                       1.0              1.29   \n",
       "2                      0.0                       1.0              0.06   \n",
       "3                      0.0                       0.0              0.00   \n",
       "4                      0.0                       4.0              2.70   \n",
       "...                    ...                       ...               ...   \n",
       "15600                  0.0                      45.0              4.70   \n",
       "15601                  0.0                      11.0              3.34   \n",
       "15602                  0.0                       0.0              0.06   \n",
       "15603                  0.0                       0.0              0.07   \n",
       "15604                  0.0                       4.0              0.48   \n",
       "\n",
       "       lipides(g/pers/jour)  proteines(g/pers/jour)  dispo_inter  \\\n",
       "0                      0.20                    0.77         53.0   \n",
       "1                      0.01                    0.02         41.0   \n",
       "2                      0.01                    0.03          2.0   \n",
       "3                      0.00                    0.00          0.0   \n",
       "4                      0.02                    0.05         82.0   \n",
       "...                     ...                     ...          ...   \n",
       "15600                  4.28                    1.41          3.0   \n",
       "15601                  0.69                    1.14          2.0   \n",
       "15602                  0.00                    0.04          0.0   \n",
       "15603                  0.00                    0.00          0.0   \n",
       "15604                  0.21                    0.15          0.0   \n",
       "\n",
       "       export*1000t  import*1000t  nourriture*1000t  pertes*1000t  \\\n",
       "0               0.0           0.0              53.0           0.0   \n",
       "1               2.0          40.0              39.0           2.0   \n",
       "2               0.0           2.0               2.0           0.0   \n",
       "3               0.0           0.0               0.0           0.0   \n",
       "4               0.0          82.0              82.0           0.0   \n",
       "...             ...           ...               ...           ...   \n",
       "15600           0.0           0.0               3.0           0.0   \n",
       "15601           0.0           2.0               2.0           0.0   \n",
       "15602           0.0           0.0               0.0           0.0   \n",
       "15603           0.0           0.0               0.0           0.0   \n",
       "15604           0.0           0.0               0.0           0.0   \n",
       "\n",
       "       production*1000t  semences*1000t  traitement*1000t  \\\n",
       "0                  53.0             0.0               0.0   \n",
       "1                   3.0             0.0               0.0   \n",
       "2                   0.0             0.0               0.0   \n",
       "3                   0.0             0.0               0.0   \n",
       "4                   0.0             0.0               0.0   \n",
       "...                 ...             ...               ...   \n",
       "15600               2.0             0.0               0.0   \n",
       "15601               0.0             0.0               0.0   \n",
       "15602               0.0             0.0               0.0   \n",
       "15603               0.0             0.0               0.0   \n",
       "15604               0.0             0.0               0.0   \n",
       "\n",
       "       variation_stock*1000t  \n",
       "0                        0.0  \n",
       "1                        0.0  \n",
       "2                        0.0  \n",
       "3                        0.0  \n",
       "4                        0.0  \n",
       "...                      ...  \n",
       "15600                    0.0  \n",
       "15601                    0.0  \n",
       "15602                    0.0  \n",
       "15603                    0.0  \n",
       "15604                    0.0  \n",
       "\n",
       "[15605 rows x 18 columns]"
      ]
     },
     "execution_count": 28,
     "metadata": {},
     "output_type": "execute_result"
    }
   ],
   "source": [
    "dispo"
   ]
  },
  {
   "cell_type": "markdown",
   "id": "4c9385bd",
   "metadata": {},
   "source": [
    "#### 1.4.4 conversion de la série qte(kg/pers/an) en g/pers/jour"
   ]
  },
  {
   "cell_type": "code",
   "execution_count": 29,
   "id": "b95f1391",
   "metadata": {},
   "outputs": [],
   "source": [
    "dispo[\"qte(g/pers/jour)\"] = (dispo[\"qte(g/pers/jour)\"] * 1000)/365"
   ]
  },
  {
   "cell_type": "code",
   "execution_count": 30,
   "id": "d2ad9e9f",
   "metadata": {},
   "outputs": [
    {
     "data": {
      "text/html": [
       "<div>\n",
       "<style scoped>\n",
       "    .dataframe tbody tr th:only-of-type {\n",
       "        vertical-align: middle;\n",
       "    }\n",
       "\n",
       "    .dataframe tbody tr th {\n",
       "        vertical-align: top;\n",
       "    }\n",
       "\n",
       "    .dataframe thead th {\n",
       "        text-align: right;\n",
       "    }\n",
       "</style>\n",
       "<table border=\"1\" class=\"dataframe\">\n",
       "  <thead>\n",
       "    <tr style=\"text-align: right;\">\n",
       "      <th></th>\n",
       "      <th>pays</th>\n",
       "      <th>produit</th>\n",
       "      <th>origine</th>\n",
       "      <th>aliments_animaux</th>\n",
       "      <th>autres_utilisations</th>\n",
       "      <th>calories(kcal/pers/jour)</th>\n",
       "      <th>qte(g/pers/jour)</th>\n",
       "      <th>lipides(g/pers/jour)</th>\n",
       "      <th>proteines(g/pers/jour)</th>\n",
       "      <th>dispo_inter</th>\n",
       "      <th>export*1000t</th>\n",
       "      <th>import*1000t</th>\n",
       "      <th>nourriture*1000t</th>\n",
       "      <th>pertes*1000t</th>\n",
       "      <th>production*1000t</th>\n",
       "      <th>semences*1000t</th>\n",
       "      <th>traitement*1000t</th>\n",
       "      <th>variation_stock*1000t</th>\n",
       "    </tr>\n",
       "  </thead>\n",
       "  <tbody>\n",
       "    <tr>\n",
       "      <th>0</th>\n",
       "      <td>Afghanistan</td>\n",
       "      <td>Abats Comestible</td>\n",
       "      <td>animale</td>\n",
       "      <td>0.0</td>\n",
       "      <td>0.0</td>\n",
       "      <td>5.0</td>\n",
       "      <td>4.712329</td>\n",
       "      <td>0.20</td>\n",
       "      <td>0.77</td>\n",
       "      <td>53.0</td>\n",
       "      <td>0.0</td>\n",
       "      <td>0.0</td>\n",
       "      <td>53.0</td>\n",
       "      <td>0.0</td>\n",
       "      <td>53.0</td>\n",
       "      <td>0.0</td>\n",
       "      <td>0.0</td>\n",
       "      <td>0.0</td>\n",
       "    </tr>\n",
       "    <tr>\n",
       "      <th>1</th>\n",
       "      <td>Afghanistan</td>\n",
       "      <td>Agrumes, Autres</td>\n",
       "      <td>vegetale</td>\n",
       "      <td>0.0</td>\n",
       "      <td>0.0</td>\n",
       "      <td>1.0</td>\n",
       "      <td>3.534247</td>\n",
       "      <td>0.01</td>\n",
       "      <td>0.02</td>\n",
       "      <td>41.0</td>\n",
       "      <td>2.0</td>\n",
       "      <td>40.0</td>\n",
       "      <td>39.0</td>\n",
       "      <td>2.0</td>\n",
       "      <td>3.0</td>\n",
       "      <td>0.0</td>\n",
       "      <td>0.0</td>\n",
       "      <td>0.0</td>\n",
       "    </tr>\n",
       "    <tr>\n",
       "      <th>2</th>\n",
       "      <td>Afghanistan</td>\n",
       "      <td>Aliments pour enfants</td>\n",
       "      <td>vegetale</td>\n",
       "      <td>0.0</td>\n",
       "      <td>0.0</td>\n",
       "      <td>1.0</td>\n",
       "      <td>0.164384</td>\n",
       "      <td>0.01</td>\n",
       "      <td>0.03</td>\n",
       "      <td>2.0</td>\n",
       "      <td>0.0</td>\n",
       "      <td>2.0</td>\n",
       "      <td>2.0</td>\n",
       "      <td>0.0</td>\n",
       "      <td>0.0</td>\n",
       "      <td>0.0</td>\n",
       "      <td>0.0</td>\n",
       "      <td>0.0</td>\n",
       "    </tr>\n",
       "    <tr>\n",
       "      <th>3</th>\n",
       "      <td>Afghanistan</td>\n",
       "      <td>Ananas</td>\n",
       "      <td>vegetale</td>\n",
       "      <td>0.0</td>\n",
       "      <td>0.0</td>\n",
       "      <td>0.0</td>\n",
       "      <td>0.000000</td>\n",
       "      <td>0.00</td>\n",
       "      <td>0.00</td>\n",
       "      <td>0.0</td>\n",
       "      <td>0.0</td>\n",
       "      <td>0.0</td>\n",
       "      <td>0.0</td>\n",
       "      <td>0.0</td>\n",
       "      <td>0.0</td>\n",
       "      <td>0.0</td>\n",
       "      <td>0.0</td>\n",
       "      <td>0.0</td>\n",
       "    </tr>\n",
       "    <tr>\n",
       "      <th>4</th>\n",
       "      <td>Afghanistan</td>\n",
       "      <td>Bananes</td>\n",
       "      <td>vegetale</td>\n",
       "      <td>0.0</td>\n",
       "      <td>0.0</td>\n",
       "      <td>4.0</td>\n",
       "      <td>7.397260</td>\n",
       "      <td>0.02</td>\n",
       "      <td>0.05</td>\n",
       "      <td>82.0</td>\n",
       "      <td>0.0</td>\n",
       "      <td>82.0</td>\n",
       "      <td>82.0</td>\n",
       "      <td>0.0</td>\n",
       "      <td>0.0</td>\n",
       "      <td>0.0</td>\n",
       "      <td>0.0</td>\n",
       "      <td>0.0</td>\n",
       "    </tr>\n",
       "    <tr>\n",
       "      <th>...</th>\n",
       "      <td>...</td>\n",
       "      <td>...</td>\n",
       "      <td>...</td>\n",
       "      <td>...</td>\n",
       "      <td>...</td>\n",
       "      <td>...</td>\n",
       "      <td>...</td>\n",
       "      <td>...</td>\n",
       "      <td>...</td>\n",
       "      <td>...</td>\n",
       "      <td>...</td>\n",
       "      <td>...</td>\n",
       "      <td>...</td>\n",
       "      <td>...</td>\n",
       "      <td>...</td>\n",
       "      <td>...</td>\n",
       "      <td>...</td>\n",
       "      <td>...</td>\n",
       "    </tr>\n",
       "    <tr>\n",
       "      <th>15600</th>\n",
       "      <td>Îles Salomon</td>\n",
       "      <td>Viande de Suides</td>\n",
       "      <td>animale</td>\n",
       "      <td>0.0</td>\n",
       "      <td>0.0</td>\n",
       "      <td>45.0</td>\n",
       "      <td>12.876712</td>\n",
       "      <td>4.28</td>\n",
       "      <td>1.41</td>\n",
       "      <td>3.0</td>\n",
       "      <td>0.0</td>\n",
       "      <td>0.0</td>\n",
       "      <td>3.0</td>\n",
       "      <td>0.0</td>\n",
       "      <td>2.0</td>\n",
       "      <td>0.0</td>\n",
       "      <td>0.0</td>\n",
       "      <td>0.0</td>\n",
       "    </tr>\n",
       "    <tr>\n",
       "      <th>15601</th>\n",
       "      <td>Îles Salomon</td>\n",
       "      <td>Viande de Volailles</td>\n",
       "      <td>animale</td>\n",
       "      <td>0.0</td>\n",
       "      <td>0.0</td>\n",
       "      <td>11.0</td>\n",
       "      <td>9.150685</td>\n",
       "      <td>0.69</td>\n",
       "      <td>1.14</td>\n",
       "      <td>2.0</td>\n",
       "      <td>0.0</td>\n",
       "      <td>2.0</td>\n",
       "      <td>2.0</td>\n",
       "      <td>0.0</td>\n",
       "      <td>0.0</td>\n",
       "      <td>0.0</td>\n",
       "      <td>0.0</td>\n",
       "      <td>0.0</td>\n",
       "    </tr>\n",
       "    <tr>\n",
       "      <th>15602</th>\n",
       "      <td>Îles Salomon</td>\n",
       "      <td>Viande, Autre</td>\n",
       "      <td>animale</td>\n",
       "      <td>0.0</td>\n",
       "      <td>0.0</td>\n",
       "      <td>0.0</td>\n",
       "      <td>0.164384</td>\n",
       "      <td>0.00</td>\n",
       "      <td>0.04</td>\n",
       "      <td>0.0</td>\n",
       "      <td>0.0</td>\n",
       "      <td>0.0</td>\n",
       "      <td>0.0</td>\n",
       "      <td>0.0</td>\n",
       "      <td>0.0</td>\n",
       "      <td>0.0</td>\n",
       "      <td>0.0</td>\n",
       "      <td>0.0</td>\n",
       "    </tr>\n",
       "    <tr>\n",
       "      <th>15603</th>\n",
       "      <td>Îles Salomon</td>\n",
       "      <td>Vin</td>\n",
       "      <td>vegetale</td>\n",
       "      <td>0.0</td>\n",
       "      <td>0.0</td>\n",
       "      <td>0.0</td>\n",
       "      <td>0.191781</td>\n",
       "      <td>0.00</td>\n",
       "      <td>0.00</td>\n",
       "      <td>0.0</td>\n",
       "      <td>0.0</td>\n",
       "      <td>0.0</td>\n",
       "      <td>0.0</td>\n",
       "      <td>0.0</td>\n",
       "      <td>0.0</td>\n",
       "      <td>0.0</td>\n",
       "      <td>0.0</td>\n",
       "      <td>0.0</td>\n",
       "    </tr>\n",
       "    <tr>\n",
       "      <th>15604</th>\n",
       "      <td>Îles Salomon</td>\n",
       "      <td>Épices, Autres</td>\n",
       "      <td>vegetale</td>\n",
       "      <td>0.0</td>\n",
       "      <td>0.0</td>\n",
       "      <td>4.0</td>\n",
       "      <td>1.315068</td>\n",
       "      <td>0.21</td>\n",
       "      <td>0.15</td>\n",
       "      <td>0.0</td>\n",
       "      <td>0.0</td>\n",
       "      <td>0.0</td>\n",
       "      <td>0.0</td>\n",
       "      <td>0.0</td>\n",
       "      <td>0.0</td>\n",
       "      <td>0.0</td>\n",
       "      <td>0.0</td>\n",
       "      <td>0.0</td>\n",
       "    </tr>\n",
       "  </tbody>\n",
       "</table>\n",
       "<p>15605 rows × 18 columns</p>\n",
       "</div>"
      ],
      "text/plain": [
       "               pays                produit   origine  aliments_animaux  \\\n",
       "0       Afghanistan       Abats Comestible   animale               0.0   \n",
       "1       Afghanistan        Agrumes, Autres  vegetale               0.0   \n",
       "2       Afghanistan  Aliments pour enfants  vegetale               0.0   \n",
       "3       Afghanistan                 Ananas  vegetale               0.0   \n",
       "4       Afghanistan                Bananes  vegetale               0.0   \n",
       "...             ...                    ...       ...               ...   \n",
       "15600  Îles Salomon       Viande de Suides   animale               0.0   \n",
       "15601  Îles Salomon    Viande de Volailles   animale               0.0   \n",
       "15602  Îles Salomon          Viande, Autre   animale               0.0   \n",
       "15603  Îles Salomon                    Vin  vegetale               0.0   \n",
       "15604  Îles Salomon         Épices, Autres  vegetale               0.0   \n",
       "\n",
       "       autres_utilisations  calories(kcal/pers/jour)  qte(g/pers/jour)  \\\n",
       "0                      0.0                       5.0          4.712329   \n",
       "1                      0.0                       1.0          3.534247   \n",
       "2                      0.0                       1.0          0.164384   \n",
       "3                      0.0                       0.0          0.000000   \n",
       "4                      0.0                       4.0          7.397260   \n",
       "...                    ...                       ...               ...   \n",
       "15600                  0.0                      45.0         12.876712   \n",
       "15601                  0.0                      11.0          9.150685   \n",
       "15602                  0.0                       0.0          0.164384   \n",
       "15603                  0.0                       0.0          0.191781   \n",
       "15604                  0.0                       4.0          1.315068   \n",
       "\n",
       "       lipides(g/pers/jour)  proteines(g/pers/jour)  dispo_inter  \\\n",
       "0                      0.20                    0.77         53.0   \n",
       "1                      0.01                    0.02         41.0   \n",
       "2                      0.01                    0.03          2.0   \n",
       "3                      0.00                    0.00          0.0   \n",
       "4                      0.02                    0.05         82.0   \n",
       "...                     ...                     ...          ...   \n",
       "15600                  4.28                    1.41          3.0   \n",
       "15601                  0.69                    1.14          2.0   \n",
       "15602                  0.00                    0.04          0.0   \n",
       "15603                  0.00                    0.00          0.0   \n",
       "15604                  0.21                    0.15          0.0   \n",
       "\n",
       "       export*1000t  import*1000t  nourriture*1000t  pertes*1000t  \\\n",
       "0               0.0           0.0              53.0           0.0   \n",
       "1               2.0          40.0              39.0           2.0   \n",
       "2               0.0           2.0               2.0           0.0   \n",
       "3               0.0           0.0               0.0           0.0   \n",
       "4               0.0          82.0              82.0           0.0   \n",
       "...             ...           ...               ...           ...   \n",
       "15600           0.0           0.0               3.0           0.0   \n",
       "15601           0.0           2.0               2.0           0.0   \n",
       "15602           0.0           0.0               0.0           0.0   \n",
       "15603           0.0           0.0               0.0           0.0   \n",
       "15604           0.0           0.0               0.0           0.0   \n",
       "\n",
       "       production*1000t  semences*1000t  traitement*1000t  \\\n",
       "0                  53.0             0.0               0.0   \n",
       "1                   3.0             0.0               0.0   \n",
       "2                   0.0             0.0               0.0   \n",
       "3                   0.0             0.0               0.0   \n",
       "4                   0.0             0.0               0.0   \n",
       "...                 ...             ...               ...   \n",
       "15600               2.0             0.0               0.0   \n",
       "15601               0.0             0.0               0.0   \n",
       "15602               0.0             0.0               0.0   \n",
       "15603               0.0             0.0               0.0   \n",
       "15604               0.0             0.0               0.0   \n",
       "\n",
       "       variation_stock*1000t  \n",
       "0                        0.0  \n",
       "1                        0.0  \n",
       "2                        0.0  \n",
       "3                        0.0  \n",
       "4                        0.0  \n",
       "...                      ...  \n",
       "15600                    0.0  \n",
       "15601                    0.0  \n",
       "15602                    0.0  \n",
       "15603                    0.0  \n",
       "15604                    0.0  \n",
       "\n",
       "[15605 rows x 18 columns]"
      ]
     },
     "execution_count": 30,
     "metadata": {},
     "output_type": "execute_result"
    }
   ],
   "source": [
    "dispo"
   ]
  },
  {
   "cell_type": "markdown",
   "id": "8dae591b",
   "metadata": {},
   "source": [
    "#### 1.4.5 vérification d'absence de valeur NULL"
   ]
  },
  {
   "cell_type": "code",
   "execution_count": 31,
   "id": "3a9dfd51",
   "metadata": {},
   "outputs": [
    {
     "data": {
      "text/plain": [
       "pays                        0\n",
       "produit                     0\n",
       "origine                     0\n",
       "aliments_animaux            0\n",
       "autres_utilisations         0\n",
       "calories(kcal/pers/jour)    0\n",
       "qte(g/pers/jour)            0\n",
       "lipides(g/pers/jour)        0\n",
       "proteines(g/pers/jour)      0\n",
       "dispo_inter                 0\n",
       "export*1000t                0\n",
       "import*1000t                0\n",
       "nourriture*1000t            0\n",
       "pertes*1000t                0\n",
       "production*1000t            0\n",
       "semences*1000t              0\n",
       "traitement*1000t            0\n",
       "variation_stock*1000t       0\n",
       "dtype: int64"
      ]
     },
     "execution_count": 31,
     "metadata": {},
     "output_type": "execute_result"
    }
   ],
   "source": [
    "dispo.isnull().sum()"
   ]
  },
  {
   "cell_type": "markdown",
   "id": "27eebc21",
   "metadata": {},
   "source": [
    "#### 1.4.6 Passage de la série \"pays\" en caractères minuscules"
   ]
  },
  {
   "cell_type": "code",
   "execution_count": 32,
   "id": "f1480183",
   "metadata": {},
   "outputs": [],
   "source": [
    "dispo[\"pays\"]=dispo[\"pays\"].str.lower()"
   ]
  },
  {
   "cell_type": "markdown",
   "id": "7df77051",
   "metadata": {},
   "source": [
    "#### 1.4.7 suppression des prenthèses dans la série \"pays\""
   ]
  },
  {
   "cell_type": "code",
   "execution_count": 33,
   "id": "969b94fa",
   "metadata": {},
   "outputs": [],
   "source": [
    "dispo[\"pays\"] = dispo[\"pays\"].replace(\"[()]\",\"\", regex=True)\n",
    "dispo[\"pays\"] = dispo[\"pays\"].str.replace (\"[-]\",\" \", regex=True)\n",
    "dispo[\"pays\"] = dispo[\"pays\"].str.replace (\"[,]\",\" \", regex=True)"
   ]
  },
  {
   "cell_type": "markdown",
   "id": "8d2a28c9",
   "metadata": {},
   "source": [
    "#### 1.4.8 Renommage de valeurs dans la série \"pays\""
   ]
  },
  {
   "cell_type": "code",
   "execution_count": 34,
   "id": "6a4d7134",
   "metadata": {},
   "outputs": [],
   "source": [
    "dispo [\"pays\"]  = dispo[\"pays\"].str.replace(\"bolivie état plurinational de\",\"bolivie\", regex=True)\n",
    "dispo [\"pays\"]  = dispo[\"pays\"].str.replace(\"chine   ras de hong kong\",\"chine_hong-kong\", regex=True)\n",
    "dispo [\"pays\"]  = dispo[\"pays\"].str.replace(\"chine   ras de macao\",\"chine_macao\", regex=True)\n",
    "dispo [\"pays\"]  = dispo[\"pays\"].str.replace(\"chine  taiwan province de\",\"chine_taiwan\", regex=True)\n",
    "dispo [\"pays\"]  = dispo[\"pays\"].str.replace(\"el salvador\",\"salvador\", regex=True)\n",
    "dispo [\"pays\"]  = dispo[\"pays\"].str.replace(\"iran république islamique d'\",\"iran\", regex=True)\n",
    "dispo [\"pays\"]  = dispo[\"pays\"].str.replace(\"république arabe syrienne\",\"syrie\", regex=True)\n",
    "dispo [\"pays\"]  = dispo[\"pays\"].str.replace(\"république de corée\",\"corée du sud\", regex=True)\n",
    "dispo [\"pays\"]  = dispo[\"pays\"].str.replace(\"république de moldova\",\"moldavie\", regex=True)\n",
    "dispo [\"pays\"]  = dispo[\"pays\"].str.replace(\"république démocratique populaire lao\",\"laos\", regex=True)\n",
    "dispo [\"pays\"]  = dispo[\"pays\"].str.replace(\"république populaire démocratique de corée\",\"corée du nord\", regex=True)\n",
    "dispo [\"pays\"]  = dispo[\"pays\"].str.replace(\"république unie de tanzanie\",\"tanzanie\", regex=True)\n",
    "dispo [\"pays\"]  = dispo[\"pays\"].str.replace(\"venezuela  république bolivarienne du \",\"venezuela\", regex=True)"
   ]
  },
  {
   "cell_type": "markdown",
   "id": "b88ac1d8",
   "metadata": {},
   "source": [
    "## 1.5 dataframe \"populations\""
   ]
  },
  {
   "cell_type": "markdown",
   "id": "11d90e75",
   "metadata": {},
   "source": [
    "   #### 1.5.1 Consultation des données de populations"
   ]
  },
  {
   "cell_type": "code",
   "execution_count": 35,
   "id": "dee2d05b",
   "metadata": {},
   "outputs": [
    {
     "data": {
      "text/html": [
       "<div>\n",
       "<style scoped>\n",
       "    .dataframe tbody tr th:only-of-type {\n",
       "        vertical-align: middle;\n",
       "    }\n",
       "\n",
       "    .dataframe tbody tr th {\n",
       "        vertical-align: top;\n",
       "    }\n",
       "\n",
       "    .dataframe thead th {\n",
       "        text-align: right;\n",
       "    }\n",
       "</style>\n",
       "<table border=\"1\" class=\"dataframe\">\n",
       "  <thead>\n",
       "    <tr style=\"text-align: right;\">\n",
       "      <th></th>\n",
       "      <th>Zone</th>\n",
       "      <th>Année</th>\n",
       "      <th>Valeur</th>\n",
       "    </tr>\n",
       "  </thead>\n",
       "  <tbody>\n",
       "    <tr>\n",
       "      <th>0</th>\n",
       "      <td>Afghanistan</td>\n",
       "      <td>2013</td>\n",
       "      <td>32269.589</td>\n",
       "    </tr>\n",
       "    <tr>\n",
       "      <th>1</th>\n",
       "      <td>Afghanistan</td>\n",
       "      <td>2014</td>\n",
       "      <td>33370.794</td>\n",
       "    </tr>\n",
       "    <tr>\n",
       "      <th>2</th>\n",
       "      <td>Afghanistan</td>\n",
       "      <td>2015</td>\n",
       "      <td>34413.603</td>\n",
       "    </tr>\n",
       "    <tr>\n",
       "      <th>3</th>\n",
       "      <td>Afghanistan</td>\n",
       "      <td>2016</td>\n",
       "      <td>35383.032</td>\n",
       "    </tr>\n",
       "    <tr>\n",
       "      <th>4</th>\n",
       "      <td>Afghanistan</td>\n",
       "      <td>2017</td>\n",
       "      <td>36296.113</td>\n",
       "    </tr>\n",
       "    <tr>\n",
       "      <th>...</th>\n",
       "      <td>...</td>\n",
       "      <td>...</td>\n",
       "      <td>...</td>\n",
       "    </tr>\n",
       "    <tr>\n",
       "      <th>1411</th>\n",
       "      <td>Zimbabwe</td>\n",
       "      <td>2014</td>\n",
       "      <td>13586.707</td>\n",
       "    </tr>\n",
       "    <tr>\n",
       "      <th>1412</th>\n",
       "      <td>Zimbabwe</td>\n",
       "      <td>2015</td>\n",
       "      <td>13814.629</td>\n",
       "    </tr>\n",
       "    <tr>\n",
       "      <th>1413</th>\n",
       "      <td>Zimbabwe</td>\n",
       "      <td>2016</td>\n",
       "      <td>14030.331</td>\n",
       "    </tr>\n",
       "    <tr>\n",
       "      <th>1414</th>\n",
       "      <td>Zimbabwe</td>\n",
       "      <td>2017</td>\n",
       "      <td>14236.595</td>\n",
       "    </tr>\n",
       "    <tr>\n",
       "      <th>1415</th>\n",
       "      <td>Zimbabwe</td>\n",
       "      <td>2018</td>\n",
       "      <td>14438.802</td>\n",
       "    </tr>\n",
       "  </tbody>\n",
       "</table>\n",
       "<p>1416 rows × 3 columns</p>\n",
       "</div>"
      ],
      "text/plain": [
       "             Zone  Année     Valeur\n",
       "0     Afghanistan   2013  32269.589\n",
       "1     Afghanistan   2014  33370.794\n",
       "2     Afghanistan   2015  34413.603\n",
       "3     Afghanistan   2016  35383.032\n",
       "4     Afghanistan   2017  36296.113\n",
       "...           ...    ...        ...\n",
       "1411     Zimbabwe   2014  13586.707\n",
       "1412     Zimbabwe   2015  13814.629\n",
       "1413     Zimbabwe   2016  14030.331\n",
       "1414     Zimbabwe   2017  14236.595\n",
       "1415     Zimbabwe   2018  14438.802\n",
       "\n",
       "[1416 rows x 3 columns]"
      ]
     },
     "execution_count": 35,
     "metadata": {},
     "output_type": "execute_result"
    }
   ],
   "source": [
    "populations"
   ]
  },
  {
   "cell_type": "markdown",
   "id": "0c02e329",
   "metadata": {},
   "source": [
    "#### verification des types de données"
   ]
  },
  {
   "cell_type": "code",
   "execution_count": 36,
   "id": "ee324808",
   "metadata": {},
   "outputs": [
    {
     "data": {
      "text/plain": [
       "Zone       object\n",
       "Année       int64\n",
       "Valeur    float64\n",
       "dtype: object"
      ]
     },
     "execution_count": 36,
     "metadata": {},
     "output_type": "execute_result"
    }
   ],
   "source": [
    "populations.dtypes"
   ]
  },
  {
   "cell_type": "markdown",
   "id": "9018ff2e",
   "metadata": {},
   "source": [
    "#### 1.5.2 Renommage des séries"
   ]
  },
  {
   "cell_type": "code",
   "execution_count": 37,
   "id": "c4a1d76f",
   "metadata": {},
   "outputs": [],
   "source": [
    "populations.rename(\n",
    "    columns={\n",
    "        \"Zone\"  : \"pays\",\n",
    "        \"Année\" : \"année\",\n",
    "        \"Valeur\": \"population\"\n",
    "        },\n",
    "    inplace=True\n",
    ")"
   ]
  },
  {
   "cell_type": "markdown",
   "id": "51a874dc",
   "metadata": {},
   "source": [
    "#### Vérification du bon fonctionnement pour le renommage des séries"
   ]
  },
  {
   "cell_type": "code",
   "execution_count": 38,
   "id": "656d8356",
   "metadata": {},
   "outputs": [
    {
     "data": {
      "text/html": [
       "<div>\n",
       "<style scoped>\n",
       "    .dataframe tbody tr th:only-of-type {\n",
       "        vertical-align: middle;\n",
       "    }\n",
       "\n",
       "    .dataframe tbody tr th {\n",
       "        vertical-align: top;\n",
       "    }\n",
       "\n",
       "    .dataframe thead th {\n",
       "        text-align: right;\n",
       "    }\n",
       "</style>\n",
       "<table border=\"1\" class=\"dataframe\">\n",
       "  <thead>\n",
       "    <tr style=\"text-align: right;\">\n",
       "      <th></th>\n",
       "      <th>pays</th>\n",
       "      <th>année</th>\n",
       "      <th>population</th>\n",
       "    </tr>\n",
       "  </thead>\n",
       "  <tbody>\n",
       "    <tr>\n",
       "      <th>0</th>\n",
       "      <td>Afghanistan</td>\n",
       "      <td>2013</td>\n",
       "      <td>32269.589</td>\n",
       "    </tr>\n",
       "    <tr>\n",
       "      <th>1</th>\n",
       "      <td>Afghanistan</td>\n",
       "      <td>2014</td>\n",
       "      <td>33370.794</td>\n",
       "    </tr>\n",
       "    <tr>\n",
       "      <th>2</th>\n",
       "      <td>Afghanistan</td>\n",
       "      <td>2015</td>\n",
       "      <td>34413.603</td>\n",
       "    </tr>\n",
       "    <tr>\n",
       "      <th>3</th>\n",
       "      <td>Afghanistan</td>\n",
       "      <td>2016</td>\n",
       "      <td>35383.032</td>\n",
       "    </tr>\n",
       "    <tr>\n",
       "      <th>4</th>\n",
       "      <td>Afghanistan</td>\n",
       "      <td>2017</td>\n",
       "      <td>36296.113</td>\n",
       "    </tr>\n",
       "    <tr>\n",
       "      <th>...</th>\n",
       "      <td>...</td>\n",
       "      <td>...</td>\n",
       "      <td>...</td>\n",
       "    </tr>\n",
       "    <tr>\n",
       "      <th>1411</th>\n",
       "      <td>Zimbabwe</td>\n",
       "      <td>2014</td>\n",
       "      <td>13586.707</td>\n",
       "    </tr>\n",
       "    <tr>\n",
       "      <th>1412</th>\n",
       "      <td>Zimbabwe</td>\n",
       "      <td>2015</td>\n",
       "      <td>13814.629</td>\n",
       "    </tr>\n",
       "    <tr>\n",
       "      <th>1413</th>\n",
       "      <td>Zimbabwe</td>\n",
       "      <td>2016</td>\n",
       "      <td>14030.331</td>\n",
       "    </tr>\n",
       "    <tr>\n",
       "      <th>1414</th>\n",
       "      <td>Zimbabwe</td>\n",
       "      <td>2017</td>\n",
       "      <td>14236.595</td>\n",
       "    </tr>\n",
       "    <tr>\n",
       "      <th>1415</th>\n",
       "      <td>Zimbabwe</td>\n",
       "      <td>2018</td>\n",
       "      <td>14438.802</td>\n",
       "    </tr>\n",
       "  </tbody>\n",
       "</table>\n",
       "<p>1416 rows × 3 columns</p>\n",
       "</div>"
      ],
      "text/plain": [
       "             pays  année  population\n",
       "0     Afghanistan   2013   32269.589\n",
       "1     Afghanistan   2014   33370.794\n",
       "2     Afghanistan   2015   34413.603\n",
       "3     Afghanistan   2016   35383.032\n",
       "4     Afghanistan   2017   36296.113\n",
       "...           ...    ...         ...\n",
       "1411     Zimbabwe   2014   13586.707\n",
       "1412     Zimbabwe   2015   13814.629\n",
       "1413     Zimbabwe   2016   14030.331\n",
       "1414     Zimbabwe   2017   14236.595\n",
       "1415     Zimbabwe   2018   14438.802\n",
       "\n",
       "[1416 rows x 3 columns]"
      ]
     },
     "execution_count": 38,
     "metadata": {},
     "output_type": "execute_result"
    }
   ],
   "source": [
    "populations"
   ]
  },
  {
   "cell_type": "markdown",
   "id": "c458f346",
   "metadata": {},
   "source": [
    "#### 1.5.3 verification d'absence de valeur null"
   ]
  },
  {
   "cell_type": "code",
   "execution_count": 39,
   "id": "fa9afa61",
   "metadata": {},
   "outputs": [
    {
     "data": {
      "text/plain": [
       "pays          0\n",
       "année         0\n",
       "population    0\n",
       "dtype: int64"
      ]
     },
     "execution_count": 39,
     "metadata": {},
     "output_type": "execute_result"
    }
   ],
   "source": [
    "populations.isnull().sum()"
   ]
  },
  {
   "cell_type": "markdown",
   "id": "aaef743d",
   "metadata": {},
   "source": [
    "#### 1.5.4 passage des valeurs de  \"populations\"  en unités"
   ]
  },
  {
   "cell_type": "code",
   "execution_count": 40,
   "id": "3f9105de",
   "metadata": {},
   "outputs": [],
   "source": [
    "populations[\"population\"]= populations[\"population\"] * 1000"
   ]
  },
  {
   "cell_type": "markdown",
   "id": "8a960e72",
   "metadata": {},
   "source": [
    "#### 1.5.5 modification du type de données pour la série \"population\""
   ]
  },
  {
   "cell_type": "code",
   "execution_count": 41,
   "id": "ba65d47b",
   "metadata": {},
   "outputs": [],
   "source": [
    "populations[\"population\"] = populations.population.astype(int)"
   ]
  },
  {
   "cell_type": "markdown",
   "id": "f2cf7d47",
   "metadata": {},
   "source": [
    "#### Appel du dataframe pour vérification du changement du type de données de la série \"population\" en \"int\""
   ]
  },
  {
   "cell_type": "code",
   "execution_count": 42,
   "id": "0f620217",
   "metadata": {},
   "outputs": [
    {
     "data": {
      "text/html": [
       "<div>\n",
       "<style scoped>\n",
       "    .dataframe tbody tr th:only-of-type {\n",
       "        vertical-align: middle;\n",
       "    }\n",
       "\n",
       "    .dataframe tbody tr th {\n",
       "        vertical-align: top;\n",
       "    }\n",
       "\n",
       "    .dataframe thead th {\n",
       "        text-align: right;\n",
       "    }\n",
       "</style>\n",
       "<table border=\"1\" class=\"dataframe\">\n",
       "  <thead>\n",
       "    <tr style=\"text-align: right;\">\n",
       "      <th></th>\n",
       "      <th>pays</th>\n",
       "      <th>année</th>\n",
       "      <th>population</th>\n",
       "    </tr>\n",
       "  </thead>\n",
       "  <tbody>\n",
       "    <tr>\n",
       "      <th>0</th>\n",
       "      <td>Afghanistan</td>\n",
       "      <td>2013</td>\n",
       "      <td>32269589</td>\n",
       "    </tr>\n",
       "    <tr>\n",
       "      <th>1</th>\n",
       "      <td>Afghanistan</td>\n",
       "      <td>2014</td>\n",
       "      <td>33370794</td>\n",
       "    </tr>\n",
       "    <tr>\n",
       "      <th>2</th>\n",
       "      <td>Afghanistan</td>\n",
       "      <td>2015</td>\n",
       "      <td>34413603</td>\n",
       "    </tr>\n",
       "    <tr>\n",
       "      <th>3</th>\n",
       "      <td>Afghanistan</td>\n",
       "      <td>2016</td>\n",
       "      <td>35383032</td>\n",
       "    </tr>\n",
       "    <tr>\n",
       "      <th>4</th>\n",
       "      <td>Afghanistan</td>\n",
       "      <td>2017</td>\n",
       "      <td>36296113</td>\n",
       "    </tr>\n",
       "    <tr>\n",
       "      <th>...</th>\n",
       "      <td>...</td>\n",
       "      <td>...</td>\n",
       "      <td>...</td>\n",
       "    </tr>\n",
       "    <tr>\n",
       "      <th>1411</th>\n",
       "      <td>Zimbabwe</td>\n",
       "      <td>2014</td>\n",
       "      <td>13586707</td>\n",
       "    </tr>\n",
       "    <tr>\n",
       "      <th>1412</th>\n",
       "      <td>Zimbabwe</td>\n",
       "      <td>2015</td>\n",
       "      <td>13814629</td>\n",
       "    </tr>\n",
       "    <tr>\n",
       "      <th>1413</th>\n",
       "      <td>Zimbabwe</td>\n",
       "      <td>2016</td>\n",
       "      <td>14030331</td>\n",
       "    </tr>\n",
       "    <tr>\n",
       "      <th>1414</th>\n",
       "      <td>Zimbabwe</td>\n",
       "      <td>2017</td>\n",
       "      <td>14236595</td>\n",
       "    </tr>\n",
       "    <tr>\n",
       "      <th>1415</th>\n",
       "      <td>Zimbabwe</td>\n",
       "      <td>2018</td>\n",
       "      <td>14438802</td>\n",
       "    </tr>\n",
       "  </tbody>\n",
       "</table>\n",
       "<p>1416 rows × 3 columns</p>\n",
       "</div>"
      ],
      "text/plain": [
       "             pays  année  population\n",
       "0     Afghanistan   2013    32269589\n",
       "1     Afghanistan   2014    33370794\n",
       "2     Afghanistan   2015    34413603\n",
       "3     Afghanistan   2016    35383032\n",
       "4     Afghanistan   2017    36296113\n",
       "...           ...    ...         ...\n",
       "1411     Zimbabwe   2014    13586707\n",
       "1412     Zimbabwe   2015    13814629\n",
       "1413     Zimbabwe   2016    14030331\n",
       "1414     Zimbabwe   2017    14236595\n",
       "1415     Zimbabwe   2018    14438802\n",
       "\n",
       "[1416 rows x 3 columns]"
      ]
     },
     "execution_count": 42,
     "metadata": {},
     "output_type": "execute_result"
    }
   ],
   "source": [
    "populations"
   ]
  },
  {
   "cell_type": "markdown",
   "id": "f2baec64",
   "metadata": {},
   "source": [
    "#### Nouvelle observation des types de données du dataframe \"populations\""
   ]
  },
  {
   "cell_type": "code",
   "execution_count": 43,
   "id": "beb64043",
   "metadata": {},
   "outputs": [
    {
     "data": {
      "text/plain": [
       "pays          object\n",
       "année          int64\n",
       "population     int32\n",
       "dtype: object"
      ]
     },
     "execution_count": 43,
     "metadata": {},
     "output_type": "execute_result"
    }
   ],
   "source": [
    "populations.dtypes"
   ]
  },
  {
   "cell_type": "markdown",
   "id": "4cc80034",
   "metadata": {},
   "source": [
    "#### 1.5.6 Passage de la série \"pays\" en caractères minuscules"
   ]
  },
  {
   "cell_type": "code",
   "execution_count": 44,
   "id": "25ea8861",
   "metadata": {},
   "outputs": [],
   "source": [
    "populations[\"pays\"]=populations[\"pays\"].str.lower()"
   ]
  },
  {
   "cell_type": "markdown",
   "id": "081268db",
   "metadata": {},
   "source": [
    "#### 1.5.7 suppression des prenthèses dans la série \"pays\""
   ]
  },
  {
   "cell_type": "code",
   "execution_count": 45,
   "id": "ebd21660",
   "metadata": {},
   "outputs": [],
   "source": [
    "populations[\"pays\"] = populations[\"pays\"].replace(\"[()]\",\"\", regex=True)\n",
    "populations[\"pays\"] = populations[\"pays\"].str.replace (\"[-]\",\" \", regex=True)\n",
    "populations[\"pays\"] = populations[\"pays\"].str.replace (\"[,]\",\" \", regex=True)"
   ]
  },
  {
   "cell_type": "markdown",
   "id": "7cf338ea",
   "metadata": {},
   "source": [
    "#### 1.5.8 Renommage de valeurs dans la série \"pays\""
   ]
  },
  {
   "cell_type": "code",
   "execution_count": 46,
   "id": "fb7785e3",
   "metadata": {},
   "outputs": [],
   "source": [
    "populations [\"pays\"]  = populations[\"pays\"].str.replace(\"bolivie état plurinational de\",\"bolivie\", regex=True)\n",
    "populations [\"pays\"]  = populations[\"pays\"].str.replace(\"chine   ras de hong kong\",\"chine_hong-kong\", regex=True)\n",
    "populations [\"pays\"]  = populations[\"pays\"].str.replace(\"chine   ras de macao\",\"chine_macao\", regex=True)\n",
    "populations [\"pays\"]  = populations[\"pays\"].str.replace(\"chine  taiwan province de\",\"chine_taiwan\", regex=True)\n",
    "populations [\"pays\"]  = populations[\"pays\"].str.replace(\"el salvador\",\"salvador\", regex=True)\n",
    "populations [\"pays\"]  = populations[\"pays\"].str.replace(\"iran république islamique d'\",\"iran\", regex=True)\n",
    "populations [\"pays\"]  = populations[\"pays\"].str.replace(\"république arabe syrienne\",\"syrie\", regex=True)\n",
    "populations [\"pays\"]  = populations[\"pays\"].str.replace(\"république de corée\",\"corée du sud\", regex=True)\n",
    "populations [\"pays\"]  = populations[\"pays\"].str.replace(\"république de moldova\",\"moldavie\", regex=True)\n",
    "populations [\"pays\"]  = populations[\"pays\"].str.replace(\"république démocratique populaire lao\",\"laos\", regex=True)\n",
    "populations [\"pays\"]  = populations[\"pays\"].str.replace(\"république populaire démocratique de corée\",\"corée du nord\", regex=True)\n",
    "populations [\"pays\"]  = populations[\"pays\"].str.replace(\"république unie de tanzanie\",\"tanzanie\", regex=True)\n",
    "populations [\"pays\"]  = populations[\"pays\"].str.replace(\"venezuela  république bolivarienne du \",\"venezuela\", regex=True)\n",
    "populations [\"pays\"]  = populations[\"pays\"].str.replace(\"royaume uni de grande bretagne et d'irlande du nord\",\"royaume uni\", regex=True)\n",
    "populations [\"pays\"]  = populations[\"pays\"].str.replace(\"sint maarten  partie néerlandaise\",\"saint martin partie néerlandaise\", regex=True)"
   ]
  },
  {
   "cell_type": "markdown",
   "id": "fb482165",
   "metadata": {},
   "source": [
    "## 1.6 dataframe \"aides\""
   ]
  },
  {
   "cell_type": "markdown",
   "id": "a4740a47",
   "metadata": {},
   "source": [
    "#### 1.6.1 consultation des données du dataframe \"aides\""
   ]
  },
  {
   "cell_type": "code",
   "execution_count": 47,
   "id": "e71e9dac",
   "metadata": {},
   "outputs": [
    {
     "data": {
      "text/html": [
       "<div>\n",
       "<style scoped>\n",
       "    .dataframe tbody tr th:only-of-type {\n",
       "        vertical-align: middle;\n",
       "    }\n",
       "\n",
       "    .dataframe tbody tr th {\n",
       "        vertical-align: top;\n",
       "    }\n",
       "\n",
       "    .dataframe thead th {\n",
       "        text-align: right;\n",
       "    }\n",
       "</style>\n",
       "<table border=\"1\" class=\"dataframe\">\n",
       "  <thead>\n",
       "    <tr style=\"text-align: right;\">\n",
       "      <th></th>\n",
       "      <th>Pays bénéficiaire</th>\n",
       "      <th>Année</th>\n",
       "      <th>Produit</th>\n",
       "      <th>Valeur</th>\n",
       "    </tr>\n",
       "  </thead>\n",
       "  <tbody>\n",
       "    <tr>\n",
       "      <th>0</th>\n",
       "      <td>Afghanistan</td>\n",
       "      <td>2013</td>\n",
       "      <td>Autres non-céréales</td>\n",
       "      <td>682</td>\n",
       "    </tr>\n",
       "    <tr>\n",
       "      <th>1</th>\n",
       "      <td>Afghanistan</td>\n",
       "      <td>2014</td>\n",
       "      <td>Autres non-céréales</td>\n",
       "      <td>335</td>\n",
       "    </tr>\n",
       "    <tr>\n",
       "      <th>2</th>\n",
       "      <td>Afghanistan</td>\n",
       "      <td>2013</td>\n",
       "      <td>Blé et Farin</td>\n",
       "      <td>39224</td>\n",
       "    </tr>\n",
       "    <tr>\n",
       "      <th>3</th>\n",
       "      <td>Afghanistan</td>\n",
       "      <td>2014</td>\n",
       "      <td>Blé et Farin</td>\n",
       "      <td>15160</td>\n",
       "    </tr>\n",
       "    <tr>\n",
       "      <th>4</th>\n",
       "      <td>Afghanistan</td>\n",
       "      <td>2013</td>\n",
       "      <td>Céréales</td>\n",
       "      <td>40504</td>\n",
       "    </tr>\n",
       "    <tr>\n",
       "      <th>...</th>\n",
       "      <td>...</td>\n",
       "      <td>...</td>\n",
       "      <td>...</td>\n",
       "      <td>...</td>\n",
       "    </tr>\n",
       "    <tr>\n",
       "      <th>1470</th>\n",
       "      <td>Zimbabwe</td>\n",
       "      <td>2015</td>\n",
       "      <td>Mélanges et préparations</td>\n",
       "      <td>96</td>\n",
       "    </tr>\n",
       "    <tr>\n",
       "      <th>1471</th>\n",
       "      <td>Zimbabwe</td>\n",
       "      <td>2013</td>\n",
       "      <td>Non-céréales</td>\n",
       "      <td>5022</td>\n",
       "    </tr>\n",
       "    <tr>\n",
       "      <th>1472</th>\n",
       "      <td>Zimbabwe</td>\n",
       "      <td>2014</td>\n",
       "      <td>Non-céréales</td>\n",
       "      <td>2310</td>\n",
       "    </tr>\n",
       "    <tr>\n",
       "      <th>1473</th>\n",
       "      <td>Zimbabwe</td>\n",
       "      <td>2015</td>\n",
       "      <td>Non-céréales</td>\n",
       "      <td>306</td>\n",
       "    </tr>\n",
       "    <tr>\n",
       "      <th>1474</th>\n",
       "      <td>Zimbabwe</td>\n",
       "      <td>2013</td>\n",
       "      <td>Riz, total</td>\n",
       "      <td>64</td>\n",
       "    </tr>\n",
       "  </tbody>\n",
       "</table>\n",
       "<p>1475 rows × 4 columns</p>\n",
       "</div>"
      ],
      "text/plain": [
       "     Pays bénéficiaire  Année                   Produit  Valeur\n",
       "0          Afghanistan   2013       Autres non-céréales     682\n",
       "1          Afghanistan   2014       Autres non-céréales     335\n",
       "2          Afghanistan   2013              Blé et Farin   39224\n",
       "3          Afghanistan   2014              Blé et Farin   15160\n",
       "4          Afghanistan   2013                  Céréales   40504\n",
       "...                ...    ...                       ...     ...\n",
       "1470          Zimbabwe   2015  Mélanges et préparations      96\n",
       "1471          Zimbabwe   2013              Non-céréales    5022\n",
       "1472          Zimbabwe   2014              Non-céréales    2310\n",
       "1473          Zimbabwe   2015              Non-céréales     306\n",
       "1474          Zimbabwe   2013                Riz, total      64\n",
       "\n",
       "[1475 rows x 4 columns]"
      ]
     },
     "execution_count": 47,
     "metadata": {},
     "output_type": "execute_result"
    }
   ],
   "source": [
    "aides"
   ]
  },
  {
   "cell_type": "markdown",
   "id": "676ee021",
   "metadata": {},
   "source": [
    "#### Observation du type de données des séries du dataframe"
   ]
  },
  {
   "cell_type": "code",
   "execution_count": 48,
   "id": "7acd2123",
   "metadata": {},
   "outputs": [
    {
     "data": {
      "text/plain": [
       "Pays bénéficiaire    object\n",
       "Année                 int64\n",
       "Produit              object\n",
       "Valeur                int64\n",
       "dtype: object"
      ]
     },
     "execution_count": 48,
     "metadata": {},
     "output_type": "execute_result"
    }
   ],
   "source": [
    "aides.dtypes"
   ]
  },
  {
   "cell_type": "markdown",
   "id": "8b2084f2",
   "metadata": {},
   "source": [
    "#### 1.6.2 renommage des séries"
   ]
  },
  {
   "cell_type": "code",
   "execution_count": 49,
   "id": "f2893a77",
   "metadata": {},
   "outputs": [],
   "source": [
    "aides.rename(\n",
    "    columns   = {\n",
    "        \"Pays bénéficiaire\"  : \"pays\",\n",
    "        \"Année\" : \"année\",\n",
    "        \"Produit\":\"produit\",\n",
    "        \"Valeur\": \"tonnes\"\n",
    "        },\n",
    "    inplace = True\n",
    ")"
   ]
  },
  {
   "cell_type": "markdown",
   "id": "2289407f",
   "metadata": {},
   "source": [
    "#### Affichage du dataframe pour vérifier le bon fonctionnement du renommage des séries"
   ]
  },
  {
   "cell_type": "code",
   "execution_count": 50,
   "id": "22bba90c",
   "metadata": {},
   "outputs": [
    {
     "data": {
      "text/html": [
       "<div>\n",
       "<style scoped>\n",
       "    .dataframe tbody tr th:only-of-type {\n",
       "        vertical-align: middle;\n",
       "    }\n",
       "\n",
       "    .dataframe tbody tr th {\n",
       "        vertical-align: top;\n",
       "    }\n",
       "\n",
       "    .dataframe thead th {\n",
       "        text-align: right;\n",
       "    }\n",
       "</style>\n",
       "<table border=\"1\" class=\"dataframe\">\n",
       "  <thead>\n",
       "    <tr style=\"text-align: right;\">\n",
       "      <th></th>\n",
       "      <th>pays</th>\n",
       "      <th>année</th>\n",
       "      <th>produit</th>\n",
       "      <th>tonnes</th>\n",
       "    </tr>\n",
       "  </thead>\n",
       "  <tbody>\n",
       "    <tr>\n",
       "      <th>0</th>\n",
       "      <td>Afghanistan</td>\n",
       "      <td>2013</td>\n",
       "      <td>Autres non-céréales</td>\n",
       "      <td>682</td>\n",
       "    </tr>\n",
       "    <tr>\n",
       "      <th>1</th>\n",
       "      <td>Afghanistan</td>\n",
       "      <td>2014</td>\n",
       "      <td>Autres non-céréales</td>\n",
       "      <td>335</td>\n",
       "    </tr>\n",
       "    <tr>\n",
       "      <th>2</th>\n",
       "      <td>Afghanistan</td>\n",
       "      <td>2013</td>\n",
       "      <td>Blé et Farin</td>\n",
       "      <td>39224</td>\n",
       "    </tr>\n",
       "    <tr>\n",
       "      <th>3</th>\n",
       "      <td>Afghanistan</td>\n",
       "      <td>2014</td>\n",
       "      <td>Blé et Farin</td>\n",
       "      <td>15160</td>\n",
       "    </tr>\n",
       "    <tr>\n",
       "      <th>4</th>\n",
       "      <td>Afghanistan</td>\n",
       "      <td>2013</td>\n",
       "      <td>Céréales</td>\n",
       "      <td>40504</td>\n",
       "    </tr>\n",
       "    <tr>\n",
       "      <th>...</th>\n",
       "      <td>...</td>\n",
       "      <td>...</td>\n",
       "      <td>...</td>\n",
       "      <td>...</td>\n",
       "    </tr>\n",
       "    <tr>\n",
       "      <th>1470</th>\n",
       "      <td>Zimbabwe</td>\n",
       "      <td>2015</td>\n",
       "      <td>Mélanges et préparations</td>\n",
       "      <td>96</td>\n",
       "    </tr>\n",
       "    <tr>\n",
       "      <th>1471</th>\n",
       "      <td>Zimbabwe</td>\n",
       "      <td>2013</td>\n",
       "      <td>Non-céréales</td>\n",
       "      <td>5022</td>\n",
       "    </tr>\n",
       "    <tr>\n",
       "      <th>1472</th>\n",
       "      <td>Zimbabwe</td>\n",
       "      <td>2014</td>\n",
       "      <td>Non-céréales</td>\n",
       "      <td>2310</td>\n",
       "    </tr>\n",
       "    <tr>\n",
       "      <th>1473</th>\n",
       "      <td>Zimbabwe</td>\n",
       "      <td>2015</td>\n",
       "      <td>Non-céréales</td>\n",
       "      <td>306</td>\n",
       "    </tr>\n",
       "    <tr>\n",
       "      <th>1474</th>\n",
       "      <td>Zimbabwe</td>\n",
       "      <td>2013</td>\n",
       "      <td>Riz, total</td>\n",
       "      <td>64</td>\n",
       "    </tr>\n",
       "  </tbody>\n",
       "</table>\n",
       "<p>1475 rows × 4 columns</p>\n",
       "</div>"
      ],
      "text/plain": [
       "             pays  année                   produit  tonnes\n",
       "0     Afghanistan   2013       Autres non-céréales     682\n",
       "1     Afghanistan   2014       Autres non-céréales     335\n",
       "2     Afghanistan   2013              Blé et Farin   39224\n",
       "3     Afghanistan   2014              Blé et Farin   15160\n",
       "4     Afghanistan   2013                  Céréales   40504\n",
       "...           ...    ...                       ...     ...\n",
       "1470     Zimbabwe   2015  Mélanges et préparations      96\n",
       "1471     Zimbabwe   2013              Non-céréales    5022\n",
       "1472     Zimbabwe   2014              Non-céréales    2310\n",
       "1473     Zimbabwe   2015              Non-céréales     306\n",
       "1474     Zimbabwe   2013                Riz, total      64\n",
       "\n",
       "[1475 rows x 4 columns]"
      ]
     },
     "execution_count": 50,
     "metadata": {},
     "output_type": "execute_result"
    }
   ],
   "source": [
    "aides"
   ]
  },
  {
   "cell_type": "markdown",
   "id": "2c321b47",
   "metadata": {},
   "source": [
    "#### 1.6.3 vérification d'absence de valeur null"
   ]
  },
  {
   "cell_type": "code",
   "execution_count": 51,
   "id": "fda84713",
   "metadata": {},
   "outputs": [
    {
     "data": {
      "text/plain": [
       "pays       0\n",
       "année      0\n",
       "produit    0\n",
       "tonnes     0\n",
       "dtype: int64"
      ]
     },
     "execution_count": 51,
     "metadata": {},
     "output_type": "execute_result"
    }
   ],
   "source": [
    "aides.isnull().sum()"
   ]
  },
  {
   "cell_type": "code",
   "execution_count": 52,
   "id": "bc0fcd4a",
   "metadata": {},
   "outputs": [
    {
     "data": {
      "text/html": [
       "<div>\n",
       "<style scoped>\n",
       "    .dataframe tbody tr th:only-of-type {\n",
       "        vertical-align: middle;\n",
       "    }\n",
       "\n",
       "    .dataframe tbody tr th {\n",
       "        vertical-align: top;\n",
       "    }\n",
       "\n",
       "    .dataframe thead th {\n",
       "        text-align: right;\n",
       "    }\n",
       "</style>\n",
       "<table border=\"1\" class=\"dataframe\">\n",
       "  <thead>\n",
       "    <tr style=\"text-align: right;\">\n",
       "      <th></th>\n",
       "      <th>pays</th>\n",
       "      <th>année</th>\n",
       "      <th>population</th>\n",
       "    </tr>\n",
       "  </thead>\n",
       "  <tbody>\n",
       "    <tr>\n",
       "      <th>0</th>\n",
       "      <td>afghanistan</td>\n",
       "      <td>2013</td>\n",
       "      <td>8600000</td>\n",
       "    </tr>\n",
       "    <tr>\n",
       "      <th>1</th>\n",
       "      <td>afghanistan</td>\n",
       "      <td>2014</td>\n",
       "      <td>8800000</td>\n",
       "    </tr>\n",
       "    <tr>\n",
       "      <th>2</th>\n",
       "      <td>afghanistan</td>\n",
       "      <td>2015</td>\n",
       "      <td>8900000</td>\n",
       "    </tr>\n",
       "    <tr>\n",
       "      <th>3</th>\n",
       "      <td>afghanistan</td>\n",
       "      <td>2016</td>\n",
       "      <td>9700000</td>\n",
       "    </tr>\n",
       "    <tr>\n",
       "      <th>4</th>\n",
       "      <td>afghanistan</td>\n",
       "      <td>2017</td>\n",
       "      <td>10500000</td>\n",
       "    </tr>\n",
       "    <tr>\n",
       "      <th>...</th>\n",
       "      <td>...</td>\n",
       "      <td>...</td>\n",
       "      <td>...</td>\n",
       "    </tr>\n",
       "    <tr>\n",
       "      <th>1213</th>\n",
       "      <td>zimbabwe</td>\n",
       "      <td>2014</td>\n",
       "      <td>0</td>\n",
       "    </tr>\n",
       "    <tr>\n",
       "      <th>1214</th>\n",
       "      <td>zimbabwe</td>\n",
       "      <td>2015</td>\n",
       "      <td>0</td>\n",
       "    </tr>\n",
       "    <tr>\n",
       "      <th>1215</th>\n",
       "      <td>zimbabwe</td>\n",
       "      <td>2016</td>\n",
       "      <td>0</td>\n",
       "    </tr>\n",
       "    <tr>\n",
       "      <th>1216</th>\n",
       "      <td>zimbabwe</td>\n",
       "      <td>2017</td>\n",
       "      <td>0</td>\n",
       "    </tr>\n",
       "    <tr>\n",
       "      <th>1217</th>\n",
       "      <td>zimbabwe</td>\n",
       "      <td>2018</td>\n",
       "      <td>0</td>\n",
       "    </tr>\n",
       "  </tbody>\n",
       "</table>\n",
       "<p>1218 rows × 3 columns</p>\n",
       "</div>"
      ],
      "text/plain": [
       "             pays  année  population\n",
       "0     afghanistan   2013     8600000\n",
       "1     afghanistan   2014     8800000\n",
       "2     afghanistan   2015     8900000\n",
       "3     afghanistan   2016     9700000\n",
       "4     afghanistan   2017    10500000\n",
       "...           ...    ...         ...\n",
       "1213     zimbabwe   2014           0\n",
       "1214     zimbabwe   2015           0\n",
       "1215     zimbabwe   2016           0\n",
       "1216     zimbabwe   2017           0\n",
       "1217     zimbabwe   2018           0\n",
       "\n",
       "[1218 rows x 3 columns]"
      ]
     },
     "execution_count": 52,
     "metadata": {},
     "output_type": "execute_result"
    }
   ],
   "source": [
    "sousnut"
   ]
  },
  {
   "cell_type": "markdown",
   "id": "a66792ff",
   "metadata": {},
   "source": [
    "#### 1.6.4 Passage de la série \"pays\" en caractères minuscules"
   ]
  },
  {
   "cell_type": "code",
   "execution_count": 53,
   "id": "7c44c4e5",
   "metadata": {},
   "outputs": [],
   "source": [
    "aides[\"pays\"]=aides[\"pays\"].str.lower()"
   ]
  },
  {
   "cell_type": "markdown",
   "id": "2cb26547",
   "metadata": {},
   "source": [
    "#### 1.6.5 suppression des prenthèses dans la série \"pays\""
   ]
  },
  {
   "cell_type": "code",
   "execution_count": 54,
   "id": "2e5520d2",
   "metadata": {},
   "outputs": [],
   "source": [
    "aides[\"pays\"] = aides[\"pays\"].replace(\"[()]\",\"\", regex=True)\n",
    "aides[\"pays\"] = aides[\"pays\"].str.replace (\"[-]\",\" \", regex=True)\n",
    "aides[\"pays\"] = aides[\"pays\"].str.replace (\"[,]\",\" \", regex=True)"
   ]
  },
  {
   "cell_type": "markdown",
   "id": "87275cbc",
   "metadata": {},
   "source": [
    "#### 1.6.6 Renommage de valeurs dans la série \"pays\""
   ]
  },
  {
   "cell_type": "code",
   "execution_count": 55,
   "id": "a412c1b8",
   "metadata": {},
   "outputs": [],
   "source": [
    "aides [\"pays\"]  = aides[\"pays\"].str.replace(\"bolivie état plurinational de\",\"bolivie\", regex=True)\n",
    "aides [\"pays\"]  = aides[\"pays\"].str.replace(\"el salvador\",\"salvador\", regex=True)\n",
    "aides [\"pays\"]  = aides[\"pays\"].str.replace(\"iran république islamique d'\",\"iran\", regex=True)\n",
    "aides [\"pays\"]  = aides[\"pays\"].str.replace(\"république arabe syrienne\",\"syrie\", regex=True)\n",
    "aides [\"pays\"]  = aides[\"pays\"].str.replace(\"république démocratique populaire lao\",\"laos\", regex=True)\n",
    "aides [\"pays\"]  = aides[\"pays\"].str.replace(\"république populaire démocratique de corée\",\"corée du nord\", regex=True)\n",
    "aides [\"pays\"]  = aides[\"pays\"].str.replace(\"république unie de tanzanie\",\"tanzanie\", regex=True)"
   ]
  },
  {
   "cell_type": "markdown",
   "id": "604e2223",
   "metadata": {},
   "source": [
    "## 2 - QUESTIONS"
   ]
  },
  {
   "cell_type": "markdown",
   "id": "039df2b9",
   "metadata": {},
   "source": [
    "### 2.1 - Demandes de Marc (concernant l'année 2017)"
   ]
  },
  {
   "cell_type": "markdown",
   "id": "7042e825",
   "metadata": {},
   "source": [
    "### 2.1.1 - Proportion de personnes en état de sous-nutrition dans le monde"
   ]
  },
  {
   "cell_type": "markdown",
   "id": "3f3a977d",
   "metadata": {},
   "source": [
    "### 2.1.1.1 - Population mondiale en 2017 :"
   ]
  },
  {
   "cell_type": "markdown",
   "id": "0166d379",
   "metadata": {},
   "source": [
    "#### J'affiche la population mondiale en 2017 en créant la variable \"pop_mondiale\" qui sera déterminée en effectuant la somme des valeurs de la série \"population\", en ne sélectionnant que celles ayant comme valeur 2017 dans la série \"année\""
   ]
  },
  {
   "cell_type": "code",
   "execution_count": 56,
   "id": "d54a7c80",
   "metadata": {},
   "outputs": [
    {
     "name": "stdout",
     "output_type": "stream",
     "text": [
      "la population mondiale en 2017 est de  7,548,134,097 habitants \n"
     ]
    }
   ],
   "source": [
    "pop_mondiale  = np.sum( populations.loc[populations[\"année\"]==2017][\"population\"])\n",
    "print(\"la population mondiale en 2017 est de  {:,} habitants \".format(pop_mondiale))"
   ]
  },
  {
   "cell_type": "markdown",
   "id": "0a8c256d",
   "metadata": {},
   "source": [
    "### 2.1.1.2 - Population en sous-nutrition en 2017 :"
   ]
  },
  {
   "cell_type": "markdown",
   "id": "3f2380a8",
   "metadata": {},
   "source": [
    "#### J'affiche la population en sous-nutrition pour l'année 2017 en créant la variable \"pop_sousnut\" qui sera déterminée en effectuant la somme des valeurs de la série \"population\", en ne sélectionnant que celles ayant comme valeur 2017 dans la série \"année\""
   ]
  },
  {
   "cell_type": "code",
   "execution_count": 57,
   "id": "2035dd4b",
   "metadata": {},
   "outputs": [
    {
     "name": "stdout",
     "output_type": "stream",
     "text": [
      "la population souffrant de sous-nutrition, pour l'année 2017 est de 536,700,000 personnes\n"
     ]
    }
   ],
   "source": [
    "pop_sousnut = np.sum(sousnut.loc[sousnut[\"année\"] == 2017][\"population\"])\n",
    "print(\"la population souffrant de sous-nutrition, pour l'année 2017 est de {:,}\".format(pop_sousnut), \"personnes\")"
   ]
  },
  {
   "cell_type": "markdown",
   "id": "e7aa4a8c",
   "metadata": {},
   "source": [
    "#### Je crée ensuite la variable \"proportion_sousnut\" qui sera issue de la division de pop_sousnut par pop_mondiale, le tout multiplié par 100 et avec un arrondi du résultat à 2 décimales, apportant ainsi le pourcentage de la population souffrant de sous-nutrition."
   ]
  },
  {
   "cell_type": "code",
   "execution_count": 58,
   "id": "c31e9652",
   "metadata": {},
   "outputs": [
    {
     "name": "stdout",
     "output_type": "stream",
     "text": [
      "ce qui constitue une proportion de 7.11 %\n"
     ]
    }
   ],
   "source": [
    "proportion_sousnut = round(pop_sousnut / pop_mondiale*100,2)\n",
    "print (\"ce qui constitue une proportion de\",proportion_sousnut,\"%\")"
   ]
  },
  {
   "cell_type": "markdown",
   "id": "0415fa16",
   "metadata": {},
   "source": [
    "#### Création d'un diagramme circulaire permettant de visualiser la propotion de la population en sous-nutrition et de la population suffisamment alimentée."
   ]
  },
  {
   "cell_type": "code",
   "execution_count": 59,
   "id": "297a4825",
   "metadata": {},
   "outputs": [
    {
     "data": {
      "image/png": "[encoded data removed]",
      "text/plain": [
       "<Figure size 640x480 with 1 Axes>"
      ]
     },
     "metadata": {},
     "output_type": "display_data"
    }
   ],
   "source": [
    "#déclaration des variables composant les données servant à créer le diagramme circulaire:\n",
    "data = [pop_mondiale, pop_sousnut]\n",
    "#définition des labels correspondant aux données du diagramme:\n",
    "labels =[\"population suffisamment alimentée\", \"population souffrant de sous-nutrition\"]\n",
    "#choix de la coloration du diagramme:\n",
    "colors = sns.color_palette(\"pastel\")\n",
    "#définition du type de graphique et de son contenu affiché:\n",
    "plt.pie(data, labels = labels, colors = colors, autopct = \"%0.0f%%\")\n",
    "#affichage du diagramme circulaire:\n",
    "plt.show()"
   ]
  },
  {
   "cell_type": "markdown",
   "id": "80eee3f8",
   "metadata": {},
   "source": [
    "### 2.1.2 - Nombre théorique de personnes qui pourraient être nourries à partir de la disponibilité alimentaire mondiale"
   ]
  },
  {
   "cell_type": "markdown",
   "id": "07e35946",
   "metadata": {},
   "source": [
    "### 2.1.2.1 - Définition de l'AJR (Apport Journalier Recommandé) moyen (2250 kcal) et de l'AJR rammené à l'année (AJR_annuel) :"
   ]
  },
  {
   "cell_type": "code",
   "execution_count": 60,
   "id": "14f8db92",
   "metadata": {},
   "outputs": [],
   "source": [
    "ajr_moyen = 2250\n",
    "ajr_annuel = ajr_moyen*365"
   ]
  },
  {
   "cell_type": "markdown",
   "id": "17849bf4",
   "metadata": {},
   "source": [
    "### 2.1.2.2 - Population des pays ayant une disponibilité intérieure (2017)"
   ]
  },
  {
   "cell_type": "markdown",
   "id": "2ce1894b",
   "metadata": {},
   "source": [
    "#### - Création du dataframe \"populations_dispo\" par fusion des dataframes \"populations\" et \"dispo\" avec la fonction \"merge\" depuis les séries \"pays\" et \"population\" .\n",
    "#### - J'utilise la méthode \".loc\" sur le dataframe \"populations\" pour sélectionner le sous-ensemble de lignes ayant la valeur \"2017\" dans la colonne \"année\".\n",
    "#### - Je continue l'utilisation de la méthode \".loc\" spour sélectionner les colonnes \"pays\" et \"population\" du sous-ensemble de lignes sélectionné précédemment (année==2017).\n",
    "#### - J'utilise enfin la série \"pays\" comme clé de fusion des 2 dataframes \"populations\" et \"dispo\"."
   ]
  },
  {
   "cell_type": "code",
   "execution_count": 61,
   "id": "1382a42b",
   "metadata": {},
   "outputs": [
    {
     "data": {
      "text/html": [
       "<div>\n",
       "<style scoped>\n",
       "    .dataframe tbody tr th:only-of-type {\n",
       "        vertical-align: middle;\n",
       "    }\n",
       "\n",
       "    .dataframe tbody tr th {\n",
       "        vertical-align: top;\n",
       "    }\n",
       "\n",
       "    .dataframe thead th {\n",
       "        text-align: right;\n",
       "    }\n",
       "</style>\n",
       "<table border=\"1\" class=\"dataframe\">\n",
       "  <thead>\n",
       "    <tr style=\"text-align: right;\">\n",
       "      <th></th>\n",
       "      <th>pays</th>\n",
       "      <th>produit</th>\n",
       "      <th>origine</th>\n",
       "      <th>aliments_animaux</th>\n",
       "      <th>autres_utilisations</th>\n",
       "      <th>calories(kcal/pers/jour)</th>\n",
       "      <th>qte(g/pers/jour)</th>\n",
       "      <th>lipides(g/pers/jour)</th>\n",
       "      <th>proteines(g/pers/jour)</th>\n",
       "      <th>dispo_inter</th>\n",
       "      <th>export*1000t</th>\n",
       "      <th>import*1000t</th>\n",
       "      <th>nourriture*1000t</th>\n",
       "      <th>pertes*1000t</th>\n",
       "      <th>production*1000t</th>\n",
       "      <th>semences*1000t</th>\n",
       "      <th>traitement*1000t</th>\n",
       "      <th>variation_stock*1000t</th>\n",
       "      <th>population</th>\n",
       "    </tr>\n",
       "  </thead>\n",
       "  <tbody>\n",
       "    <tr>\n",
       "      <th>0</th>\n",
       "      <td>afghanistan</td>\n",
       "      <td>Abats Comestible</td>\n",
       "      <td>animale</td>\n",
       "      <td>0.0</td>\n",
       "      <td>0.0</td>\n",
       "      <td>5.0</td>\n",
       "      <td>4.712329</td>\n",
       "      <td>0.20</td>\n",
       "      <td>0.77</td>\n",
       "      <td>53.0</td>\n",
       "      <td>0.0</td>\n",
       "      <td>0.0</td>\n",
       "      <td>53.0</td>\n",
       "      <td>0.0</td>\n",
       "      <td>53.0</td>\n",
       "      <td>0.0</td>\n",
       "      <td>0.0</td>\n",
       "      <td>0.0</td>\n",
       "      <td>36296113</td>\n",
       "    </tr>\n",
       "    <tr>\n",
       "      <th>1</th>\n",
       "      <td>afghanistan</td>\n",
       "      <td>Agrumes, Autres</td>\n",
       "      <td>vegetale</td>\n",
       "      <td>0.0</td>\n",
       "      <td>0.0</td>\n",
       "      <td>1.0</td>\n",
       "      <td>3.534247</td>\n",
       "      <td>0.01</td>\n",
       "      <td>0.02</td>\n",
       "      <td>41.0</td>\n",
       "      <td>2.0</td>\n",
       "      <td>40.0</td>\n",
       "      <td>39.0</td>\n",
       "      <td>2.0</td>\n",
       "      <td>3.0</td>\n",
       "      <td>0.0</td>\n",
       "      <td>0.0</td>\n",
       "      <td>0.0</td>\n",
       "      <td>36296113</td>\n",
       "    </tr>\n",
       "    <tr>\n",
       "      <th>2</th>\n",
       "      <td>afghanistan</td>\n",
       "      <td>Aliments pour enfants</td>\n",
       "      <td>vegetale</td>\n",
       "      <td>0.0</td>\n",
       "      <td>0.0</td>\n",
       "      <td>1.0</td>\n",
       "      <td>0.164384</td>\n",
       "      <td>0.01</td>\n",
       "      <td>0.03</td>\n",
       "      <td>2.0</td>\n",
       "      <td>0.0</td>\n",
       "      <td>2.0</td>\n",
       "      <td>2.0</td>\n",
       "      <td>0.0</td>\n",
       "      <td>0.0</td>\n",
       "      <td>0.0</td>\n",
       "      <td>0.0</td>\n",
       "      <td>0.0</td>\n",
       "      <td>36296113</td>\n",
       "    </tr>\n",
       "    <tr>\n",
       "      <th>3</th>\n",
       "      <td>afghanistan</td>\n",
       "      <td>Ananas</td>\n",
       "      <td>vegetale</td>\n",
       "      <td>0.0</td>\n",
       "      <td>0.0</td>\n",
       "      <td>0.0</td>\n",
       "      <td>0.000000</td>\n",
       "      <td>0.00</td>\n",
       "      <td>0.00</td>\n",
       "      <td>0.0</td>\n",
       "      <td>0.0</td>\n",
       "      <td>0.0</td>\n",
       "      <td>0.0</td>\n",
       "      <td>0.0</td>\n",
       "      <td>0.0</td>\n",
       "      <td>0.0</td>\n",
       "      <td>0.0</td>\n",
       "      <td>0.0</td>\n",
       "      <td>36296113</td>\n",
       "    </tr>\n",
       "    <tr>\n",
       "      <th>4</th>\n",
       "      <td>afghanistan</td>\n",
       "      <td>Bananes</td>\n",
       "      <td>vegetale</td>\n",
       "      <td>0.0</td>\n",
       "      <td>0.0</td>\n",
       "      <td>4.0</td>\n",
       "      <td>7.397260</td>\n",
       "      <td>0.02</td>\n",
       "      <td>0.05</td>\n",
       "      <td>82.0</td>\n",
       "      <td>0.0</td>\n",
       "      <td>82.0</td>\n",
       "      <td>82.0</td>\n",
       "      <td>0.0</td>\n",
       "      <td>0.0</td>\n",
       "      <td>0.0</td>\n",
       "      <td>0.0</td>\n",
       "      <td>0.0</td>\n",
       "      <td>36296113</td>\n",
       "    </tr>\n",
       "  </tbody>\n",
       "</table>\n",
       "</div>"
      ],
      "text/plain": [
       "          pays                produit   origine  aliments_animaux  \\\n",
       "0  afghanistan       Abats Comestible   animale               0.0   \n",
       "1  afghanistan        Agrumes, Autres  vegetale               0.0   \n",
       "2  afghanistan  Aliments pour enfants  vegetale               0.0   \n",
       "3  afghanistan                 Ananas  vegetale               0.0   \n",
       "4  afghanistan                Bananes  vegetale               0.0   \n",
       "\n",
       "   autres_utilisations  calories(kcal/pers/jour)  qte(g/pers/jour)  \\\n",
       "0                  0.0                       5.0          4.712329   \n",
       "1                  0.0                       1.0          3.534247   \n",
       "2                  0.0                       1.0          0.164384   \n",
       "3                  0.0                       0.0          0.000000   \n",
       "4                  0.0                       4.0          7.397260   \n",
       "\n",
       "   lipides(g/pers/jour)  proteines(g/pers/jour)  dispo_inter  export*1000t  \\\n",
       "0                  0.20                    0.77         53.0           0.0   \n",
       "1                  0.01                    0.02         41.0           2.0   \n",
       "2                  0.01                    0.03          2.0           0.0   \n",
       "3                  0.00                    0.00          0.0           0.0   \n",
       "4                  0.02                    0.05         82.0           0.0   \n",
       "\n",
       "   import*1000t  nourriture*1000t  pertes*1000t  production*1000t  \\\n",
       "0           0.0              53.0           0.0              53.0   \n",
       "1          40.0              39.0           2.0               3.0   \n",
       "2           2.0               2.0           0.0               0.0   \n",
       "3           0.0               0.0           0.0               0.0   \n",
       "4          82.0              82.0           0.0               0.0   \n",
       "\n",
       "   semences*1000t  traitement*1000t  variation_stock*1000t  population  \n",
       "0             0.0               0.0                    0.0    36296113  \n",
       "1             0.0               0.0                    0.0    36296113  \n",
       "2             0.0               0.0                    0.0    36296113  \n",
       "3             0.0               0.0                    0.0    36296113  \n",
       "4             0.0               0.0                    0.0    36296113  "
      ]
     },
     "execution_count": 61,
     "metadata": {},
     "output_type": "execute_result"
    }
   ],
   "source": [
    "populations_dispo = dispo.merge(populations.loc[populations[\"année\"]==2017, [\"pays\",\"population\"]],on=\"pays\")\n",
    "populations_dispo.head()"
   ]
  },
  {
   "cell_type": "markdown",
   "id": "3a6238f9",
   "metadata": {},
   "source": [
    "### 2.1.2.3 - Calcul de la disponibilité alimentaire mondiale en calories"
   ]
  },
  {
   "cell_type": "markdown",
   "id": "8d72f80d",
   "metadata": {},
   "source": [
    "#### - Je crée la série \"dispo_kcal\" qui représente le produit du nombre de calories disponibles (par personne et par jour)  par le nombre de personnes du pays correspondant, dans le dataframe \"populations_dispo\" .\n",
    "#### - Je crée ensuite la variable \"dispo_mondiale\" qui donne la somme des calories disponibles de tous les pays, ce qui représente la disponibilité alimentaire mondiale en calories pour 2017.\n"
   ]
  },
  {
   "cell_type": "code",
   "execution_count": 62,
   "id": "550c3d4e",
   "metadata": {},
   "outputs": [
    {
     "name": "stdout",
     "output_type": "stream",
     "text": [
      "La disponibilité alimentaire mondiale est de 7,718,847,048,220,055.0 calories\n"
     ]
    }
   ],
   "source": [
    "populations_dispo[\"dispo_kcal\"] = populations_dispo[\"calories(kcal/pers/jour)\"]*populations_dispo[\"population\"]*365\n",
    "dispo_mondiale= populations_dispo[\"dispo_kcal\"].sum()\n",
    "print(\"La disponibilité alimentaire mondiale est de {:,}\".format(dispo_mondiale),\"calories\")"
   ]
  },
  {
   "cell_type": "markdown",
   "id": "c9ed77f9",
   "metadata": {},
   "source": [
    "### 2.1.2.4 - Total d'êtres humains pouvant être nourris"
   ]
  },
  {
   "cell_type": "markdown",
   "id": "bbd816fe",
   "metadata": {},
   "source": [
    "#### Je crée la variable \"total_h_cal\" qui fait la somme de la disponibilité alimentaire mondiale (\"dispo_mondiale\") sur l'apport annuel calorique recommandé par personne (\"ajr_annuel\")"
   ]
  },
  {
   "cell_type": "code",
   "execution_count": 63,
   "id": "413afe47",
   "metadata": {},
   "outputs": [
    {
     "name": "stdout",
     "output_type": "stream",
     "text": [
      "total d'êtres humains pouvant être nourris :9,398,900,496.0\n"
     ]
    }
   ],
   "source": [
    "total_h_cal = np.sum(round(populations_dispo[\"dispo_kcal\"] / ajr_annuel))\n",
    "print(\"total d'êtres humains pouvant être nourris :{:,}\".format(total_h_cal))"
   ]
  },
  {
   "cell_type": "markdown",
   "id": "247538db",
   "metadata": {},
   "source": [
    "#### Je crée la variable \"population_mondiale_2017\" en sélectionnant les lignes du dataframe \"populations\" où la valeur de la série \"année\" correspond à \"2017\". La chaîne de caractères \"population\" sélectionne la colonne du même nom de ce dataframe."
   ]
  },
  {
   "cell_type": "code",
   "execution_count": 64,
   "id": "1e56b501",
   "metadata": {},
   "outputs": [
    {
     "name": "stdout",
     "output_type": "stream",
     "text": [
      "La population mondiale en 2017 est de 7,548,134,097 habitants\n"
     ]
    }
   ],
   "source": [
    "#population mondiale en 2017\n",
    "population_mondiale_2017 = populations.loc[populations[\"année\"]==2017,\"population\"].sum()\n",
    "print(\"La population mondiale en 2017 est de {:,}\".format(population_mondiale_2017),\"habitants\")"
   ]
  },
  {
   "cell_type": "markdown",
   "id": "712a6e53",
   "metadata": {},
   "source": [
    "### 2.1.2.5 - Proportion d'êtres humains pouvant être nourris grâce aux disponibilités alimentaires mondiales pour l'année 2017:"
   ]
  },
  {
   "cell_type": "markdown",
   "id": "32fc24dd",
   "metadata": {},
   "source": [
    "#### Je crée la variable \"proportion\" qui représentera ce ratio en divisant la disponibilité alimentaire mondiale(variable \"total_h_cal\") par la population mondiale de l'année 2017(variable \"population_mondiale_2017\"), faisant un arrondi à 2 décimales."
   ]
  },
  {
   "cell_type": "code",
   "execution_count": 65,
   "id": "c0c1b049",
   "metadata": {},
   "outputs": [
    {
     "name": "stdout",
     "output_type": "stream",
     "text": [
      "proportion de personnes pouvant être nourries : 124.52 %\n"
     ]
    }
   ],
   "source": [
    "#proportion en rapport avec la population mondiale\n",
    "proportion = round((total_h_cal/population_mondiale_2017)*100,2)\n",
    "print(\"proportion de personnes pouvant être nourries :\",proportion,\"%\")"
   ]
  },
  {
   "cell_type": "markdown",
   "id": "01869dd8",
   "metadata": {},
   "source": [
    "### 2.1.3 - Nombre théorique de personnes qui pourraient être nourries à partir de la disponibilité alimentaire végétale mondiale"
   ]
  },
  {
   "cell_type": "markdown",
   "id": "1465f8af",
   "metadata": {},
   "source": [
    "### 2.1.3.1 - Calcul de la disponibilité alimentaire végétale mondiale"
   ]
  },
  {
   "cell_type": "markdown",
   "id": "d9c6a6fb",
   "metadata": {},
   "source": [
    "#### - Création de la série \"dispo_végétale\" à partir de la selection des lignes de la colonne \"calories(kcal/pers/jour)\", après le tri dans la colonne \"origine\", des lignes  ayant pour valeur \"végétale\" dans le dataframe \"populations_dispo\".\n",
    "#### - Création de la variable \"disp_vege\" qui fait la somme des valeurs de la série \"dispo_vegetale\" en calories, par personne et par jour."
   ]
  },
  {
   "cell_type": "code",
   "execution_count": 66,
   "id": "774a2bf7",
   "metadata": {},
   "outputs": [
    {
     "name": "stdout",
     "output_type": "stream",
     "text": [
      "disponibilité alimentaire végétale mondiale en kcal/pers/jour: 396,364.0\n"
     ]
    }
   ],
   "source": [
    "dispo_vegetale = populations_dispo.loc[populations_dispo[\"origine\"]==\"vegetale\",\"calories(kcal/pers/jour)\"]\n",
    "disp_vege = dispo_vegetale.sum()\n",
    "print(\"disponibilité alimentaire végétale mondiale en kcal/pers/jour: {:,}\".format(disp_vege))"
   ]
  },
  {
   "cell_type": "markdown",
   "id": "d22c98c6",
   "metadata": {},
   "source": [
    "#### Création de la variable \"total_dispo_vegetale\" à partir de la somme du produit de \"dispo_vegetale\" par la \"population_dispo\", le tout rammené à l'année en multipliant par 365, pour obtenir le total de la disponibilité végétale mondiale."
   ]
  },
  {
   "cell_type": "code",
   "execution_count": 67,
   "id": "e9313bc3",
   "metadata": {},
   "outputs": [
    {
     "name": "stdout",
     "output_type": "stream",
     "text": [
      "total de la disponibilité végétale mondiale 6,359,679,474,504,460.0 calories\n"
     ]
    }
   ],
   "source": [
    "total_dispo_vegetale = np.sum(dispo_vegetale*populations_dispo[\"population\"]*365)\n",
    "print(\"total de la disponibilité végétale mondiale {:,}\".format(total_dispo_vegetale), \"calories\")"
   ]
  },
  {
   "cell_type": "markdown",
   "id": "8b1ca68d",
   "metadata": {},
   "source": [
    "#### Création de la variable \"total_h_végétale\" , obtenue par le quotient de la variable \"total_dispo_vegetale\" par la variable \"ajr_annuel\" pour obtenir le nombre d'êtres humains pouvant être nourris grâce à la production végétale mondiale"
   ]
  },
  {
   "cell_type": "code",
   "execution_count": 68,
   "id": "b92dbc96",
   "metadata": {},
   "outputs": [
    {
     "name": "stdout",
     "output_type": "stream",
     "text": [
      "Nombre d'êtres humains nourrissables grâce à la production d'aliments à base vegetale : 7,743,901,948.0 personnes\n"
     ]
    }
   ],
   "source": [
    "total_h_vegetal = round(total_dispo_vegetale.sum()/ajr_annuel,0)\n",
    "print(\"Nombre d'êtres humains nourrissables grâce à la production d'aliments à base vegetale : {:,}\".format(total_h_vegetal),\"personnes\")"
   ]
  },
  {
   "cell_type": "markdown",
   "id": "ec69d4da",
   "metadata": {},
   "source": [
    "#### Création de la variable  \"proportion_vegetale\" obtenue par le quotient de la variable \"total_h_vegetal\" sur \"population_mondiale_2017\", le tout multiplié par 100 et arrondi à 2 décimales afin de déterminer la proportion du résultat précédent au regard de la population mondiale totale."
   ]
  },
  {
   "cell_type": "code",
   "execution_count": 69,
   "id": "63edef05",
   "metadata": {},
   "outputs": [
    {
     "name": "stdout",
     "output_type": "stream",
     "text": [
      "proportion en rapport avec la population mondiale :  102.59 %\n"
     ]
    }
   ],
   "source": [
    "#proportion en rapport avec la population mondiale\n",
    "proportion_vegetale = round((total_h_vegetal/population_mondiale_2017)*100,2)\n",
    "print(\"proportion en rapport avec la population mondiale : \",proportion_vegetale,\"%\")"
   ]
  },
  {
   "cell_type": "markdown",
   "id": "05799a21",
   "metadata": {},
   "source": [
    "### 2.1.4 - Utilisation de la disponibilité intérieure concernant :"
   ]
  },
  {
   "cell_type": "markdown",
   "id": "6124eb85",
   "metadata": {},
   "source": [
    "### 2.1.4.1 - Part attribuée à l'alimentation animale"
   ]
  },
  {
   "cell_type": "markdown",
   "id": "b2d11639",
   "metadata": {},
   "source": [
    "#### Création de la variable \"production_totale\" en sommant la colonne \"production*1000t\" du dataframe \"dispo\" qui donnera la production totale en milliers de tonnes."
   ]
  },
  {
   "cell_type": "code",
   "execution_count": 70,
   "id": "a3ab4604",
   "metadata": {},
   "outputs": [
    {
     "name": "stdout",
     "output_type": "stream",
     "text": [
      "production totale en milliers de tonnes : 10009680.0\n"
     ]
    }
   ],
   "source": [
    "production_totale=dispo[\"production*1000t\"].sum()  \n",
    "print(\"production totale en milliers de tonnes :\",production_totale)  "
   ]
  },
  {
   "cell_type": "markdown",
   "id": "bda3563a",
   "metadata": {},
   "source": [
    "#### Création de la variable \"qte_aliments_animaux\" en sommant la colonne \"aliments_animaux\" du dataframe \"dispo\" qui donnera la quantité de nourriture destinée à l'alimentation animale, en milliers de tonnes."
   ]
  },
  {
   "cell_type": "code",
   "execution_count": 71,
   "id": "3426fab1",
   "metadata": {},
   "outputs": [
    {
     "name": "stdout",
     "output_type": "stream",
     "text": [
      "proportion  nourriture destinée à l'alimentation animale : 13.03 %\n"
     ]
    }
   ],
   "source": [
    "qte_aliments_animaux = dispo[\"aliments_animaux\"].sum()\n",
    "#proportion  nourriture destinée à l'alimentation animale:\n",
    "part_aliments_animaux =round((qte_aliments_animaux/production_totale)*100,2)\n",
    "print(\"proportion  nourriture destinée à l'alimentation animale :\",part_aliments_animaux,\"%\")"
   ]
  },
  {
   "cell_type": "markdown",
   "id": "527e3bc0",
   "metadata": {},
   "source": [
    "### 2.1.4.2 Part perdue"
   ]
  },
  {
   "cell_type": "code",
   "execution_count": 72,
   "id": "0f5cac86",
   "metadata": {},
   "outputs": [
    {
     "name": "stdout",
     "output_type": "stream",
     "text": [
      "production perdue en milliers de tonnes : 453698.0\n"
     ]
    }
   ],
   "source": [
    "# production perdue en milliers de tonnes\n",
    "pertes = dispo[\"pertes*1000t\"].sum()\n",
    "print(\"production perdue en milliers de tonnes :\",pertes)"
   ]
  },
  {
   "cell_type": "code",
   "execution_count": 73,
   "id": "f11b6f05",
   "metadata": {},
   "outputs": [
    {
     "name": "stdout",
     "output_type": "stream",
     "text": [
      "proportion de la production perdue : 4.53 %\n"
     ]
    }
   ],
   "source": [
    "#proportion de la production perdue\n",
    "part_pertes = round((pertes/production_totale)*100,2)\n",
    "print(\"proportion de la production perdue :\",part_pertes,\"%\")"
   ]
  },
  {
   "cell_type": "markdown",
   "id": "46eb762b",
   "metadata": {},
   "source": [
    "### 2.1.4.3 Part concrétement utilisée pour l'alimentation humaine"
   ]
  },
  {
   "cell_type": "code",
   "execution_count": 74,
   "id": "4150e1a2",
   "metadata": {},
   "outputs": [
    {
     "name": "stdout",
     "output_type": "stream",
     "text": [
      "production destinée à l'alimentation humaine en milliers de tonnes : 4876258.0\n"
     ]
    }
   ],
   "source": [
    "#production destinée à l'alimentation humaine en milliers de tonnes:\n",
    "nourriture = dispo[\"nourriture*1000t\"].sum()\n",
    "print(\"production destinée à l'alimentation humaine en milliers de tonnes :\",nourriture)"
   ]
  },
  {
   "cell_type": "code",
   "execution_count": 75,
   "id": "e297f109",
   "metadata": {},
   "outputs": [
    {
     "name": "stdout",
     "output_type": "stream",
     "text": [
      "proportion de la part réservée à l'alimentation humaine : 48.72 %\n"
     ]
    }
   ],
   "source": [
    "#proportion de la part réservée à l'alimentation humaine:\n",
    "part_nourriture = round((nourriture / production_totale)*100,2)\n",
    "print(\"proportion de la part réservée à l'alimentation humaine :\",part_nourriture,\"%\")"
   ]
  },
  {
   "cell_type": "markdown",
   "id": "18a2178c",
   "metadata": {},
   "source": [
    "## 2.2 demandes de Mélanie (étude affinée pour chaque pays)"
   ]
  },
  {
   "cell_type": "markdown",
   "id": "2ab0f810",
   "metadata": {},
   "source": [
    "### 2.2.1 Pays où la proportion des personnes sous alimentées est la plus forte en 2017"
   ]
  },
  {
   "cell_type": "code",
   "execution_count": 76,
   "id": "46c8ed5e",
   "metadata": {},
   "outputs": [
    {
     "name": "stdout",
     "output_type": "stream",
     "text": [
      "             pays  année  population_x  population_y\n",
      "0     afghanistan   2013       8600000      36296113\n",
      "1     afghanistan   2014       8800000      36296113\n",
      "2     afghanistan   2015       8900000      36296113\n",
      "3     afghanistan   2016       9700000      36296113\n",
      "4     afghanistan   2017      10500000      36296113\n",
      "...           ...    ...           ...           ...\n",
      "1195     zimbabwe   2014             0      14236595\n",
      "1196     zimbabwe   2015             0      14236595\n",
      "1197     zimbabwe   2016             0      14236595\n",
      "1198     zimbabwe   2017             0      14236595\n",
      "1199     zimbabwe   2018             0      14236595\n",
      "\n",
      "[1200 rows x 4 columns]\n"
     ]
    }
   ],
   "source": [
    "#population par pays en 2017:\n",
    "#merge des dataframes \"populations\" et \"sousnut\", pour l'année 2017 sur les séries \"pays\" et \"population\"\n",
    "populations_sousnut = sousnut.merge(populations.loc[populations[\"année\"]==2017, [\"pays\",\"population\"]],on=\"pays\")\n",
    "print(populations_sousnut)"
   ]
  },
  {
   "cell_type": "markdown",
   "id": "714371cc",
   "metadata": {},
   "source": [
    "#### Renommage des séries \"population_x\" et \"population_y\" issues de la fusion des dataframes"
   ]
  },
  {
   "cell_type": "code",
   "execution_count": 77,
   "id": "3c30b376",
   "metadata": {},
   "outputs": [
    {
     "data": {
      "text/plain": [
       "Index(['pays', 'année', 'population_sousnut', 'population_totale'], dtype='object')"
      ]
     },
     "execution_count": 77,
     "metadata": {},
     "output_type": "execute_result"
    }
   ],
   "source": [
    "#renommage des séries \"population_x\" et \"population_y\"\n",
    "\n",
    "populations_sousnut.rename(\n",
    "    columns = {\n",
    "        \"population_x\":\"population_sousnut\",\n",
    "        \"population_y\":\"population_totale\"\n",
    "        },\n",
    "    inplace = True\n",
    ")\n",
    "\n",
    "#verification : \n",
    "populations_sousnut.columns"
   ]
  },
  {
   "cell_type": "markdown",
   "id": "9f2953c6",
   "metadata": {},
   "source": [
    "### Calcul de la proportion de la population en sous-nutrition :"
   ]
  },
  {
   "cell_type": "markdown",
   "id": "044f5e76",
   "metadata": {},
   "source": [
    "#### Création de la fonction \"calcul_proportion\" qui retournera le quotient de \"x\" sur \"y\"."
   ]
  },
  {
   "cell_type": "code",
   "execution_count": 78,
   "id": "2559b061",
   "metadata": {},
   "outputs": [],
   "source": [
    "def calcul_proportion (x,y):\n",
    "    return x/y"
   ]
  },
  {
   "cell_type": "markdown",
   "id": "d08badbb",
   "metadata": {},
   "source": [
    "#### Création de la série \"proportions\" dans le dataframe \"populations_sousnut\", qui sera issue de l'application de la fonction \"calcul_proportion\" \n",
    "#### la fonction \"lambda\" applique, ligne par ligne, l'arrondi du résultat  du quotient obtenu par l'exécution de la fonction \"calcul_proportion\" ( \"population_sousnut\"/\"population_totale\"). \n",
    "#### L'application de la valeur 1 à axis détermine l'application de la fonction à chaque ligne."
   ]
  },
  {
   "cell_type": "code",
   "execution_count": 79,
   "id": "2e71f724",
   "metadata": {},
   "outputs": [
    {
     "name": "stdout",
     "output_type": "stream",
     "text": [
      "             pays  année  population_sousnut  population_totale  proportions\n",
      "0     afghanistan   2013             8600000           36296113        23.69\n",
      "1     afghanistan   2014             8800000           36296113        24.25\n",
      "2     afghanistan   2015             8900000           36296113        24.52\n",
      "3     afghanistan   2016             9700000           36296113        26.72\n",
      "4     afghanistan   2017            10500000           36296113        28.93\n",
      "...           ...    ...                 ...                ...          ...\n",
      "1195     zimbabwe   2014                   0           14236595         0.00\n",
      "1196     zimbabwe   2015                   0           14236595         0.00\n",
      "1197     zimbabwe   2016                   0           14236595         0.00\n",
      "1198     zimbabwe   2017                   0           14236595         0.00\n",
      "1199     zimbabwe   2018                   0           14236595         0.00\n",
      "\n",
      "[1200 rows x 5 columns]\n"
     ]
    }
   ],
   "source": [
    "#calcul de la population sous-alimentée par pays \n",
    "def calcul_proportion (x,y):\n",
    "    return x/y\n",
    "\n",
    "populations_sousnut[\"proportions\"] = populations_sousnut.apply(lambda row:\n",
    "round( calcul_proportion(row[\"population_sousnut\"],row[\"population_totale\"])*100,2), axis=1) \n",
    "\n",
    "print(populations_sousnut)"
   ]
  },
  {
   "cell_type": "code",
   "execution_count": 80,
   "id": "362c7758",
   "metadata": {},
   "outputs": [],
   "source": [
    "pd.set_option(\"display.max_rows\",20)"
   ]
  },
  {
   "cell_type": "markdown",
   "id": "bcbc05c5",
   "metadata": {},
   "source": [
    "#### création du dataframe \"resultat\" pour ne garder que les données concernant 2017, avec affichage des séries \"pays\" et \"proportions\""
   ]
  },
  {
   "cell_type": "code",
   "execution_count": 81,
   "id": "e4a1fd52",
   "metadata": {},
   "outputs": [],
   "source": [
    "resultat=populations_sousnut.loc[(populations_sousnut[\"année\"]==2017),[\"pays\",\"proportions\"]].copy()"
   ]
  },
  {
   "cell_type": "markdown",
   "id": "18413e4a",
   "metadata": {},
   "source": [
    "#### regroupement, dans la variable \"valeurs_nulles\" des valeurs égales à zéro "
   ]
  },
  {
   "cell_type": "code",
   "execution_count": 82,
   "id": "33cb609b",
   "metadata": {},
   "outputs": [],
   "source": [
    "valeurs_nulles= resultat[resultat[\"proportions\"]==0.00].index"
   ]
  },
  {
   "cell_type": "markdown",
   "id": "178280b9",
   "metadata": {},
   "source": [
    "#### suppression des valeurs égales à zéro dans la série \"proportions\""
   ]
  },
  {
   "cell_type": "code",
   "execution_count": 83,
   "id": "b2f0fd03",
   "metadata": {},
   "outputs": [],
   "source": [
    "resultat.drop(valeurs_nulles, inplace=True)"
   ]
  },
  {
   "cell_type": "markdown",
   "id": "58607003",
   "metadata": {},
   "source": [
    "#### affichage des résultats de manière décroissante"
   ]
  },
  {
   "cell_type": "code",
   "execution_count": 84,
   "id": "993c6dce",
   "metadata": {},
   "outputs": [
    {
     "name": "stdout",
     "output_type": "stream",
     "text": [
      "                                pays  proportions\n",
      "310                        dominique        69.97\n",
      "472                            haïti        48.26\n",
      "934                    corée du nord        47.19\n",
      "976  saint vincent et les grenadines        45.53\n",
      "586                         kiribati        43.80\n",
      "..                               ...          ...\n",
      "22                           algérie         3.14\n",
      "802                      ouzbékistan         2.82\n",
      "178                         bulgarie         2.82\n",
      "640                macédoine du nord         2.40\n",
      "64                           arménie         1.70\n",
      "\n",
      "[102 rows x 2 columns]\n"
     ]
    }
   ],
   "source": [
    "print(resultat.sort_values(by=[\"proportions\"], ascending=False))"
   ]
  },
  {
   "cell_type": "markdown",
   "id": "33c37ff5",
   "metadata": {},
   "source": [
    "### 2.2.2 Pays ayant le plus bénéficié d'aides depuis 2013 (en milliers de tonnes)"
   ]
  },
  {
   "cell_type": "markdown",
   "id": "12490c04",
   "metadata": {},
   "source": [
    "#### Création du dataframe \"aide\" qui regroupera les sommes de la série \"tonnes\" du dataframe \"aides\", par pays"
   ]
  },
  {
   "cell_type": "code",
   "execution_count": 85,
   "id": "b750bca3",
   "metadata": {},
   "outputs": [
    {
     "name": "stdout",
     "output_type": "stream",
     "text": [
      "                tonnes\n",
      "pays                  \n",
      "syrie          1858943\n",
      "éthiopie       1381294\n",
      "yémen          1206484\n",
      "soudan du sud   695248\n",
      "soudan          669784\n",
      "...                ...\n",
      "égypte            1122\n",
      "vanuatu            802\n",
      "timor leste        116\n",
      "géorgie             70\n",
      "bolivie              6\n",
      "\n",
      "[76 rows x 1 columns]\n"
     ]
    }
   ],
   "source": [
    "aide=aides.groupby(\"pays\").sum()[[\"tonnes\"]].copy()\n",
    "print(aide.sort_values(by=[\"tonnes\"], ascending=False))"
   ]
  },
  {
   "cell_type": "markdown",
   "id": "c74a1c9e",
   "metadata": {},
   "source": [
    "### 2.2.3 Pays ayant le plus / moins de disponibilité par habitant"
   ]
  },
  {
   "cell_type": "markdown",
   "id": "df5ad869",
   "metadata": {},
   "source": [
    "### 2.2.3.1 en kcal/personnes/jour"
   ]
  },
  {
   "cell_type": "markdown",
   "id": "195adc2d",
   "metadata": {},
   "source": [
    "#### Création du dataframe \"dispo_pays_cal\" qui regroupe, par pays, la somme de la disponibilité alimentaire des produits par habitant"
   ]
  },
  {
   "cell_type": "code",
   "execution_count": 86,
   "id": "c29929fd",
   "metadata": {},
   "outputs": [
    {
     "data": {
      "text/html": [
       "<div>\n",
       "<style scoped>\n",
       "    .dataframe tbody tr th:only-of-type {\n",
       "        vertical-align: middle;\n",
       "    }\n",
       "\n",
       "    .dataframe tbody tr th {\n",
       "        vertical-align: top;\n",
       "    }\n",
       "\n",
       "    .dataframe thead th {\n",
       "        text-align: right;\n",
       "    }\n",
       "</style>\n",
       "<table border=\"1\" class=\"dataframe\">\n",
       "  <thead>\n",
       "    <tr style=\"text-align: right;\">\n",
       "      <th></th>\n",
       "      <th>calories(kcal/pers/jour)</th>\n",
       "    </tr>\n",
       "    <tr>\n",
       "      <th>pays</th>\n",
       "      <th></th>\n",
       "    </tr>\n",
       "  </thead>\n",
       "  <tbody>\n",
       "    <tr>\n",
       "      <th>autriche</th>\n",
       "      <td>3770.0</td>\n",
       "    </tr>\n",
       "    <tr>\n",
       "      <th>belgique</th>\n",
       "      <td>3737.0</td>\n",
       "    </tr>\n",
       "    <tr>\n",
       "      <th>turquie</th>\n",
       "      <td>3708.0</td>\n",
       "    </tr>\n",
       "    <tr>\n",
       "      <th>états unis d'amérique</th>\n",
       "      <td>3682.0</td>\n",
       "    </tr>\n",
       "    <tr>\n",
       "      <th>israël</th>\n",
       "      <td>3610.0</td>\n",
       "    </tr>\n",
       "    <tr>\n",
       "      <th>irlande</th>\n",
       "      <td>3602.0</td>\n",
       "    </tr>\n",
       "    <tr>\n",
       "      <th>italie</th>\n",
       "      <td>3578.0</td>\n",
       "    </tr>\n",
       "    <tr>\n",
       "      <th>luxembourg</th>\n",
       "      <td>3540.0</td>\n",
       "    </tr>\n",
       "    <tr>\n",
       "      <th>égypte</th>\n",
       "      <td>3518.0</td>\n",
       "    </tr>\n",
       "    <tr>\n",
       "      <th>allemagne</th>\n",
       "      <td>3503.0</td>\n",
       "    </tr>\n",
       "  </tbody>\n",
       "</table>\n",
       "</div>"
      ],
      "text/plain": [
       "                       calories(kcal/pers/jour)\n",
       "pays                                           \n",
       "autriche                                 3770.0\n",
       "belgique                                 3737.0\n",
       "turquie                                  3708.0\n",
       "états unis d'amérique                    3682.0\n",
       "israël                                   3610.0\n",
       "irlande                                  3602.0\n",
       "italie                                   3578.0\n",
       "luxembourg                               3540.0\n",
       "égypte                                   3518.0\n",
       "allemagne                                3503.0"
      ]
     },
     "execution_count": 86,
     "metadata": {},
     "output_type": "execute_result"
    }
   ],
   "source": [
    "#pays en disposant le plus\n",
    "dispo_pays_cal = dispo[[\"pays\",\"produit\",\"calories(kcal/pers/jour)\"]].groupby(\"pays\").sum()\n",
    "dispo_pays_cal.sort_values(by=\"calories(kcal/pers/jour)\", ascending=False).head(10)"
   ]
  },
  {
   "cell_type": "code",
   "execution_count": 87,
   "id": "bc24de02",
   "metadata": {},
   "outputs": [
    {
     "data": {
      "text/html": [
       "<div>\n",
       "<style scoped>\n",
       "    .dataframe tbody tr th:only-of-type {\n",
       "        vertical-align: middle;\n",
       "    }\n",
       "\n",
       "    .dataframe tbody tr th {\n",
       "        vertical-align: top;\n",
       "    }\n",
       "\n",
       "    .dataframe thead th {\n",
       "        text-align: right;\n",
       "    }\n",
       "</style>\n",
       "<table border=\"1\" class=\"dataframe\">\n",
       "  <thead>\n",
       "    <tr style=\"text-align: right;\">\n",
       "      <th></th>\n",
       "      <th>calories(kcal/pers/jour)</th>\n",
       "    </tr>\n",
       "    <tr>\n",
       "      <th>pays</th>\n",
       "      <th></th>\n",
       "    </tr>\n",
       "  </thead>\n",
       "  <tbody>\n",
       "    <tr>\n",
       "      <th>république centrafricaine</th>\n",
       "      <td>1879.0</td>\n",
       "    </tr>\n",
       "    <tr>\n",
       "      <th>zambie</th>\n",
       "      <td>1924.0</td>\n",
       "    </tr>\n",
       "    <tr>\n",
       "      <th>madagascar</th>\n",
       "      <td>2056.0</td>\n",
       "    </tr>\n",
       "    <tr>\n",
       "      <th>afghanistan</th>\n",
       "      <td>2087.0</td>\n",
       "    </tr>\n",
       "    <tr>\n",
       "      <th>haïti</th>\n",
       "      <td>2089.0</td>\n",
       "    </tr>\n",
       "    <tr>\n",
       "      <th>corée du nord</th>\n",
       "      <td>2093.0</td>\n",
       "    </tr>\n",
       "    <tr>\n",
       "      <th>tchad</th>\n",
       "      <td>2109.0</td>\n",
       "    </tr>\n",
       "    <tr>\n",
       "      <th>zimbabwe</th>\n",
       "      <td>2113.0</td>\n",
       "    </tr>\n",
       "    <tr>\n",
       "      <th>ouganda</th>\n",
       "      <td>2126.0</td>\n",
       "    </tr>\n",
       "    <tr>\n",
       "      <th>éthiopie</th>\n",
       "      <td>2129.0</td>\n",
       "    </tr>\n",
       "  </tbody>\n",
       "</table>\n",
       "</div>"
      ],
      "text/plain": [
       "                           calories(kcal/pers/jour)\n",
       "pays                                               \n",
       "république centrafricaine                    1879.0\n",
       "zambie                                       1924.0\n",
       "madagascar                                   2056.0\n",
       "afghanistan                                  2087.0\n",
       "haïti                                        2089.0\n",
       "corée du nord                                2093.0\n",
       "tchad                                        2109.0\n",
       "zimbabwe                                     2113.0\n",
       "ouganda                                      2126.0\n",
       "éthiopie                                     2129.0"
      ]
     },
     "execution_count": 87,
     "metadata": {},
     "output_type": "execute_result"
    }
   ],
   "source": [
    "#pays en disposant le moins\n",
    "dispo_pays_cal = dispo[[\"pays\",\"produit\",\"calories(kcal/pers/jour)\"]].groupby(\"pays\").sum()\n",
    "dispo_pays_cal.sort_values(by=\"calories(kcal/pers/jour)\").head(10)"
   ]
  },
  {
   "cell_type": "markdown",
   "id": "2cb69fba",
   "metadata": {},
   "source": [
    "#### 2.2.3.2 en g/pers/jour"
   ]
  },
  {
   "cell_type": "code",
   "execution_count": 88,
   "id": "4e4d312a",
   "metadata": {},
   "outputs": [
    {
     "data": {
      "text/html": [
       "<div>\n",
       "<style scoped>\n",
       "    .dataframe tbody tr th:only-of-type {\n",
       "        vertical-align: middle;\n",
       "    }\n",
       "\n",
       "    .dataframe tbody tr th {\n",
       "        vertical-align: top;\n",
       "    }\n",
       "\n",
       "    .dataframe thead th {\n",
       "        text-align: right;\n",
       "    }\n",
       "</style>\n",
       "<table border=\"1\" class=\"dataframe\">\n",
       "  <thead>\n",
       "    <tr style=\"text-align: right;\">\n",
       "      <th></th>\n",
       "      <th>qte(g/pers/jour)</th>\n",
       "    </tr>\n",
       "    <tr>\n",
       "      <th>pays</th>\n",
       "      <th></th>\n",
       "    </tr>\n",
       "  </thead>\n",
       "  <tbody>\n",
       "    <tr>\n",
       "      <th>monténégro</th>\n",
       "      <td>3316.19</td>\n",
       "    </tr>\n",
       "    <tr>\n",
       "      <th>luxembourg</th>\n",
       "      <td>3152.49</td>\n",
       "    </tr>\n",
       "    <tr>\n",
       "      <th>irlande</th>\n",
       "      <td>3151.10</td>\n",
       "    </tr>\n",
       "    <tr>\n",
       "      <th>albanie</th>\n",
       "      <td>3001.48</td>\n",
       "    </tr>\n",
       "    <tr>\n",
       "      <th>finlande</th>\n",
       "      <td>2996.63</td>\n",
       "    </tr>\n",
       "    <tr>\n",
       "      <th>grèce</th>\n",
       "      <td>2933.97</td>\n",
       "    </tr>\n",
       "    <tr>\n",
       "      <th>pays bas</th>\n",
       "      <td>2929.37</td>\n",
       "    </tr>\n",
       "    <tr>\n",
       "      <th>autriche</th>\n",
       "      <td>2929.32</td>\n",
       "    </tr>\n",
       "    <tr>\n",
       "      <th>lituanie</th>\n",
       "      <td>2876.90</td>\n",
       "    </tr>\n",
       "    <tr>\n",
       "      <th>danemark</th>\n",
       "      <td>2824.77</td>\n",
       "    </tr>\n",
       "  </tbody>\n",
       "</table>\n",
       "</div>"
      ],
      "text/plain": [
       "            qte(g/pers/jour)\n",
       "pays                        \n",
       "monténégro           3316.19\n",
       "luxembourg           3152.49\n",
       "irlande              3151.10\n",
       "albanie              3001.48\n",
       "finlande             2996.63\n",
       "grèce                2933.97\n",
       "pays bas             2929.37\n",
       "autriche             2929.32\n",
       "lituanie             2876.90\n",
       "danemark             2824.77"
      ]
     },
     "execution_count": 88,
     "metadata": {},
     "output_type": "execute_result"
    }
   ],
   "source": [
    "#pays en disposant le plus\n",
    "dispo_pays_qte = round(dispo[[\"pays\",\"produit\",\"qte(g/pers/jour)\"]].groupby(\"pays\").sum(),2)\n",
    "dispo_pays_qte.sort_values(by=\"qte(g/pers/jour)\", ascending=False).head(10)"
   ]
  },
  {
   "cell_type": "code",
   "execution_count": 89,
   "id": "0eacd6cc",
   "metadata": {},
   "outputs": [
    {
     "data": {
      "text/html": [
       "<div>\n",
       "<style scoped>\n",
       "    .dataframe tbody tr th:only-of-type {\n",
       "        vertical-align: middle;\n",
       "    }\n",
       "\n",
       "    .dataframe tbody tr th {\n",
       "        vertical-align: top;\n",
       "    }\n",
       "\n",
       "    .dataframe thead th {\n",
       "        text-align: right;\n",
       "    }\n",
       "</style>\n",
       "<table border=\"1\" class=\"dataframe\">\n",
       "  <thead>\n",
       "    <tr style=\"text-align: right;\">\n",
       "      <th></th>\n",
       "      <th>qte(g/pers/jour)</th>\n",
       "    </tr>\n",
       "    <tr>\n",
       "      <th>pays</th>\n",
       "      <th></th>\n",
       "    </tr>\n",
       "  </thead>\n",
       "  <tbody>\n",
       "    <tr>\n",
       "      <th>tchad</th>\n",
       "      <td>875.21</td>\n",
       "    </tr>\n",
       "    <tr>\n",
       "      <th>zimbabwe</th>\n",
       "      <td>922.16</td>\n",
       "    </tr>\n",
       "    <tr>\n",
       "      <th>zambie</th>\n",
       "      <td>959.23</td>\n",
       "    </tr>\n",
       "    <tr>\n",
       "      <th>afghanistan</th>\n",
       "      <td>962.77</td>\n",
       "    </tr>\n",
       "    <tr>\n",
       "      <th>éthiopie</th>\n",
       "      <td>971.37</td>\n",
       "    </tr>\n",
       "    <tr>\n",
       "      <th>guinée bissau</th>\n",
       "      <td>982.14</td>\n",
       "    </tr>\n",
       "    <tr>\n",
       "      <th>bangladesh</th>\n",
       "      <td>998.74</td>\n",
       "    </tr>\n",
       "    <tr>\n",
       "      <th>timor leste</th>\n",
       "      <td>1011.23</td>\n",
       "    </tr>\n",
       "    <tr>\n",
       "      <th>yémen</th>\n",
       "      <td>1028.52</td>\n",
       "    </tr>\n",
       "    <tr>\n",
       "      <th>sénégal</th>\n",
       "      <td>1032.11</td>\n",
       "    </tr>\n",
       "  </tbody>\n",
       "</table>\n",
       "</div>"
      ],
      "text/plain": [
       "               qte(g/pers/jour)\n",
       "pays                           \n",
       "tchad                    875.21\n",
       "zimbabwe                 922.16\n",
       "zambie                   959.23\n",
       "afghanistan              962.77\n",
       "éthiopie                 971.37\n",
       "guinée bissau            982.14\n",
       "bangladesh               998.74\n",
       "timor leste             1011.23\n",
       "yémen                   1028.52\n",
       "sénégal                 1032.11"
      ]
     },
     "execution_count": 89,
     "metadata": {},
     "output_type": "execute_result"
    }
   ],
   "source": [
    "#pays en disposant le moins\n",
    "dispo_pays_qte = round(dispo[[\"pays\",\"produit\",\"qte(g/pers/jour)\"]].groupby(\"pays\").sum(),2)\n",
    "dispo_pays_qte.sort_values(by=\"qte(g/pers/jour)\").head(10)"
   ]
  },
  {
   "cell_type": "markdown",
   "id": "19a445c6",
   "metadata": {},
   "source": [
    "#### 2.2.3.3 en lipides (g/pers/jour)"
   ]
  },
  {
   "cell_type": "code",
   "execution_count": 90,
   "id": "66224d85",
   "metadata": {},
   "outputs": [
    {
     "data": {
      "text/html": [
       "<div>\n",
       "<style scoped>\n",
       "    .dataframe tbody tr th:only-of-type {\n",
       "        vertical-align: middle;\n",
       "    }\n",
       "\n",
       "    .dataframe tbody tr th {\n",
       "        vertical-align: top;\n",
       "    }\n",
       "\n",
       "    .dataframe thead th {\n",
       "        text-align: right;\n",
       "    }\n",
       "</style>\n",
       "<table border=\"1\" class=\"dataframe\">\n",
       "  <thead>\n",
       "    <tr style=\"text-align: right;\">\n",
       "      <th></th>\n",
       "      <th>lipides(g/pers/jour)</th>\n",
       "    </tr>\n",
       "    <tr>\n",
       "      <th>pays</th>\n",
       "      <th></th>\n",
       "    </tr>\n",
       "  </thead>\n",
       "  <tbody>\n",
       "    <tr>\n",
       "      <th>autriche</th>\n",
       "      <td>170.44</td>\n",
       "    </tr>\n",
       "    <tr>\n",
       "      <th>belgique</th>\n",
       "      <td>161.95</td>\n",
       "    </tr>\n",
       "    <tr>\n",
       "      <th>états unis d'amérique</th>\n",
       "      <td>161.37</td>\n",
       "    </tr>\n",
       "    <tr>\n",
       "      <th>france</th>\n",
       "      <td>159.15</td>\n",
       "    </tr>\n",
       "    <tr>\n",
       "      <th>italie</th>\n",
       "      <td>154.69</td>\n",
       "    </tr>\n",
       "    <tr>\n",
       "      <th>suisse</th>\n",
       "      <td>153.35</td>\n",
       "    </tr>\n",
       "    <tr>\n",
       "      <th>israël</th>\n",
       "      <td>151.39</td>\n",
       "    </tr>\n",
       "    <tr>\n",
       "      <th>islande</th>\n",
       "      <td>151.35</td>\n",
       "    </tr>\n",
       "    <tr>\n",
       "      <th>australie</th>\n",
       "      <td>150.81</td>\n",
       "    </tr>\n",
       "    <tr>\n",
       "      <th>norvège</th>\n",
       "      <td>148.96</td>\n",
       "    </tr>\n",
       "  </tbody>\n",
       "</table>\n",
       "</div>"
      ],
      "text/plain": [
       "                       lipides(g/pers/jour)\n",
       "pays                                       \n",
       "autriche                             170.44\n",
       "belgique                             161.95\n",
       "états unis d'amérique                161.37\n",
       "france                               159.15\n",
       "italie                               154.69\n",
       "suisse                               153.35\n",
       "israël                               151.39\n",
       "islande                              151.35\n",
       "australie                            150.81\n",
       "norvège                              148.96"
      ]
     },
     "execution_count": 90,
     "metadata": {},
     "output_type": "execute_result"
    }
   ],
   "source": [
    "#pays en disposant le plus\n",
    "dispo_pays_lip = dispo[[\"pays\",\"produit\",\"lipides(g/pers/jour)\"]].groupby(\"pays\").sum()\n",
    "dispo_pays_lip.sort_values(by=\"lipides(g/pers/jour)\",ascending=False).head(10)"
   ]
  },
  {
   "cell_type": "code",
   "execution_count": 91,
   "id": "fad839d3",
   "metadata": {},
   "outputs": [
    {
     "data": {
      "text/html": [
       "<div>\n",
       "<style scoped>\n",
       "    .dataframe tbody tr th:only-of-type {\n",
       "        vertical-align: middle;\n",
       "    }\n",
       "\n",
       "    .dataframe tbody tr th {\n",
       "        vertical-align: top;\n",
       "    }\n",
       "\n",
       "    .dataframe thead th {\n",
       "        text-align: right;\n",
       "    }\n",
       "</style>\n",
       "<table border=\"1\" class=\"dataframe\">\n",
       "  <thead>\n",
       "    <tr style=\"text-align: right;\">\n",
       "      <th></th>\n",
       "      <th>lipides(g/pers/jour)</th>\n",
       "    </tr>\n",
       "    <tr>\n",
       "      <th>pays</th>\n",
       "      <th></th>\n",
       "    </tr>\n",
       "  </thead>\n",
       "  <tbody>\n",
       "    <tr>\n",
       "      <th>rwanda</th>\n",
       "      <td>23.77</td>\n",
       "    </tr>\n",
       "    <tr>\n",
       "      <th>madagascar</th>\n",
       "      <td>24.49</td>\n",
       "    </tr>\n",
       "    <tr>\n",
       "      <th>éthiopie</th>\n",
       "      <td>25.89</td>\n",
       "    </tr>\n",
       "    <tr>\n",
       "      <th>bangladesh</th>\n",
       "      <td>29.92</td>\n",
       "    </tr>\n",
       "    <tr>\n",
       "      <th>lesotho</th>\n",
       "      <td>32.26</td>\n",
       "    </tr>\n",
       "    <tr>\n",
       "      <th>afghanistan</th>\n",
       "      <td>33.50</td>\n",
       "    </tr>\n",
       "    <tr>\n",
       "      <th>cambodge</th>\n",
       "      <td>35.93</td>\n",
       "    </tr>\n",
       "    <tr>\n",
       "      <th>corée du nord</th>\n",
       "      <td>36.41</td>\n",
       "    </tr>\n",
       "    <tr>\n",
       "      <th>laos</th>\n",
       "      <td>38.86</td>\n",
       "    </tr>\n",
       "    <tr>\n",
       "      <th>malawi</th>\n",
       "      <td>41.17</td>\n",
       "    </tr>\n",
       "  </tbody>\n",
       "</table>\n",
       "</div>"
      ],
      "text/plain": [
       "               lipides(g/pers/jour)\n",
       "pays                               \n",
       "rwanda                        23.77\n",
       "madagascar                    24.49\n",
       "éthiopie                      25.89\n",
       "bangladesh                    29.92\n",
       "lesotho                       32.26\n",
       "afghanistan                   33.50\n",
       "cambodge                      35.93\n",
       "corée du nord                 36.41\n",
       "laos                          38.86\n",
       "malawi                        41.17"
      ]
     },
     "execution_count": 91,
     "metadata": {},
     "output_type": "execute_result"
    }
   ],
   "source": [
    "#pays en disposant le moins\n",
    "dispo_pays_lip = dispo[[\"pays\",\"produit\",\"lipides(g/pers/jour)\"]].groupby(\"pays\").sum()\n",
    "dispo_pays_lip.sort_values(by=\"lipides(g/pers/jour)\").head(10)"
   ]
  },
  {
   "cell_type": "markdown",
   "id": "d14e7f03",
   "metadata": {},
   "source": [
    "#### 2.2.3.4 en proteines (g/pers/jour)"
   ]
  },
  {
   "cell_type": "code",
   "execution_count": 92,
   "id": "1fc0104a",
   "metadata": {},
   "outputs": [
    {
     "data": {
      "text/html": [
       "<div>\n",
       "<style scoped>\n",
       "    .dataframe tbody tr th:only-of-type {\n",
       "        vertical-align: middle;\n",
       "    }\n",
       "\n",
       "    .dataframe tbody tr th {\n",
       "        vertical-align: top;\n",
       "    }\n",
       "\n",
       "    .dataframe thead th {\n",
       "        text-align: right;\n",
       "    }\n",
       "</style>\n",
       "<table border=\"1\" class=\"dataframe\">\n",
       "  <thead>\n",
       "    <tr style=\"text-align: right;\">\n",
       "      <th></th>\n",
       "      <th>proteines(g/pers/jour)</th>\n",
       "    </tr>\n",
       "    <tr>\n",
       "      <th>pays</th>\n",
       "      <th></th>\n",
       "    </tr>\n",
       "  </thead>\n",
       "  <tbody>\n",
       "    <tr>\n",
       "      <th>islande</th>\n",
       "      <td>133.06</td>\n",
       "    </tr>\n",
       "    <tr>\n",
       "      <th>chine_hong-kong</th>\n",
       "      <td>129.07</td>\n",
       "    </tr>\n",
       "    <tr>\n",
       "      <th>israël</th>\n",
       "      <td>128.00</td>\n",
       "    </tr>\n",
       "    <tr>\n",
       "      <th>lituanie</th>\n",
       "      <td>124.36</td>\n",
       "    </tr>\n",
       "    <tr>\n",
       "      <th>maldives</th>\n",
       "      <td>122.32</td>\n",
       "    </tr>\n",
       "    <tr>\n",
       "      <th>finlande</th>\n",
       "      <td>117.56</td>\n",
       "    </tr>\n",
       "    <tr>\n",
       "      <th>luxembourg</th>\n",
       "      <td>113.64</td>\n",
       "    </tr>\n",
       "    <tr>\n",
       "      <th>monténégro</th>\n",
       "      <td>111.90</td>\n",
       "    </tr>\n",
       "    <tr>\n",
       "      <th>pays bas</th>\n",
       "      <td>111.46</td>\n",
       "    </tr>\n",
       "    <tr>\n",
       "      <th>albanie</th>\n",
       "      <td>111.37</td>\n",
       "    </tr>\n",
       "  </tbody>\n",
       "</table>\n",
       "</div>"
      ],
      "text/plain": [
       "                 proteines(g/pers/jour)\n",
       "pays                                   \n",
       "islande                          133.06\n",
       "chine_hong-kong                  129.07\n",
       "israël                           128.00\n",
       "lituanie                         124.36\n",
       "maldives                         122.32\n",
       "finlande                         117.56\n",
       "luxembourg                       113.64\n",
       "monténégro                       111.90\n",
       "pays bas                         111.46\n",
       "albanie                          111.37"
      ]
     },
     "execution_count": 92,
     "metadata": {},
     "output_type": "execute_result"
    }
   ],
   "source": [
    "#pays en disposant le plus\n",
    "dispo_pays_prot = dispo[[\"pays\",\"produit\",\"proteines(g/pers/jour)\"]].groupby(\"pays\").sum()\n",
    "dispo_pays_prot.sort_values(by=\"proteines(g/pers/jour)\",ascending=False).head(10)"
   ]
  },
  {
   "cell_type": "code",
   "execution_count": 93,
   "id": "78e94b56",
   "metadata": {},
   "outputs": [
    {
     "data": {
      "text/html": [
       "<div>\n",
       "<style scoped>\n",
       "    .dataframe tbody tr th:only-of-type {\n",
       "        vertical-align: middle;\n",
       "    }\n",
       "\n",
       "    .dataframe tbody tr th {\n",
       "        vertical-align: top;\n",
       "    }\n",
       "\n",
       "    .dataframe thead th {\n",
       "        text-align: right;\n",
       "    }\n",
       "</style>\n",
       "<table border=\"1\" class=\"dataframe\">\n",
       "  <thead>\n",
       "    <tr style=\"text-align: right;\">\n",
       "      <th></th>\n",
       "      <th>proteines(g/pers/jour)</th>\n",
       "    </tr>\n",
       "    <tr>\n",
       "      <th>pays</th>\n",
       "      <th></th>\n",
       "    </tr>\n",
       "  </thead>\n",
       "  <tbody>\n",
       "    <tr>\n",
       "      <th>libéria</th>\n",
       "      <td>37.66</td>\n",
       "    </tr>\n",
       "    <tr>\n",
       "      <th>guinée bissau</th>\n",
       "      <td>44.05</td>\n",
       "    </tr>\n",
       "    <tr>\n",
       "      <th>mozambique</th>\n",
       "      <td>45.68</td>\n",
       "    </tr>\n",
       "    <tr>\n",
       "      <th>république centrafricaine</th>\n",
       "      <td>46.04</td>\n",
       "    </tr>\n",
       "    <tr>\n",
       "      <th>madagascar</th>\n",
       "      <td>46.69</td>\n",
       "    </tr>\n",
       "    <tr>\n",
       "      <th>haïti</th>\n",
       "      <td>47.70</td>\n",
       "    </tr>\n",
       "    <tr>\n",
       "      <th>zimbabwe</th>\n",
       "      <td>48.32</td>\n",
       "    </tr>\n",
       "    <tr>\n",
       "      <th>congo</th>\n",
       "      <td>51.41</td>\n",
       "    </tr>\n",
       "    <tr>\n",
       "      <th>ouganda</th>\n",
       "      <td>52.64</td>\n",
       "    </tr>\n",
       "    <tr>\n",
       "      <th>sao tomé et principe</th>\n",
       "      <td>53.10</td>\n",
       "    </tr>\n",
       "  </tbody>\n",
       "</table>\n",
       "</div>"
      ],
      "text/plain": [
       "                           proteines(g/pers/jour)\n",
       "pays                                             \n",
       "libéria                                     37.66\n",
       "guinée bissau                               44.05\n",
       "mozambique                                  45.68\n",
       "république centrafricaine                   46.04\n",
       "madagascar                                  46.69\n",
       "haïti                                       47.70\n",
       "zimbabwe                                    48.32\n",
       "congo                                       51.41\n",
       "ouganda                                     52.64\n",
       "sao tomé et principe                        53.10"
      ]
     },
     "execution_count": 93,
     "metadata": {},
     "output_type": "execute_result"
    }
   ],
   "source": [
    "#pays en disposant le moins\n",
    "dispo_pays_prot = dispo[[\"pays\",\"produit\",\"proteines(g/pers/jour)\"]].groupby(\"pays\").sum()\n",
    "dispo_pays_prot.sort_values(by=\"proteines(g/pers/jour)\").head(10)"
   ]
  },
  {
   "cell_type": "markdown",
   "id": "4e00757d",
   "metadata": {},
   "source": [
    "### 2.3 demandes de Julien"
   ]
  },
  {
   "cell_type": "markdown",
   "id": "04b084fd",
   "metadata": {},
   "source": [
    "### 2.3.1 répartition entre l'alimentation humaine et animale"
   ]
  },
  {
   "cell_type": "markdown",
   "id": "104758a5",
   "metadata": {},
   "source": [
    "#### Création d'une liste reprenant les produits alimentaires céréaliers présents dans la base de données de la F.A.O"
   ]
  },
  {
   "cell_type": "code",
   "execution_count": 94,
   "id": "96630b08",
   "metadata": {},
   "outputs": [],
   "source": [
    "liste_cereales = [\"Blé\",\"Riz (Eq Blanchi)\",\"Orge\", \"Maïs\",\"Seigle\",\"avoine\",\"Millet\", \"Sorgho\", \"Céréales, Autres\",\"Sésame\"]"
   ]
  },
  {
   "cell_type": "markdown",
   "id": "42aa7087",
   "metadata": {},
   "source": [
    "#### création du dataframe \"cereales\" ne contenant que les informations des céréales présents dans la liste \"liste_cereales\""
   ]
  },
  {
   "cell_type": "code",
   "execution_count": 95,
   "id": "4ba69184",
   "metadata": {},
   "outputs": [],
   "source": [
    "cereales = dispo.loc[dispo[\"produit\"].isin(liste_cereales),:]"
   ]
  },
  {
   "cell_type": "markdown",
   "id": "a2de74a8",
   "metadata": {},
   "source": [
    "#### Création de la variable \"resultat_animal\" qui , par l'arrondi du quotient des sommes des aliments pour animaux sur la diponibilité intérieurs, donnera la proportion que représente la production d'aliments destinés aux animaux"
   ]
  },
  {
   "cell_type": "code",
   "execution_count": 96,
   "id": "2074d5b9",
   "metadata": {},
   "outputs": [
    {
     "name": "stdout",
     "output_type": "stream",
     "text": [
      "proportion d'alimentation animale: 35.9 %\n"
     ]
    }
   ],
   "source": [
    "resultat_animal =round(cereales[\"aliments_animaux\"].sum()/cereales[\"dispo_inter\"].sum()*100,2)\n",
    "print(\"proportion d'alimentation animale:\",resultat_animal,\"%\")"
   ]
  },
  {
   "cell_type": "markdown",
   "id": "f2e7fea6",
   "metadata": {},
   "source": [
    "#### Procédé identique que le précédent, pour l'alimentation humaine, cette fois-ci"
   ]
  },
  {
   "cell_type": "code",
   "execution_count": 97,
   "id": "c538a4d3",
   "metadata": {},
   "outputs": [
    {
     "name": "stdout",
     "output_type": "stream",
     "text": [
      "proportion d'alimentation humaine: 42.99 %\n"
     ]
    }
   ],
   "source": [
    "resultat_nourriture = round(cereales[\"nourriture*1000t\"].sum()*100/cereales[\"dispo_inter\"].sum(),2)\n",
    "print(\"proportion d'alimentation humaine:\",resultat_nourriture,\"%\")"
   ]
  },
  {
   "cell_type": "markdown",
   "id": "efea3f33",
   "metadata": {},
   "source": [
    "### 2.3.2 manioc Thaïlande"
   ]
  },
  {
   "cell_type": "markdown",
   "id": "0f7ebfd3",
   "metadata": {},
   "source": [
    "### 2.3.2.1 proportion de la population souffrant de sous-nutrition en thaïlande pour l'année 2018 :"
   ]
  },
  {
   "cell_type": "code",
   "execution_count": 98,
   "id": "18390d8b",
   "metadata": {},
   "outputs": [
    {
     "name": "stdout",
     "output_type": "stream",
     "text": [
      "proportion de la population en état de sous-nutrition en Thaïlande : 9.36 %\n"
     ]
    }
   ],
   "source": [
    "#sélection de la thaïlande dans le dataframe \"sousnut\"\n",
    "thai_sounut = sousnut.loc[sousnut[\"pays\"] == \"thaïlande\",:]\n",
    "\n",
    "#sélection de la thaïlande dans le dataframe \"populations\"\n",
    "thai_pop = populations.loc[populations[\"pays\"]  == \"thaïlande\",:]\n",
    "\n",
    "#calcul de la proportion de sous-nutrition / population, arrondi à 2 décimales.\n",
    "#sélection de la ligne ayant l'indice 5 (correspondant à 2018) sur les df \"thai_sounut\" et \"thai_pop\"\n",
    "resultat_thai_sounut = round(thai_sounut[\"population\"].iloc[5]*100 / thai_pop[\"population\"].iloc[5],2)\n",
    "print (\"proportion de la population en état de sous-nutrition en Thaïlande :\", resultat_thai_sounut , \"%\")"
   ]
  },
  {
   "cell_type": "markdown",
   "id": "5f2036f0",
   "metadata": {},
   "source": [
    "### 2.3.2.2 proportion de manioc exporté"
   ]
  },
  {
   "cell_type": "code",
   "execution_count": 99,
   "id": "136bf9d0",
   "metadata": {},
   "outputs": [
    {
     "name": "stdout",
     "output_type": "stream",
     "text": [
      "proportion de manioc exporté :  83.41 %\n"
     ]
    }
   ],
   "source": [
    "thai_manioc = dispo.loc[(dispo[\"produit\"]== \"Manioc\")&(dispo[\"pays\"]==\"thaïlande\"),[\"export*1000t\",\"production*1000t\"]].copy()\n",
    "thai_manioc[\"proportion_export\"] = round((thai_manioc[\"export*1000t\"])*100/(thai_manioc[\"production*1000t\"]),2)\n",
    "resultat_thai_manioc=thai_manioc[\"proportion_export\"].sum()\n",
    "print(\"proportion de manioc exporté : \", resultat_thai_manioc , \"%\")"
   ]
  },
  {
   "cell_type": "markdown",
   "id": "4343359e",
   "metadata": {},
   "source": [
    "### On peut remarquer qu'une très grosse proportion de la production de manioc est exportée, alors que près de 10% de la population Thaïlandaise souffre de sous-nutrition."
   ]
  },
  {
   "cell_type": "markdown",
   "id": "b51ba047",
   "metadata": {},
   "source": [
    "### 2.3.3 lien logique entre les 10 variables"
   ]
  },
  {
   "cell_type": "markdown",
   "id": "40a8a261",
   "metadata": {},
   "source": [
    "#### Equation à 3 termes de type (A1+A2+[...]= B1+B2+[...]= C1+C2+[...]) faisant intervenir chacune des quantités données."
   ]
  },
  {
   "cell_type": "raw",
   "id": "9a15f8a9",
   "metadata": {},
   "source": [
    "Disponibilité intérieure = production + importations- exportations + variation des stocks = nourriture + aliments pour animaux + semences + traitement + autres utilisations + pertes"
   ]
  },
  {
   "cell_type": "markdown",
   "id": "7478f6b3",
   "metadata": {},
   "source": [
    "### 2.3.3.1 création d'un dataframe \"france_ble\" pour vérification des données:"
   ]
  },
  {
   "cell_type": "code",
   "execution_count": 100,
   "id": "adc83d21",
   "metadata": {},
   "outputs": [
    {
     "data": {
      "text/plain": [
       "pays                            france\n",
       "produit                            Blé\n",
       "origine                       vegetale\n",
       "aliments_animaux                7822.0\n",
       "autres_utilisations             2824.0\n",
       "calories(kcal/pers/jour)         811.0\n",
       "qte(g/pers/jour)            297.068493\n",
       "lipides(g/pers/jour)               4.2\n",
       "proteines(g/pers/jour)           25.99\n",
       "dispo_inter                    20298.0\n",
       "export*1000t                   21502.0\n",
       "import*1000t                    2055.0\n",
       "nourriture*1000t                6971.0\n",
       "pertes*1000t                     358.0\n",
       "production*1000t               38614.0\n",
       "semences*1000t                   748.0\n",
       "traitement*1000t                1575.0\n",
       "variation_stock*1000t           1131.0\n",
       "dtype: object"
      ]
     },
     "execution_count": 100,
     "metadata": {},
     "output_type": "execute_result"
    }
   ],
   "source": [
    "france_ble = dispo[(dispo[\"pays\"] == \"france\") & (dispo[\"produit\"] == \"Blé\")].sum()\n",
    "france_ble"
   ]
  },
  {
   "cell_type": "markdown",
   "id": "e8cf6359",
   "metadata": {},
   "source": [
    "### 2.3.3.2 premier terme de l'équation : disponibilté intérieure"
   ]
  },
  {
   "cell_type": "code",
   "execution_count": 101,
   "id": "5bf41204",
   "metadata": {},
   "outputs": [
    {
     "name": "stdout",
     "output_type": "stream",
     "text": [
      "disponibilité intérieure en milliers de tonnes.v1 : 20298.0\n"
     ]
    }
   ],
   "source": [
    "dispo_interieure1 = france_ble[\"dispo_inter\"].sum()\n",
    "print(\"disponibilité intérieure en milliers de tonnes.v1 :\", dispo_interieure1)"
   ]
  },
  {
   "cell_type": "markdown",
   "id": "73358afa",
   "metadata": {},
   "source": [
    "### 2.3.3.3 second terme de l'équation"
   ]
  },
  {
   "cell_type": "code",
   "execution_count": 102,
   "id": "6ab9fb46",
   "metadata": {},
   "outputs": [
    {
     "name": "stdout",
     "output_type": "stream",
     "text": [
      "disponibilité intérieure en milliers de tonnes.v2 : 20298\n"
     ]
    }
   ],
   "source": [
    "dispo_interieure2 = (int(france_ble[\"production*1000t\"])\n",
    "                     + int(france_ble[\"import*1000t\"])\n",
    "                     - int(france_ble[\"export*1000t\"])\n",
    "                     + int(france_ble[\"variation_stock*1000t\"]))\n",
    "\n",
    "print(\"disponibilité intérieure en milliers de tonnes.v2 :\", dispo_interieure2)"
   ]
  },
  {
   "cell_type": "markdown",
   "id": "116e2e85",
   "metadata": {},
   "source": [
    "### 2.3.3.4 troisieme terme de l'équation "
   ]
  },
  {
   "cell_type": "code",
   "execution_count": 103,
   "id": "44325d39",
   "metadata": {},
   "outputs": [
    {
     "name": "stdout",
     "output_type": "stream",
     "text": [
      "disponibilité intérieure en milliers de tonnes.v3 : 20298\n"
     ]
    }
   ],
   "source": [
    "dispo_interieure3 = (int(france_ble[\"nourriture*1000t\"])\n",
    "                     + int(france_ble[\"aliments_animaux\"])\n",
    "                     + int(france_ble[\"semences*1000t\"])\n",
    "                     + int(france_ble[\"traitement*1000t\"])\n",
    "                     + int(france_ble[\"autres_utilisations\"])\n",
    "                     + int(france_ble[\"pertes*1000t\"]))\n",
    "\n",
    "print(\"disponibilité intérieure en milliers de tonnes.v3 :\", dispo_interieure3)\n"
   ]
  }
 ],
 "metadata": {
  "kernelspec": {
   "display_name": "Python 3 (ipykernel)",
   "language": "python",
   "name": "python3"
  },
  "language_info": {
   "codemirror_mode": {
    "name": "ipython",
    "version": 3
   },
   "file_extension": ".py",
   "mimetype": "text/x-python",
   "name": "python",
   "nbconvert_exporter": "python",
   "pygments_lexer": "ipython3",
   "version": "3.9.13"
  }
 },
 "nbformat": 4,
 "nbformat_minor": 5
}
